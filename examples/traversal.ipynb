{
 "cells": [
  {
   "cell_type": "code",
   "execution_count": 1,
   "id": "a7f816f9",
   "metadata": {},
   "outputs": [],
   "source": [
    "# for stable version \n",
    "# pip install invana\n",
    "\n",
    "# for installation specific branch\n",
    "#pip install git+https://github.com/invana/invana@refactor/invana-connectors#egg=invana\n",
    "\n",
    "# for latest code \n",
    "import sys\n",
    "sys.path.append(\"../\")"
   ]
  },
  {
   "cell_type": "code",
   "execution_count": 2,
   "id": "7e47376d",
   "metadata": {},
   "outputs": [
    {
     "name": "stderr",
     "output_type": "stream",
     "text": [
      "[DEBUG:2023-03-10 17:14:52,608:connector.update_connection_state:61] - GraphConnector state updated to : CONNECTING\n",
      "[DEBUG:2023-03-10 17:14:52,609:connector._init_connection:99] - create driver connection  \n",
      "[DEBUG:2023-03-10 17:14:53,615:connector.update_connection_state:61] - GraphConnector state updated to : CONNECTED\n"
     ]
    }
   ],
   "source": [
    "from invana import InvanaGraph\n",
    "\n",
    "gremlin_server_url = \"ws://megamind.local:8182/gremlin\"\n",
    "graph = InvanaGraph(gremlin_server_url)"
   ]
  },
  {
   "cell_type": "code",
   "execution_count": 3,
   "id": "806633a6",
   "metadata": {},
   "outputs": [],
   "source": [
    "from invana.ogm.models import VertexModel, EdgeModel\n",
    "from invana.ogm.fields import StringProperty, DateTimeProperty, IntegerProperty, FloatProperty, BooleanProperty\n",
    "from invana.ogm import indexes\n",
    "from datetime import datetime\n",
    "\n",
    "\n",
    "class Person(VertexModel):\n",
    "    graph = graph\n",
    "    properties = {\n",
    "        'first_name': StringProperty(max_length=30, trim_whitespaces=True),\n",
    "        'is_active': BooleanProperty(default=True),\n",
    "        'created_at': DateTimeProperty(default=lambda: datetime.now())\n",
    "    }\n",
    "\n",
    "class Roles(VertexModel):\n",
    "    graph = graph\n",
    "    properties = {\n",
    "        'name': StringProperty()\n",
    "    }\n",
    "\n",
    "class Programming(VertexModel):\n",
    "    graph = graph\n",
    "    properties = {\n",
    "        'name': StringProperty(min_length=2, trim_whitespaces=True)\n",
    "    }\n",
    "    \n",
    "class Game(VertexModel):\n",
    "    graph = graph\n",
    "    properties = {\n",
    "        'name': StringProperty(min_length=2, trim_whitespaces=True)\n",
    "    }\n",
    "        \n",
    "class HasSkill(EdgeModel):\n",
    "    graph = graph\n",
    "    properties = {\n",
    "        'created_at': DateTimeProperty(default=lambda: datetime.now())\n",
    "    }\n",
    "\n",
    "class HasRole(EdgeModel):\n",
    "    graph = graph\n",
    "    properties = {\n",
    "        'created_at': DateTimeProperty(default=lambda: datetime.now())\n",
    "    }\n",
    "    \n",
    "    "
   ]
  },
  {
   "cell_type": "code",
   "execution_count": 4,
   "id": "0e5df2a2",
   "metadata": {},
   "outputs": [
    {
     "name": "stdout",
     "output_type": "stream",
     "text": [
      "40988728\n"
     ]
    }
   ],
   "source": [
    "p = Person.objects.create(first_name=\"rrmerugu\")\n",
    "print(p.id)"
   ]
  },
  {
   "cell_type": "code",
   "execution_count": 5,
   "id": "26805ddf",
   "metadata": {},
   "outputs": [
    {
     "name": "stdout",
     "output_type": "stream",
     "text": [
      "Created data\n"
     ]
    }
   ],
   "source": [
    "create_data = True\n",
    "\n",
    "if create_data is True:\n",
    "    Person.objects.delete()\n",
    "    Programming.objects.delete()\n",
    "    Game.objects.delete()\n",
    "    HasSkill.objects.delete()\n",
    "    HasRole.objects.delete()\n",
    "\n",
    "    p = Person.objects.create(first_name=\"rrmerugu\")\n",
    "\n",
    "    _, django = Programming.objects.get_or_create(name=\"Django\")\n",
    "    _, python = Programming.objects.get_or_create(name=\"Python\")\n",
    "    _, neo4j = Programming.objects.get_or_create(name=\"neo4j\")\n",
    "    _, janusgraph = Programming.objects.get_or_create(name=\"Janusgraph\")\n",
    "\n",
    "    HasSkill.objects.get_or_create(p.id, django.id)\n",
    "    HasSkill.objects.get_or_create(p.id, python.id)\n",
    "    HasSkill.objects.get_or_create(p.id, neo4j.id)\n",
    "    HasSkill.objects.get_or_create(p.id, janusgraph.id)\n",
    "\n",
    "    _, cod = Game.objects.get_or_create(name=\"Call of Duty\")\n",
    "    _, fifa = Game.objects.get_or_create(name=\"Fifa\")\n",
    "\n",
    "    HasSkill.objects.get_or_create(p.id, cod.id)\n",
    "    HasSkill.objects.get_or_create(p.id, fifa.id)\n",
    "\n",
    "\n",
    "    _, dev_role = Roles.objects.get_or_create(name=\"Developer\")\n",
    "    _, admin_role = Roles.objects.get_or_create(name=\"Admin\")\n",
    "\n",
    "    HasRole.objects.get_or_create(p.id, dev_role.id)\n",
    "    HasRole.objects.get_or_create(p.id, admin_role.id)\n",
    "\n",
    "\n",
    "    print(\"Created data\")"
   ]
  },
  {
   "cell_type": "code",
   "execution_count": 6,
   "id": "557883c9",
   "metadata": {},
   "outputs": [
    {
     "name": "stdout",
     "output_type": "stream",
     "text": [
      "<Node:Person id=\"41005280\" is_active=True created_at=2023-03-10 17:15:13.848000 first_name=rrmerugu >\n"
     ]
    },
    {
     "data": {
      "text/plain": [
       "[<RelationShip:has_skill id=\"oef4s-oevvk-29ed-m7s\" 41005280:Person -> has_skill -> 28792:Programming >,\n",
       " <RelationShip:has_skill id=\"oeh3w-oevvk-29ed-18fc\" 41005280:Person -> has_skill -> 57576:Game >,\n",
       " <RelationShip:has_skill id=\"oefx8-oevvk-29ed-270g\" 41005280:Person -> has_skill -> 102400:Programming >,\n",
       " <RelationShip:has_skill id=\"oegpo-oevvk-29ed-2a68\" 41005280:Person -> has_skill -> 106496:Game >,\n",
       " <RelationShip:has_skill id=\"oefj0-oevvk-29ed-oez1c\" 41005280:Person -> has_skill -> 41009376:Programming >,\n",
       " <RelationShip:has_skill id=\"oegbg-oevvk-29ed-of274\" 41005280:Person -> has_skill -> 41013472:Programming >]"
      ]
     },
     "execution_count": 6,
     "metadata": {},
     "output_type": "execute_result"
    }
   ],
   "source": [
    "from gremlin_python.process.graph_traversal import __\n",
    "\n",
    "p = Person.objects.get_or_none(has__first_name=\"rrmerugu\")\n",
    "print(p)\n",
    "graph.connector.vertex.search(has__id=p.id).traverse_through(\"has_skill\").toList()"
   ]
  },
  {
   "cell_type": "code",
   "execution_count": 8,
   "id": "f71f2878",
   "metadata": {},
   "outputs": [],
   "source": [
    "# from gremlin_python.process.graph_traversal import __\n",
    "\n",
    "# p = Person.objects.get_or_none(has__first_name=\"rrmerugu\")\n",
    "# print(p)\n",
    "# graph.connector.vertex.search(has__id=p.id).traverse_through(\"has_skill\").to(\"Programming\").toList()"
   ]
  }
 ],
 "metadata": {
  "kernelspec": {
   "display_name": "Python 3 (ipykernel)",
   "language": "python",
   "name": "python3"
  },
  "language_info": {
   "codemirror_mode": {
    "name": "ipython",
    "version": 3
   },
   "file_extension": ".py",
   "mimetype": "text/x-python",
   "name": "python",
   "nbconvert_exporter": "python",
   "pygments_lexer": "ipython3",
   "version": "3.8.16"
  }
 },
 "nbformat": 4,
 "nbformat_minor": 5
}
