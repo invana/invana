{
 "cells": [
  {
   "cell_type": "markdown",
   "id": "aeb00e57",
   "metadata": {},
   "source": [
    "## Install invana-connector"
   ]
  },
  {
   "cell_type": "code",
   "execution_count": 1,
   "id": "97583067",
   "metadata": {},
   "outputs": [],
   "source": [
    "# for stable version \n",
    "# pip install invana\n",
    "\n",
    "# for installation specific branch\n",
    "#pip install git+https://github.com/invana/invana@refactor/invana-connectors#egg=invana\n",
    "\n",
    "# for latest code \n",
    "import sys\n",
    "sys.path.append(\"../\")"
   ]
  },
  {
   "cell_type": "code",
   "execution_count": 2,
   "id": "6ba13b05",
   "metadata": {},
   "outputs": [],
   "source": [
    "def print_list(list_data):\n",
    "    for data in list_data:\n",
    "        print(\"\",data)"
   ]
  },
  {
   "cell_type": "markdown",
   "id": "c4e3ee81",
   "metadata": {},
   "source": [
    "## 1. Modelling graph"
   ]
  },
  {
   "cell_type": "markdown",
   "id": "05b77d15",
   "metadata": {},
   "source": [
    "### 1.1 Creating graph instance"
   ]
  },
  {
   "cell_type": "code",
   "execution_count": 3,
   "id": "a8a2b1df",
   "metadata": {},
   "outputs": [
    {
     "name": "stderr",
     "output_type": "stream",
     "text": [
      "[DEBUG:2023-01-21 23:48:48,191:connector.update_connection_state:61] - GraphConnector state updated to : CONNECTING\n",
      "[DEBUG:2023-01-21 23:48:48,191:connector._init_connection:99] - create driver connection  \n",
      "[DEBUG:2023-01-21 23:48:49,197:connector.update_connection_state:61] - GraphConnector state updated to : CONNECTED\n"
     ]
    }
   ],
   "source": [
    "from invana import InvanaGraph\n",
    "\n",
    "gremlin_server_url = \"ws://megamind.local:8182/gremlin\"\n",
    "\n",
    "graph = InvanaGraph(gremlin_server_url)"
   ]
  },
  {
   "cell_type": "markdown",
   "id": "92e3c533",
   "metadata": {},
   "source": [
    "### 1.2 Defining Nodes and Relationship Models"
   ]
  },
  {
   "cell_type": "code",
   "execution_count": 4,
   "id": "8b515ea9",
   "metadata": {},
   "outputs": [],
   "source": [
    "from invana.ogm.models import VertexModel, EdgeModel\n",
    "from invana.ogm.fields import StringProperty, DateTimeProperty, IntegerProperty, FloatProperty, BooleanProperty\n",
    "from invana.ogm import indexes\n",
    "from datetime import datetime\n",
    "\n",
    "\n",
    "class Project(VertexModel):\n",
    "    graph = graph\n",
    "    properties = {\n",
    "        'name': StringProperty(max_length=30, trim_whitespaces=True),\n",
    "        'description': StringProperty(allow_null=True, min_length=5),\n",
    "        'rating': FloatProperty(allow_null=True),\n",
    "        'is_active': BooleanProperty(default=True),\n",
    "        'created_at': DateTimeProperty(default=lambda: datetime.now())\n",
    "    }\n",
    "    indexes = (\n",
    "        indexes.CompositeIndex(\"name\"),\n",
    "        indexes.CompositeIndex(\"created_at\")\n",
    "    )\n",
    "\n",
    "\n",
    "class Person(VertexModel):\n",
    "    graph = graph\n",
    "    properties = {\n",
    "        'first_name': StringProperty(min_length=5, trim_whitespaces=True),\n",
    "        'last_name': StringProperty(allow_null=True),\n",
    "        'username': StringProperty(default=\"rrmerugu\"),\n",
    "        'member_since': IntegerProperty(),\n",
    "\n",
    "    }\n",
    "    indexes = (\n",
    "        indexes.CompositeIndex(\"username\"),\n",
    "    )\n",
    "\n",
    "\n",
    "class Authored(EdgeModel):\n",
    "    graph = graph\n",
    "    properties = {\n",
    "        'created_at': DateTimeProperty(default=lambda: datetime.now())\n",
    "    }\n",
    "    indexes = (\n",
    "        indexes.CompositeIndex(\"created_at\")\n",
    "    )"
   ]
  },
  {
   "cell_type": "markdown",
   "id": "890c3cbd",
   "metadata": {},
   "source": [
    "### 1.3 Installing models on graph"
   ]
  },
  {
   "cell_type": "code",
   "execution_count": 5,
   "id": "9075c110",
   "metadata": {},
   "outputs": [
    {
     "name": "stdout",
     "output_type": "stream",
     "text": [
      "Ignoring models installation because install_models=False\n"
     ]
    }
   ],
   "source": [
    "from invana.helpers.helpers import install_models\n",
    "\n",
    "install_models = False\n",
    "\n",
    "if install_models:\n",
    "    # i_understand_rollback=True will roll back any transactions in pending.\n",
    "    install_models(graph, Project, Person, Authored, i_understand_rollback=True)\n",
    "else:\n",
    "    print(f\"Ignoring models installation because install_models={install_models}\")"
   ]
  },
  {
   "cell_type": "markdown",
   "id": "ecbfd50d",
   "metadata": {},
   "source": [
    "## 2 CRUD Operations on data"
   ]
  },
  {
   "cell_type": "markdown",
   "id": "33edac4e",
   "metadata": {},
   "source": [
    "### 2.1 Nodes"
   ]
  },
  {
   "cell_type": "markdown",
   "id": "de346476",
   "metadata": {},
   "source": [
    "#### 2.1.1 Create Nodes "
   ]
  },
  {
   "cell_type": "markdown",
   "id": "d7350acc",
   "metadata": {},
   "source": [
    "##### 2.1.1.1 get_or_create"
   ]
  },
  {
   "cell_type": "code",
   "execution_count": 1,
   "id": "cc4eb320",
   "metadata": {},
   "outputs": [
    {
     "ename": "NameError",
     "evalue": "name 'Person' is not defined",
     "output_type": "error",
     "traceback": [
      "\u001b[0;31m---------------------------------------------------------------------------\u001b[0m",
      "\u001b[0;31mNameError\u001b[0m                                 Traceback (most recent call last)",
      "Cell \u001b[0;32mIn[1], line 1\u001b[0m\n\u001b[0;32m----> 1\u001b[0m person_ravi \u001b[38;5;241m=\u001b[39m \u001b[43mPerson\u001b[49m\u001b[38;5;241m.\u001b[39mobjects\u001b[38;5;241m.\u001b[39mget_or_create(first_name\u001b[38;5;241m=\u001b[39m\u001b[38;5;124m\"\u001b[39m\u001b[38;5;124mRavi Raja\u001b[39m\u001b[38;5;124m\"\u001b[39m, last_name\u001b[38;5;241m=\u001b[39m\u001b[38;5;124m\"\u001b[39m\u001b[38;5;124mMerugu\u001b[39m\u001b[38;5;124m\"\u001b[39m, member_since\u001b[38;5;241m=\u001b[39m\u001b[38;5;241m2000\u001b[39m)\n\u001b[1;32m      2\u001b[0m person_invana \u001b[38;5;241m=\u001b[39m Person\u001b[38;5;241m.\u001b[39mobjects\u001b[38;5;241m.\u001b[39mget_or_create(first_name\u001b[38;5;241m=\u001b[39m\u001b[38;5;124m\"\u001b[39m\u001b[38;5;124mInvana\u001b[39m\u001b[38;5;124m\"\u001b[39m, last_name\u001b[38;5;241m=\u001b[39m\u001b[38;5;124m\"\u001b[39m\u001b[38;5;124mTechnologies\u001b[39m\u001b[38;5;124m\"\u001b[39m, member_since\u001b[38;5;241m=\u001b[39m\u001b[38;5;241m2016\u001b[39m)\n",
      "\u001b[0;31mNameError\u001b[0m: name 'Person' is not defined"
     ]
    }
   ],
   "source": [
    "person_ravi = Person.objects.get_or_create(first_name=\"Ravi Raja\", last_name=\"Merugu\", member_since=2000)\n",
    "person_invana = Person.objects.get_or_create(first_name=\"Invana\", last_name=\"Technologies\", member_since=2016)"
   ]
  },
  {
   "cell_type": "markdown",
   "id": "dfa45ec9",
   "metadata": {},
   "source": [
    "##### 2.1.1.2 create"
   ]
  },
  {
   "cell_type": "code",
   "execution_count": 2,
   "id": "351928a9",
   "metadata": {},
   "outputs": [
    {
     "ename": "NameError",
     "evalue": "name 'Project' is not defined",
     "output_type": "error",
     "traceback": [
      "\u001b[0;31m---------------------------------------------------------------------------\u001b[0m",
      "\u001b[0;31mNameError\u001b[0m                                 Traceback (most recent call last)",
      "Cell \u001b[0;32mIn[2], line 1\u001b[0m\n\u001b[0;32m----> 1\u001b[0m project_iengine \u001b[38;5;241m=\u001b[39m \u001b[43mProject\u001b[49m\u001b[38;5;241m.\u001b[39mobjects\u001b[38;5;241m.\u001b[39mcreate(name\u001b[38;5;241m=\u001b[39m\u001b[38;5;124m\"\u001b[39m\u001b[38;5;124minvana engine\u001b[39m\u001b[38;5;124m\"\u001b[39m, rating\u001b[38;5;241m=\u001b[39m\u001b[38;5;241m5\u001b[39m, is_active\u001b[38;5;241m=\u001b[39m\u001b[38;5;28;01mTrue\u001b[39;00m)\n\u001b[1;32m      2\u001b[0m project_iconnector \u001b[38;5;241m=\u001b[39m Project\u001b[38;5;241m.\u001b[39mobjects\u001b[38;5;241m.\u001b[39mcreate(name\u001b[38;5;241m=\u001b[39m\u001b[38;5;124m\"\u001b[39m\u001b[38;5;124minvana connectors\u001b[39m\u001b[38;5;124m\"\u001b[39m, rating\u001b[38;5;241m=\u001b[39m\u001b[38;5;241m5\u001b[39m, is_active\u001b[38;5;241m=\u001b[39m\u001b[38;5;28;01mTrue\u001b[39;00m)\n\u001b[1;32m      3\u001b[0m project_istudio \u001b[38;5;241m=\u001b[39m Project\u001b[38;5;241m.\u001b[39mobjects\u001b[38;5;241m.\u001b[39mcreate(name\u001b[38;5;241m=\u001b[39m\u001b[38;5;124m\"\u001b[39m\u001b[38;5;124minvana studio\u001b[39m\u001b[38;5;124m\"\u001b[39m, rating\u001b[38;5;241m=\u001b[39m\u001b[38;5;241m5\u001b[39m, is_active\u001b[38;5;241m=\u001b[39m\u001b[38;5;28;01mTrue\u001b[39;00m)\n",
      "\u001b[0;31mNameError\u001b[0m: name 'Project' is not defined"
     ]
    }
   ],
   "source": [
    "project_iengine = Project.objects.create(name=\"invana engine\", rating=5, is_active=True)\n",
    "project_iconnector = Project.objects.create(name=\"invana connectors\", rating=5, is_active=True)\n",
    "project_istudio = Project.objects.create(name=\"invana studio\", rating=5, is_active=True)\n",
    "project_bengine = Project.objects.create(name=\"browser engine\", rating=5, is_active=False)\n"
   ]
  },
  {
   "cell_type": "markdown",
   "id": "99c4895e",
   "metadata": {},
   "source": [
    "#### 2.1.2 Read Nodes"
   ]
  },
  {
   "cell_type": "markdown",
   "id": "1a90e660",
   "metadata": {},
   "source": [
    "##### 2.1.2.1 search "
   ]
  },
  {
   "cell_type": "code",
   "execution_count": 8,
   "id": "d6b8c21e",
   "metadata": {
    "scrolled": false
   },
   "outputs": [
    {
     "name": "stdout",
     "output_type": "stream",
     "text": [
      "[<Node:Project id=\"2904072\" name=invana engine created_at=2023-01-21 23:41:56.360000 rating=5.0 is_active=True >, <Node:Project id=\"2908168\" name=invana studio created_at=2023-01-21 23:41:56.429000 rating=5.0 is_active=True >, <Node:Project id=\"2912264\" name=browser engine created_at=2023-01-21 23:49:09.494000 rating=5.0 is_active=False >, <Node:Project id=\"856192\" name=invana connectors created_at=2023-01-21 23:49:04.367000 rating=5.0 is_active=True >, <Node:Project id=\"901312\" name=invana studio created_at=2023-01-21 23:49:09.466000 rating=5.0 is_active=True >, <Node:Project id=\"1757400\" name=invana connectors created_at=2023-01-21 23:41:56.393000 rating=5.0 is_active=True >, <Node:Project id=\"1761496\" name=browser engine created_at=2023-01-21 23:41:56.465000 rating=5.0 is_active=False >, <Node:Project id=\"1765592\" name=invana engine created_at=2023-01-21 23:48:59.312000 rating=5.0 is_active=True >]\n"
     ]
    }
   ],
   "source": [
    "# search\n",
    "project_search = Project.objects.search().to_list()\n",
    "print(project_search)"
   ]
  },
  {
   "cell_type": "markdown",
   "id": "8d4dc630",
   "metadata": {},
   "source": [
    "##### 2.1.2.3 search (by node id)"
   ]
  },
  {
   "cell_type": "code",
   "execution_count": 9,
   "id": "96fbfcc3",
   "metadata": {},
   "outputs": [
    {
     "name": "stdout",
     "output_type": "stream",
     "text": [
      "project_search_has__id [<Node:Project id=\"2904072\" name=invana engine created_at=2023-01-21 23:41:56.360000 rating=5.0 is_active=True >]\n",
      "=======\n",
      "project_search_has__id_within [<Node:Project id=\"2904072\" name=invana engine created_at=2023-01-21 23:41:56.360000 rating=5.0 is_active=True >, <Node:Project id=\"2908168\" name=invana studio created_at=2023-01-21 23:41:56.429000 rating=5.0 is_active=True >]\n"
     ]
    }
   ],
   "source": [
    "ids = [p.id for p in project_search] \n",
    "\n",
    "project_search_has__id = Project.objects.search(has__id=project_search[0].id).to_list()\n",
    "project_search_has__id_within = Project.objects.search(has__id__within=ids[:2]).to_list()\n",
    "\n",
    "print(\"project_search_has__id\", project_search_has__id)\n",
    "print(\"=======\")\n",
    "print(\"project_search_has__id_within\", project_search_has__id_within)"
   ]
  },
  {
   "cell_type": "markdown",
   "id": "ddc05378",
   "metadata": {},
   "source": [
    "##### 2.1.2.2 search (startingWith)"
   ]
  },
  {
   "cell_type": "code",
   "execution_count": 10,
   "id": "8e0c6e12",
   "metadata": {},
   "outputs": [
    {
     "name": "stdout",
     "output_type": "stream",
     "text": [
      "[<Node:Project id=\"2912264\" name=browser engine created_at=2023-01-21 23:49:09.494000 rating=5.0 is_active=False >, <Node:Project id=\"1761496\" name=browser engine created_at=2023-01-21 23:41:56.465000 rating=5.0 is_active=False >]\n"
     ]
    }
   ],
   "source": [
    "import pprint\n",
    "project_search_startsWith = Project.objects.search(has__name__startingWith=\"browser\").to_list()\n",
    "print(project_search_startsWith)"
   ]
  },
  {
   "cell_type": "markdown",
   "id": "91268d06",
   "metadata": {},
   "source": [
    "##### 2.1.2.3 Other search "
   ]
  },
  {
   "cell_type": "code",
   "execution_count": 11,
   "id": "b3dca476",
   "metadata": {},
   "outputs": [
    {
     "data": {
      "text/plain": [
       "[<Node:Person id=\"909512\" last_name=Merugu first_name=Ravi Raja username=rrmerugu member_since=2000 >,\n",
       " <Node:Person id=\"913648\" last_name=Technologies first_name=Invana username=rrmerugu member_since=2016 >]"
      ]
     },
     "execution_count": 11,
     "metadata": {},
     "output_type": "execute_result"
    }
   ],
   "source": [
    "\n",
    "# search string - eq, neq, startingWith, endingWith, containing, notStartingWith, notEndingWith, notContaining\n",
    "Project.objects.search(has__name__eq=\"invana\").to_list()\n",
    "Project.objects.search(has__name__neq=\"invana\").to_list()\n",
    "Project.objects.search(has__name__startingWith=\"invana\").to_list()\n",
    "Project.objects.search(has__name__endingWith=\"engine\").to_list()\n",
    "Project.objects.search(has__name__containing=\"eng\").to_list()\n",
    "Project.objects.search(has__name__notStartingWith=\"invana\").to_list()\n",
    "Project.objects.search(has__name__notEndingWith=\"engine\").to_list()\n",
    "Project.objects.search(has__name__notContaining=\"ravi\").to_list()\n",
    "\n",
    "# lt, gt, lte, gte, inside, outside, between\n",
    "Person.objects.search(has__member_since__lte=3000).to_list()\n",
    "Person.objects.search(has__member_since__lt=3000).to_list()\n",
    "Person.objects.search(has__member_since__gte=1999).to_list()\n",
    "Person.objects.search(has__member_since__gt=1999).to_list()\n"
   ]
  },
  {
   "cell_type": "code",
   "execution_count": 12,
   "id": "78e7cdf8",
   "metadata": {},
   "outputs": [
    {
     "name": "stdout",
     "output_type": "stream",
     "text": [
      "==inside_query [<Node:Person id=\"909512\" last_name=Merugu first_name=Ravi Raja username=rrmerugu member_since=2000 >, <Node:Person id=\"913648\" last_name=Technologies first_name=Invana username=rrmerugu member_since=2016 >]\n",
      "==outside_quuery [<Node:Person id=\"913648\" last_name=Technologies first_name=Invana username=rrmerugu member_since=2016 >]\n",
      "==between_query [<Node:Person id=\"909512\" last_name=Merugu first_name=Ravi Raja username=rrmerugu member_since=2000 >, <Node:Person id=\"913648\" last_name=Technologies first_name=Invana username=rrmerugu member_since=2016 >]\n"
     ]
    }
   ],
   "source": [
    "# inside_query = Person.objects.search(has__member_since=2000).to_list()\n",
    "\n",
    "inside_query = Person.objects.search(has__member_since__inside=(1000, 3000)).to_list()\n",
    "outside_quuery = Person.objects.search(has__member_since__outside=(1000, 2005)).to_list()\n",
    "between_query = Person.objects.search(has__member_since__between=(1000, 3000)).to_list()\n",
    "print(\"==inside_query\", inside_query)\n",
    "print(\"==outside_quuery\", outside_quuery)\n",
    "print(\"==between_query\", between_query)"
   ]
  },
  {
   "cell_type": "markdown",
   "id": "bd899ab0",
   "metadata": {},
   "source": [
    "##### 2.1.2.2 count"
   ]
  },
  {
   "cell_type": "code",
   "execution_count": 13,
   "id": "cda160e8",
   "metadata": {},
   "outputs": [
    {
     "name": "stdout",
     "output_type": "stream",
     "text": [
      "8\n"
     ]
    }
   ],
   "source": [
    "project_count = Project.objects.search().count()\n",
    "print(project_count)"
   ]
  },
  {
   "cell_type": "code",
   "execution_count": 14,
   "id": "14fb8d84",
   "metadata": {},
   "outputs": [],
   "source": [
    "# Project.objects.delete()\n",
    "# Person.objects.delete()\n",
    "# Authored.objects.delete()"
   ]
  }
 ],
 "metadata": {
  "kernelspec": {
   "display_name": "Python 3 (ipykernel)",
   "language": "python",
   "name": "python3"
  },
  "language_info": {
   "codemirror_mode": {
    "name": "ipython",
    "version": 3
   },
   "file_extension": ".py",
   "mimetype": "text/x-python",
   "name": "python",
   "nbconvert_exporter": "python",
   "pygments_lexer": "ipython3",
   "version": "3.8.16"
  }
 },
 "nbformat": 4,
 "nbformat_minor": 5
}
