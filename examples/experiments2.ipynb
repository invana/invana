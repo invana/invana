{
 "cells": [
  {
   "cell_type": "markdown",
   "id": "aeb00e57",
   "metadata": {},
   "source": [
    "## Install invana-connector"
   ]
  },
  {
   "cell_type": "code",
   "execution_count": 20,
   "id": "97583067",
   "metadata": {},
   "outputs": [],
   "source": [
    "# for stable version \n",
    "# pip install invana\n",
    "\n",
    "# for installation specific branch\n",
    "#pip install git+https://github.com/invana/invana@refactor/invana-connectors#egg=invana\n",
    "\n",
    "# for latest code \n",
    "import sys\n",
    "sys.path.append(\"../\")"
   ]
  },
  {
   "cell_type": "code",
   "execution_count": 21,
   "id": "6ba13b05",
   "metadata": {},
   "outputs": [],
   "source": [
    "def print_list(list_data):\n",
    "    for data in list_data:\n",
    "        print(\"\",data)"
   ]
  },
  {
   "cell_type": "markdown",
   "id": "c4e3ee81",
   "metadata": {},
   "source": [
    "## 1. Modelling graph"
   ]
  },
  {
   "cell_type": "markdown",
   "id": "05b77d15",
   "metadata": {},
   "source": [
    "### 1.1 Creating graph instance"
   ]
  },
  {
   "cell_type": "code",
   "execution_count": 22,
   "id": "a8a2b1df",
   "metadata": {},
   "outputs": [
    {
     "name": "stderr",
     "output_type": "stream",
     "text": [
      "[DEBUG:2023-05-15 14:55:39,958:connector.update_connection_state:61] - GraphConnector state updated to : CONNECTING\n",
      "[DEBUG:2023-05-15 14:55:39,959:connector._init_connection:99] - create driver connection  \n",
      "[DEBUG:2023-05-15 14:55:40,967:connector.update_connection_state:61] - GraphConnector state updated to : CONNECTED\n"
     ]
    }
   ],
   "source": [
    "from invana import InvanaGraph\n",
    "\n",
    "gremlin_server_url = \"ws://megamind.local:8182/gremlin\"\n",
    "\n",
    "graph = InvanaGraph(gremlin_server_url)"
   ]
  },
  {
   "cell_type": "markdown",
   "id": "92e3c533",
   "metadata": {},
   "source": [
    "### 1.2 Defining Nodes and Relationship Models"
   ]
  },
  {
   "cell_type": "code",
   "execution_count": 23,
   "id": "8b515ea9",
   "metadata": {},
   "outputs": [],
   "source": [
    "from invana.ogm.models import VertexModel, EdgeModel\n",
    "from invana.ogm.fields import StringProperty, DateTimeProperty, IntegerProperty, FloatProperty, BooleanProperty\n",
    "from invana.ogm import indexes\n",
    "from datetime import datetime\n",
    "\n",
    "\n",
    "class Project(VertexModel):\n",
    "    graph = graph\n",
    "    properties = {\n",
    "        'name': StringProperty(max_length=30, trim_whitespaces=True),\n",
    "        'description': StringProperty(allow_null=True, min_length=5),\n",
    "        'rating': FloatProperty(allow_null=True),\n",
    "        'is_active': BooleanProperty(default=True),\n",
    "        'created_at': DateTimeProperty(default=lambda: datetime.now())\n",
    "    }\n",
    "    indexes = (\n",
    "        indexes.CompositeIndex(\"name\"),\n",
    "        indexes.CompositeIndex(\"created_at\")\n",
    "    )\n",
    "\n",
    "\n",
    "class Person(VertexModel):\n",
    "    graph = graph\n",
    "    properties = {\n",
    "        'first_name': StringProperty(min_length=5, trim_whitespaces=True),\n",
    "        'last_name': StringProperty(allow_null=True),\n",
    "        'username': StringProperty(default=\"rrmerugu\"),\n",
    "        'member_since': IntegerProperty(),\n",
    "\n",
    "    }\n",
    "    indexes = (\n",
    "        indexes.CompositeIndex(\"username\"),\n",
    "    )\n",
    "\n",
    "\n",
    "class Authored(EdgeModel):\n",
    "    graph = graph\n",
    "    properties = {\n",
    "        'created_at': DateTimeProperty(default=lambda: datetime.now())\n",
    "    }\n",
    "    indexes = (\n",
    "        indexes.CompositeIndex(\"created_at\")\n",
    "    )"
   ]
  },
  {
   "cell_type": "markdown",
   "id": "890c3cbd",
   "metadata": {},
   "source": [
    "### 1.3 Installing models on graph"
   ]
  },
  {
   "cell_type": "code",
   "execution_count": 24,
   "id": "9075c110",
   "metadata": {},
   "outputs": [
    {
     "name": "stdout",
     "output_type": "stream",
     "text": [
      "Ignoring models installation because install_models=False\n"
     ]
    }
   ],
   "source": [
    "from invana.helpers.helpers import install_models\n",
    "\n",
    "install_models = False\n",
    "\n",
    "if install_models:\n",
    "    # i_understand_rollback=True will roll back any transactions in pending.\n",
    "    install_models(graph, Project, Person, Authored, i_understand_rollback=True)\n",
    "else:\n",
    "    print(f\"Ignoring models installation because install_models={install_models}\")"
   ]
  },
  {
   "cell_type": "markdown",
   "id": "ecbfd50d",
   "metadata": {},
   "source": [
    "## 2 CRUD Operations on data"
   ]
  },
  {
   "cell_type": "markdown",
   "id": "33edac4e",
   "metadata": {},
   "source": [
    "### 2.1 Nodes"
   ]
  },
  {
   "cell_type": "markdown",
   "id": "de346476",
   "metadata": {},
   "source": [
    "#### 2.1.1 Create Nodes "
   ]
  },
  {
   "cell_type": "markdown",
   "id": "d7350acc",
   "metadata": {},
   "source": [
    "##### 2.1.1.1 get_or_create"
   ]
  },
  {
   "cell_type": "code",
   "execution_count": 25,
   "id": "cc4eb320",
   "metadata": {},
   "outputs": [],
   "source": [
    "person_ravi = Person.objects.get_or_create(first_name=\"Ravi Raja\", last_name=\"Merugu\", member_since=2000)\n",
    "person_invana = Person.objects.get_or_create(first_name=\"Invana\", last_name=\"Technologies\", member_since=2016)"
   ]
  },
  {
   "cell_type": "markdown",
   "id": "dfa45ec9",
   "metadata": {},
   "source": [
    "##### 2.1.1.2 create"
   ]
  },
  {
   "cell_type": "code",
   "execution_count": 26,
   "id": "351928a9",
   "metadata": {},
   "outputs": [],
   "source": [
    "project_iengine = Project.objects.create(name=\"invana engine\", rating=5, is_active=True)\n",
    "project_iconnector = Project.objects.create(name=\"invana connectors\", rating=5, is_active=True)\n",
    "project_istudio = Project.objects.create(name=\"invana studio\", rating=5, is_active=True)\n",
    "project_bengine = Project.objects.create(name=\"browser engine\", rating=5, is_active=False)\n"
   ]
  },
  {
   "cell_type": "markdown",
   "id": "99c4895e",
   "metadata": {},
   "source": [
    "#### 2.1.2 Read Nodes"
   ]
  },
  {
   "cell_type": "markdown",
   "id": "1a90e660",
   "metadata": {},
   "source": [
    "##### 2.1.2.1 search "
   ]
  },
  {
   "cell_type": "code",
   "execution_count": 27,
   "id": "d6b8c21e",
   "metadata": {
    "scrolled": false
   },
   "outputs": [
    {
     "name": "stdout",
     "output_type": "stream",
     "text": [
      "[<Node:Project id=\"8248\" is_active=True name=invana connectors rating=5.0 created_at=2023-05-15 14:18:13.772000 >, <Node:Project id=\"4176\" is_active=True name=invana engine rating=5.0 created_at=2023-05-15 14:18:13.665000 >, <Node:Project id=\"8272\" is_active=False name=browser engine rating=5.0 created_at=2023-05-15 14:18:13.839000 >, <Node:Project id=\"12368\" is_active=True name=invana studio rating=5.0 created_at=2023-05-15 14:56:01.214000 >, <Node:Project id=\"4304\" is_active=True name=invana studio rating=5.0 created_at=2023-05-15 14:18:13.809000 >, <Node:Project id=\"8400\" is_active=True name=invana engine rating=5.0 created_at=2023-05-15 14:55:51.105000 >, <Node:Project id=\"12496\" is_active=False name=browser engine rating=5.0 created_at=2023-05-15 14:56:01.238000 >, <Node:Project id=\"4336\" is_active=True name=invana connectors rating=5.0 created_at=2023-05-15 14:55:56.154000 >]\n"
     ]
    }
   ],
   "source": [
    "# search\n",
    "project_search = Project.objects.search().to_list()\n",
    "print(project_search)"
   ]
  },
  {
   "cell_type": "markdown",
   "id": "8d4dc630",
   "metadata": {},
   "source": [
    "##### 2.1.2.3 search (by node id)"
   ]
  },
  {
   "cell_type": "code",
   "execution_count": 28,
   "id": "96fbfcc3",
   "metadata": {},
   "outputs": [
    {
     "name": "stdout",
     "output_type": "stream",
     "text": [
      "project_search_has__id [<Node:Project id=\"8248\" is_active=True name=invana connectors rating=5.0 created_at=2023-05-15 14:18:13.772000 >]\n",
      "=======\n",
      "project_search_has__id_within [<Node:Project id=\"8248\" is_active=True name=invana connectors rating=5.0 created_at=2023-05-15 14:18:13.772000 >, <Node:Project id=\"4176\" is_active=True name=invana engine rating=5.0 created_at=2023-05-15 14:18:13.665000 >]\n"
     ]
    }
   ],
   "source": [
    "ids = [p.id for p in project_search] \n",
    "\n",
    "project_search_has__id = Project.objects.search(has__id=project_search[0].id).to_list()\n",
    "project_search_has__id_within = Project.objects.search(has__id__within=ids[:2]).to_list()\n",
    "\n",
    "print(\"project_search_has__id\", project_search_has__id)\n",
    "print(\"=======\")\n",
    "print(\"project_search_has__id_within\", project_search_has__id_within)"
   ]
  },
  {
   "cell_type": "markdown",
   "id": "ddc05378",
   "metadata": {},
   "source": [
    "##### 2.1.2.2 search (startingWith)"
   ]
  },
  {
   "cell_type": "code",
   "execution_count": 29,
   "id": "8e0c6e12",
   "metadata": {},
   "outputs": [
    {
     "name": "stdout",
     "output_type": "stream",
     "text": [
      "[<Node:Project id=\"8272\" is_active=False name=browser engine rating=5.0 created_at=2023-05-15 14:18:13.839000 >, <Node:Project id=\"12496\" is_active=False name=browser engine rating=5.0 created_at=2023-05-15 14:56:01.238000 >]\n"
     ]
    }
   ],
   "source": [
    "import pprint\n",
    "project_search_startsWith = Project.objects.search(has__name__startingWith=\"browser\").to_list()\n",
    "print(project_search_startsWith)"
   ]
  },
  {
   "cell_type": "markdown",
   "id": "91268d06",
   "metadata": {},
   "source": [
    "##### 2.1.2.3 Other search "
   ]
  },
  {
   "cell_type": "code",
   "execution_count": 30,
   "id": "b3dca476",
   "metadata": {},
   "outputs": [
    {
     "data": {
      "text/plain": [
       "[<Node:Person id=\"4136\" member_since=2000 last_name=Merugu first_name=Ravi Raja username=rrmerugu >,\n",
       " <Node:Person id=\"4152\" member_since=2016 last_name=Technologies first_name=Invana username=rrmerugu >]"
      ]
     },
     "execution_count": 30,
     "metadata": {},
     "output_type": "execute_result"
    }
   ],
   "source": [
    "\n",
    "# search string - eq, neq, startingWith, endingWith, containing, notStartingWith, notEndingWith, notContaining\n",
    "Project.objects.search(has__name__eq=\"invana\").to_list()\n",
    "Project.objects.search(has__name__neq=\"invana\").to_list()\n",
    "Project.objects.search(has__name__startingWith=\"invana\").to_list()\n",
    "Project.objects.search(has__name__endingWith=\"engine\").to_list()\n",
    "Project.objects.search(has__name__containing=\"eng\").to_list()\n",
    "Project.objects.search(has__name__notStartingWith=\"invana\").to_list()\n",
    "Project.objects.search(has__name__notEndingWith=\"engine\").to_list()\n",
    "Project.objects.search(has__name__notContaining=\"ravi\").to_list()\n",
    "\n",
    "# lt, gt, lte, gte, inside, outside, between\n",
    "Person.objects.search(has__member_since__lte=3000).to_list()\n",
    "Person.objects.search(has__member_since__lt=3000).to_list()\n",
    "Person.objects.search(has__member_since__gte=1999).to_list()\n",
    "Person.objects.search(has__member_since__gt=1999).to_list()\n"
   ]
  },
  {
   "cell_type": "code",
   "execution_count": 31,
   "id": "78e7cdf8",
   "metadata": {},
   "outputs": [
    {
     "name": "stdout",
     "output_type": "stream",
     "text": [
      "==inside_query [<Node:Person id=\"4136\" member_since=2000 last_name=Merugu first_name=Ravi Raja username=rrmerugu >, <Node:Person id=\"4152\" member_since=2016 last_name=Technologies first_name=Invana username=rrmerugu >]\n",
      "==outside_quuery [<Node:Person id=\"4152\" member_since=2016 last_name=Technologies first_name=Invana username=rrmerugu >]\n",
      "==between_query [<Node:Person id=\"4136\" member_since=2000 last_name=Merugu first_name=Ravi Raja username=rrmerugu >, <Node:Person id=\"4152\" member_since=2016 last_name=Technologies first_name=Invana username=rrmerugu >]\n"
     ]
    }
   ],
   "source": [
    "# inside_query = Person.objects.search(has__member_since=2000).to_list()\n",
    "\n",
    "inside_query = Person.objects.search(has__member_since__inside=(1000, 3000)).to_list()\n",
    "outside_quuery = Person.objects.search(has__member_since__outside=(1000, 2005)).to_list()\n",
    "between_query = Person.objects.search(has__member_since__between=(1000, 3000)).to_list()\n",
    "print(\"==inside_query\", inside_query)\n",
    "print(\"==outside_quuery\", outside_quuery)\n",
    "print(\"==between_query\", between_query)"
   ]
  },
  {
   "cell_type": "markdown",
   "id": "bd899ab0",
   "metadata": {},
   "source": [
    "##### 2.1.2.2 count"
   ]
  },
  {
   "cell_type": "code",
   "execution_count": 32,
   "id": "cda160e8",
   "metadata": {},
   "outputs": [
    {
     "name": "stdout",
     "output_type": "stream",
     "text": [
      "8\n"
     ]
    }
   ],
   "source": [
    "project_count = Project.objects.search().count()\n",
    "print(project_count)"
   ]
  },
  {
   "cell_type": "code",
   "execution_count": 33,
   "id": "14fb8d84",
   "metadata": {},
   "outputs": [],
   "source": [
    "# Project.objects.delete()\n",
    "# Person.objects.delete()\n",
    "# Authored.objects.delete()"
   ]
  }
 ],
 "metadata": {
  "kernelspec": {
   "display_name": "Python 3 (ipykernel)",
   "language": "python",
   "name": "python3"
  },
  "language_info": {
   "codemirror_mode": {
    "name": "ipython",
    "version": 3
   },
   "file_extension": ".py",
   "mimetype": "text/x-python",
   "name": "python",
   "nbconvert_exporter": "python",
   "pygments_lexer": "ipython3",
   "version": "3.8.16"
  }
 },
 "nbformat": 4,
 "nbformat_minor": 5
}
