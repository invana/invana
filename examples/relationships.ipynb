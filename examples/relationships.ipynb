{
 "cells": [
  {
   "cell_type": "code",
   "execution_count": 1,
   "id": "59628136",
   "metadata": {},
   "outputs": [],
   "source": [
    "# for stable version \n",
    "# pip install invana\n",
    "\n",
    "# for installation specific branch\n",
    "#pip install git+https://github.com/invana/invana@refactor/invana-connectors#egg=invana\n",
    "\n",
    "# for latest code \n",
    "import sys\n",
    "sys.path.append(\"../\")"
   ]
  },
  {
   "cell_type": "code",
   "execution_count": 2,
   "id": "917f2aec",
   "metadata": {},
   "outputs": [
    {
     "name": "stderr",
     "output_type": "stream",
     "text": [
      "[DEBUG:2023-01-24 17:52:30,011:connector.update_connection_state:61] - GraphConnector state updated to : CONNECTING\n",
      "[DEBUG:2023-01-24 17:52:30,012:connector._init_connection:99] - create driver connection  \n",
      "[DEBUG:2023-01-24 17:52:31,019:connector.update_connection_state:61] - GraphConnector state updated to : CONNECTED\n"
     ]
    }
   ],
   "source": [
    "from invana import InvanaGraph\n",
    "\n",
    "gremlin_server_url = \"ws://megamind.local:8182/gremlin\"\n",
    "graph = InvanaGraph(gremlin_server_url)"
   ]
  },
  {
   "cell_type": "code",
   "execution_count": 3,
   "id": "45243745",
   "metadata": {},
   "outputs": [],
   "source": [
    "from invana.ogm.models import VertexModel, EdgeModel\n",
    "from invana.ogm.fields import StringProperty, DateTimeProperty, IntegerProperty, FloatProperty, BooleanProperty\n",
    "from invana.ogm import indexes\n",
    "from datetime import datetime\n",
    "\n",
    "\n",
    "class Person(VertexModel):\n",
    "    graph = graph\n",
    "    properties = {\n",
    "        'first_name': StringProperty(max_length=30, trim_whitespaces=True),\n",
    "        'is_active': BooleanProperty(default=True),\n",
    "        'created_at': DateTimeProperty(default=lambda: datetime.now())\n",
    "    }\n",
    "\n",
    "class Roles(VertexModel):\n",
    "    graph = graph\n",
    "    properties = {\n",
    "        'name': StringProperty()\n",
    "    }\n",
    "\n",
    "class Programming(VertexModel):\n",
    "    graph = graph\n",
    "    properties = {\n",
    "        'name': StringProperty(min_length=2, trim_whitespaces=True)\n",
    "    }\n",
    "    \n",
    "class Game(VertexModel):\n",
    "    graph = graph\n",
    "    properties = {\n",
    "        'name': StringProperty(min_length=2, trim_whitespaces=True)\n",
    "    }\n",
    "        \n",
    "class HasSkill(EdgeModel):\n",
    "    graph = graph\n",
    "    properties = {\n",
    "        'created_at': DateTimeProperty(default=lambda: datetime.now())\n",
    "    }\n",
    "\n",
    "class HasRole(EdgeModel):\n",
    "    graph = graph\n",
    "    properties = {\n",
    "        'created_at': DateTimeProperty(default=lambda: datetime.now())\n",
    "    }\n",
    "    \n",
    "    "
   ]
  },
  {
   "cell_type": "code",
   "execution_count": 4,
   "id": "4e4d29d1",
   "metadata": {
    "scrolled": true
   },
   "outputs": [
    {
     "name": "stderr",
     "output_type": "stream",
     "text": [
      "[DEBUG:2023-01-24 17:52:31,057:events.log_event:55] - Request 86bae2ff-faaa-4e13-bb87-ab6e117e0ec1 STARTED with query: mgmt = graph.openManagement()\n",
      "if (mgmt.containsVertexLabel('Person'))\n",
      "    Person = mgmt.getVertexLabel('Person')\n",
      "else \n",
      "    Person = mgmt.makeVertexLabel('Person').make()\n",
      "if (mgmt.containsRelationType('first_name'))\n",
      "    first_name = mgmt.getPropertyKey('first_name')\n",
      "else \n",
      "    first_name = mgmt.makePropertyKey('first_name').dataType(String.class).make()\n",
      "if (mgmt.containsRelationType('is_active'))\n",
      "    is_active = mgmt.getPropertyKey('is_active')\n",
      "else \n",
      "    is_active = mgmt.makePropertyKey('is_active').dataType(Boolean.class).make()\n",
      "if (mgmt.containsRelationType('created_at'))\n",
      "    created_at = mgmt.getPropertyKey('created_at')\n",
      "else \n",
      "    created_at = mgmt.makePropertyKey('created_at').dataType(Date.class).make()\n",
      "mgmt.addProperties(Person, first_name, is_active, created_at)\n",
      "mgmt.commit();; request_options: {};; at 2023-01-24 17:52:31.057265\n",
      "[DEBUG:2023-01-24 17:52:36,086:events.log_event:111] - Request 86bae2ff-faaa-4e13-bb87-ab6e117e0ec1 RESPONSE_RECEIVED:SUCCESS with status code: 200 at 2023-01-24 17:52:36.086172; took -9.4e-05\n",
      "[DEBUG:2023-01-24 17:52:36,087:events.log_event:55] - Request 26841272-5f1f-498b-a51b-319c0aff199b STARTED with query: mgmt = graph.openManagement()\n",
      "if (mgmt.containsVertexLabel('Programming'))\n",
      "    Programming = mgmt.getVertexLabel('Programming')\n",
      "else \n",
      "    Programming = mgmt.makeVertexLabel('Programming').make()\n",
      "if (mgmt.containsRelationType('name'))\n",
      "    name = mgmt.getPropertyKey('name')\n",
      "else \n",
      "    name = mgmt.makePropertyKey('name').dataType(String.class).make()\n",
      "mgmt.addProperties(Programming, name)\n",
      "mgmt.commit();; request_options: {};; at 2023-01-24 17:52:36.087658\n",
      "[DEBUG:2023-01-24 17:52:36,090:events.log_event:70] - Request 86bae2ff-faaa-4e13-bb87-ab6e117e0ec1 FINISHED successfully at 2023-01-24 17:52:36.090429; elapsed_time -2.9e-05\n",
      "[DEBUG:2023-01-24 17:52:41,117:events.log_event:55] - Request bf13cddd-2f8b-4bf4-bb23-0617756244c9 STARTED with query: mgmt = graph.openManagement()\n",
      "if (mgmt.containsVertexLabel('Game'))\n",
      "    Game = mgmt.getVertexLabel('Game')\n",
      "else \n",
      "    Game = mgmt.makeVertexLabel('Game').make()\n",
      "if (mgmt.containsRelationType('name'))\n",
      "    name = mgmt.getPropertyKey('name')\n",
      "else \n",
      "    name = mgmt.makePropertyKey('name').dataType(String.class).make()\n",
      "mgmt.addProperties(Game, name)\n",
      "mgmt.commit();; request_options: {};; at 2023-01-24 17:52:41.117192\n",
      "[DEBUG:2023-01-24 17:52:41,117:events.log_event:111] - Request 26841272-5f1f-498b-a51b-319c0aff199b RESPONSE_RECEIVED:SUCCESS with status code: 200 at 2023-01-24 17:52:41.117562; took -0.000572\n",
      "[DEBUG:2023-01-24 17:52:41,124:events.log_event:70] - Request 26841272-5f1f-498b-a51b-319c0aff199b FINISHED successfully at 2023-01-24 17:52:41.124543; elapsed_time -7.5e-05\n",
      "[DEBUG:2023-01-24 17:52:46,154:events.log_event:55] - Request 5b0c538e-20c5-4074-8f63-ef1b8394deac STARTED with query: mgmt = graph.openManagement()\n",
      "if (mgmt.containsEdgeLabel('has_skill'))\n",
      "    has_skill = mgmt.getEdgeLabel('has_skill')\n",
      "else \n",
      "    has_skill = mgmt.makeEdgeLabel('has_skill').make()\n",
      "if (mgmt.containsRelationType('created_at'))\n",
      "    created_at = mgmt.getPropertyKey('created_at')\n",
      "else \n",
      "    created_at = mgmt.makePropertyKey('created_at').dataType(Date.class).make()\n",
      "mgmt.addProperties(has_skill, created_at)\n",
      "mgmt.commit();; request_options: {};; at 2023-01-24 17:52:46.154143\n",
      "[DEBUG:2023-01-24 17:52:46,154:events.log_event:111] - Request bf13cddd-2f8b-4bf4-bb23-0617756244c9 RESPONSE_RECEIVED:SUCCESS with status code: 200 at 2023-01-24 17:52:46.154645; took -0.00071\n",
      "[DEBUG:2023-01-24 17:52:46,160:events.log_event:70] - Request bf13cddd-2f8b-4bf4-bb23-0617756244c9 FINISHED successfully at 2023-01-24 17:52:46.160451; elapsed_time -5.4e-05\n",
      "[DEBUG:2023-01-24 17:52:51,197:events.log_event:55] - Request 4e961aee-471b-4e02-9087-69890fb08dc9 STARTED with query: mgmt = graph.openManagement()\n",
      "if (mgmt.containsVertexLabel('Roles'))\n",
      "    Roles = mgmt.getVertexLabel('Roles')\n",
      "else \n",
      "    Roles = mgmt.makeVertexLabel('Roles').make()\n",
      "if (mgmt.containsRelationType('name'))\n",
      "    name = mgmt.getPropertyKey('name')\n",
      "else \n",
      "    name = mgmt.makePropertyKey('name').dataType(String.class).make()\n",
      "mgmt.addProperties(Roles, name)\n",
      "mgmt.commit();; request_options: {};; at 2023-01-24 17:52:51.197388\n",
      "[DEBUG:2023-01-24 17:52:51,198:events.log_event:111] - Request 5b0c538e-20c5-4074-8f63-ef1b8394deac RESPONSE_RECEIVED:SUCCESS with status code: 200 at 2023-01-24 17:52:51.197963; took -0.000834\n",
      "[DEBUG:2023-01-24 17:52:51,203:events.log_event:70] - Request 5b0c538e-20c5-4074-8f63-ef1b8394deac FINISHED successfully at 2023-01-24 17:52:51.203023; elapsed_time -7.2e-05\n",
      "[DEBUG:2023-01-24 17:52:51,210:events.log_event:111] - Request 4e961aee-471b-4e02-9087-69890fb08dc9 RESPONSE_RECEIVED:SUCCESS with status code: 200 at 2023-01-24 17:52:51.210350; took -7.5e-05\n",
      "[DEBUG:2023-01-24 17:52:51,212:events.log_event:55] - Request 00dbe873-5599-4722-8c69-f1fab7ac4d7c STARTED with query: mgmt = graph.openManagement()\n",
      "if (mgmt.containsEdgeLabel('has_role'))\n",
      "    has_role = mgmt.getEdgeLabel('has_role')\n",
      "else \n",
      "    has_role = mgmt.makeEdgeLabel('has_role').make()\n",
      "if (mgmt.containsRelationType('created_at'))\n",
      "    created_at = mgmt.getPropertyKey('created_at')\n",
      "else \n",
      "    created_at = mgmt.makePropertyKey('created_at').dataType(Date.class).make()\n",
      "mgmt.addProperties(has_role, created_at)\n",
      "mgmt.commit();; request_options: {};; at 2023-01-24 17:52:51.212723\n",
      "[DEBUG:2023-01-24 17:52:51,214:events.log_event:70] - Request 4e961aee-471b-4e02-9087-69890fb08dc9 FINISHED successfully at 2023-01-24 17:52:51.214237; elapsed_time -4.6e-05\n",
      "[WARNING:2023-01-24 17:52:51,226:helpers.create_indexes_only_from_model:19] - Found no indexes on model 'Person'.\n",
      "Review your model and create indexes for performance !!\n",
      "[DEBUG:2023-01-24 17:52:51,227:events.log_event:111] - Request 00dbe873-5599-4722-8c69-f1fab7ac4d7c RESPONSE_RECEIVED:SUCCESS with status code: 200 at 2023-01-24 17:52:51.227027; took -0.000346\n",
      "[WARNING:2023-01-24 17:52:51,227:helpers.create_indexes_only_from_model:19] - Found no indexes on model 'Programming'.\n",
      "Review your model and create indexes for performance !!\n",
      "[DEBUG:2023-01-24 17:52:51,228:events.log_event:70] - Request 00dbe873-5599-4722-8c69-f1fab7ac4d7c FINISHED successfully at 2023-01-24 17:52:51.228888; elapsed_time -4.5e-05\n",
      "[WARNING:2023-01-24 17:52:51,229:helpers.create_indexes_only_from_model:19] - Found no indexes on model 'Game'.\n",
      "Review your model and create indexes for performance !!\n",
      "[WARNING:2023-01-24 17:52:51,230:helpers.create_indexes_only_from_model:19] - Found no indexes on model 'has_skill'.\n",
      "Review your model and create indexes for performance !!\n",
      "[WARNING:2023-01-24 17:52:51,231:helpers.create_indexes_only_from_model:19] - Found no indexes on model 'Roles'.\n",
      "Review your model and create indexes for performance !!\n",
      "[WARNING:2023-01-24 17:52:51,231:helpers.create_indexes_only_from_model:19] - Found no indexes on model 'has_role'.\n",
      "Review your model and create indexes for performance !!\n"
     ]
    },
    {
     "name": "stdout",
     "output_type": "stream",
     "text": [
      "Installed models\n"
     ]
    }
   ],
   "source": [
    "from invana.helpers.helpers import install_models\n",
    "\n",
    "shoud_install_models = True\n",
    "\n",
    "if shoud_install_models is True:\n",
    "    # i_understand_rollback=True will roll back any transactions in pending.\n",
    "    install_models(graph, Person, Programming, Game, HasSkill, Roles, HasRole)\n",
    "    print(\"Installed models\")\n",
    "else:\n",
    "    print(f\"Ignoring models installation because install_models={install_models}\")"
   ]
  },
  {
   "cell_type": "code",
   "execution_count": null,
   "id": "05bec3a5",
   "metadata": {},
   "outputs": [],
   "source": []
  },
  {
   "cell_type": "code",
   "execution_count": 5,
   "id": "9f1d0702",
   "metadata": {},
   "outputs": [
    {
     "name": "stdout",
     "output_type": "stream",
     "text": [
      "Created data\n"
     ]
    }
   ],
   "source": [
    "Person.objects.delete()\n",
    "Programming.objects.delete()\n",
    "Game.objects.delete()\n",
    "HasSkill.objects.delete()\n",
    "HasRole.objects.delete()\n",
    "\n",
    "p = Person.objects.create(first_name=\"rrmerugu\")\n",
    "\n",
    "_, django = Programming.objects.get_or_create(name=\"Django\")\n",
    "_, python = Programming.objects.get_or_create(name=\"Python\")\n",
    "_, neo4j = Programming.objects.get_or_create(name=\"neo4j\")\n",
    "_, janusgraph = Programming.objects.get_or_create(name=\"Janusgraph\")\n",
    "\n",
    "HasSkill.objects.get_or_create(p.id, django.id)\n",
    "HasSkill.objects.get_or_create(p.id, python.id)\n",
    "HasSkill.objects.get_or_create(p.id, neo4j.id)\n",
    "HasSkill.objects.get_or_create(p.id, janusgraph.id)\n",
    "\n",
    "_, cod = Game.objects.get_or_create(name=\"Call of Duty\")\n",
    "_, fifa = Game.objects.get_or_create(name=\"Fifa\")\n",
    "\n",
    "HasSkill.objects.get_or_create(p.id, cod.id)\n",
    "HasSkill.objects.get_or_create(p.id, fifa.id)\n",
    "\n",
    "\n",
    "_, dev_role = Roles.objects.get_or_create(name=\"Developer\")\n",
    "_, admin_role = Roles.objects.get_or_create(name=\"Admin\")\n",
    "\n",
    "HasRole.objects.get_or_create(p.id, dev_role.id)\n",
    "HasRole.objects.get_or_create(p.id, admin_role.id)\n",
    "\n",
    "\n",
    "print(\"Created data\")"
   ]
  },
  {
   "cell_type": "code",
   "execution_count": 6,
   "id": "62ab6885",
   "metadata": {},
   "outputs": [],
   "source": [
    "# p = Person.objects.get_or_none(has__first_name=\"rrmerugu\")\n",
    "# graph.connector.vertex.search(has__id=p.id).get_traversal() \\\n",
    "# .bothE(\"has_skill\")._as(\"e\") \\\n",
    "# .inV().hasLabel(\"Programming\")._as(\"v\")\\\n",
    "# .select(\"a\",\"e\") \\\n",
    "# .toList()\n",
    "# # print(p)"
   ]
  },
  {
   "cell_type": "code",
   "execution_count": 15,
   "id": "e2a85bac",
   "metadata": {},
   "outputs": [
    {
     "name": "stdout",
     "output_type": "stream",
     "text": [
      "=== path[<Node:Person id=\"106512\" first_name=rrmerugu created_at=2023-01-24 17:52:51.296000 is_active=True >, <RelationShip:has_skill id=\"169u-2a6o-28lx-18bk\" 106512:Person -> has_skill -> 57440:Programming created_at=2023-01-24 17:52:51.479000 >, <Node:Programming id=\"57440\" name=neo4j >]\n",
      "=== path[<Node:Person id=\"106512\" first_name=rrmerugu created_at=2023-01-24 17:52:51.296000 is_active=True >, <RelationShip:has_skill id=\"15vm-2a6o-28lx-2dcg\" 106512:Person -> has_skill -> 110608:Programming created_at=2023-01-24 17:52:51.464000 >, <Node:Programming id=\"110608\" name=Python >]\n",
      "=== path[<Node:Person id=\"106512\" first_name=rrmerugu created_at=2023-01-24 17:52:51.296000 is_active=True >, <RelationShip:has_skill id=\"16o2-2a6o-28lx-2gi8\" 106512:Person -> has_skill -> 114704:Programming created_at=2023-01-24 17:52:51.493000 >, <Node:Programming id=\"114704\" name=Janusgraph >]\n",
      "=== path[<Node:Person id=\"106512\" first_name=rrmerugu created_at=2023-01-24 17:52:51.296000 is_active=True >, <RelationShip:has_skill id=\"15he-2a6o-28lx-ogdio\" 106512:Person -> has_skill -> 41074800:Programming created_at=2023-01-24 17:52:51.446000 >, <Node:Programming id=\"41074800\" name=Django >]\n"
     ]
    }
   ],
   "source": [
    "from gremlin_python.process.graph_traversal import __\n",
    "\n",
    "p = Person.objects.get_or_none(has__first_name=\"rrmerugu\")\n",
    "data = graph.connector.vertex.search(has__id=p.id).get_traversal() \\\n",
    ".bothE(\"has_skill\") \\\n",
    ".inV().hasLabel(\"Programming\") \\\n",
    ".path().by(__.elementMap())\n",
    "#.toList()\n",
    "\n",
    "for d in data:\n",
    "    print(\"===\", d)\n",
    "# print(p)"
   ]
  },
  {
   "cell_type": "code",
   "execution_count": 29,
   "id": "f692c069",
   "metadata": {},
   "outputs": [
    {
     "data": {
      "text/plain": [
       "[]"
      ]
     },
     "execution_count": 29,
     "metadata": {},
     "output_type": "execute_result"
    }
   ],
   "source": [
    "p = Person.objects.get_or_none(has__first_name=\"rrmerugu\")\n",
    "graph.connector.vertex.getNodeInComingNeighbors(p.id).toList()"
   ]
  },
  {
   "cell_type": "code",
   "execution_count": 30,
   "id": "78b57afb",
   "metadata": {},
   "outputs": [
    {
     "data": {
      "text/plain": [
       "[path[<Node:Person id=\"106512\" first_name=rrmerugu created_at=2023-01-24 17:52:51.296000 is_active=True >, <RelationShip:has_role id=\"17uq-2a6o-2brp-m74\" 106512:Person -> has_role -> 28768:Roles created_at=2023-01-24 17:52:51.675000 >, <Node:Roles id=\"28768\" name=Developer >],\n",
       " path[<Node:Person id=\"106512\" first_name=rrmerugu created_at=2023-01-24 17:52:51.296000 is_active=True >, <RelationShip:has_role id=\"188y-2a6o-2brp-sl4\" 106512:Person -> has_role -> 37048:Roles created_at=2023-01-24 17:52:51.689000 >, <Node:Roles id=\"37048\" name=Admin >]]"
      ]
     },
     "execution_count": 30,
     "metadata": {},
     "output_type": "execute_result"
    }
   ],
   "source": [
    "p = Person.objects.get_or_none(has__first_name=\"rrmerugu\")\n",
    "graph.connector.vertex.getNodeOutGoingNeighbors(p.id, \"has_role\").toList()"
   ]
  },
  {
   "cell_type": "code",
   "execution_count": 42,
   "id": "0efad2d8",
   "metadata": {},
   "outputs": [
    {
     "data": {
      "text/plain": [
       "[path[<Node:Person id=\"106512\" first_name=rrmerugu created_at=2023-01-24 17:52:51.296000 is_active=True >, <RelationShip:has_skill id=\"172a-2a6o-28lx-1bhc\" 106512:Person -> has_skill -> 61536:Game created_at=2023-01-24 17:52:51.627000 >, <Node:Game id=\"61536\" name=Call of Duty >],\n",
       " path[<Node:Person id=\"106512\" first_name=rrmerugu created_at=2023-01-24 17:52:51.296000 is_active=True >, <RelationShip:has_skill id=\"17gi-2a6o-28lx-oggog\" 106512:Person -> has_skill -> 41078896:Game created_at=2023-01-24 17:52:51.645000 >, <Node:Game id=\"41078896\" name=Fifa >]]"
      ]
     },
     "execution_count": 42,
     "metadata": {},
     "output_type": "execute_result"
    }
   ],
   "source": [
    "p = Person.objects.get_or_none(has__first_name=\"rrmerugu\")\n",
    "graph.connector.vertex.getNodeOutGoingNeighbors(p.id, \"has_skill\", neighbors_labels=[\"Game\"]).toList()"
   ]
  },
  {
   "cell_type": "code",
   "execution_count": 39,
   "id": "2e800737",
   "metadata": {},
   "outputs": [],
   "source": [
    "# p = Person.objects.get_or_none(has__first_name=\"rrmerugu\")\n",
    "# graph.connector.vertex.search(has__id=p.id).get_traversal().outE().inV().path().by(__.elementMap()).toList()"
   ]
  },
  {
   "cell_type": "code",
   "execution_count": 47,
   "id": "4fd704c4",
   "metadata": {},
   "outputs": [
    {
     "data": {
      "text/plain": [
       "[path[<Node:Programming id=\"41074800\" name=Django >, <RelationShip:has_skill id=\"15he-2a6o-28lx-ogdio\" 106512:Person -> has_skill -> 41074800:Programming created_at=2023-01-24 17:52:51.446000 >, <Node:Person id=\"106512\" first_name=rrmerugu created_at=2023-01-24 17:52:51.296000 is_active=True >]]"
      ]
     },
     "execution_count": 47,
     "metadata": {},
     "output_type": "execute_result"
    }
   ],
   "source": [
    "p = Programming.objects.get_or_none(has__name=\"Django\")\n",
    "\n",
    "graph.connector.vertex.getNodeInComingNeighbors(p.id,).toList()        \n"
   ]
  }
 ],
 "metadata": {
  "kernelspec": {
   "display_name": "Python 3 (ipykernel)",
   "language": "python",
   "name": "python3"
  },
  "language_info": {
   "codemirror_mode": {
    "name": "ipython",
    "version": 3
   },
   "file_extension": ".py",
   "mimetype": "text/x-python",
   "name": "python",
   "nbconvert_exporter": "python",
   "pygments_lexer": "ipython3",
   "version": "3.8.16"
  },
  "vscode": {
   "interpreter": {
    "hash": "0c08e14fd58a04dec762dc3b5e1450224403c2283a95e7ccdd4fa92fe76e58c3"
   }
  }
 },
 "nbformat": 4,
 "nbformat_minor": 5
}
