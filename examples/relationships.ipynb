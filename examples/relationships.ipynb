{
 "cells": [
  {
   "cell_type": "code",
   "execution_count": 1,
   "id": "59628136",
   "metadata": {},
   "outputs": [],
   "source": [
    "# for stable version \n",
    "# pip install invana\n",
    "\n",
    "# for installation specific branch\n",
    "#pip install git+https://github.com/invana/invana@refactor/invana-connectors#egg=invana\n",
    "\n",
    "# for latest code \n",
    "import sys\n",
    "sys.path.append(\"../\")"
   ]
  },
  {
   "cell_type": "code",
   "execution_count": 2,
   "id": "917f2aec",
   "metadata": {},
   "outputs": [
    {
     "name": "stderr",
     "output_type": "stream",
     "text": [
      "[DEBUG:2023-01-25 00:26:52,841:connector.update_connection_state:61] - GraphConnector state updated to : CONNECTING\n",
      "[DEBUG:2023-01-25 00:26:52,842:connector._init_connection:99] - create driver connection  \n",
      "[DEBUG:2023-01-25 00:26:53,849:connector.update_connection_state:61] - GraphConnector state updated to : CONNECTED\n"
     ]
    }
   ],
   "source": [
    "from invana import InvanaGraph\n",
    "\n",
    "gremlin_server_url = \"ws://megamind.local:8182/gremlin\"\n",
    "graph = InvanaGraph(gremlin_server_url)"
   ]
  },
  {
   "cell_type": "code",
   "execution_count": 3,
   "id": "45243745",
   "metadata": {},
   "outputs": [],
   "source": [
    "from invana.ogm.models import VertexModel, EdgeModel\n",
    "from invana.ogm.fields import StringProperty, DateTimeProperty, IntegerProperty, FloatProperty, BooleanProperty\n",
    "from invana.ogm import indexes\n",
    "from datetime import datetime\n",
    "\n",
    "\n",
    "class Person(VertexModel):\n",
    "    graph = graph\n",
    "    properties = {\n",
    "        'first_name': StringProperty(max_length=30, trim_whitespaces=True),\n",
    "        'is_active': BooleanProperty(default=True),\n",
    "        'created_at': DateTimeProperty(default=lambda: datetime.now())\n",
    "    }\n",
    "\n",
    "class Roles(VertexModel):\n",
    "    graph = graph\n",
    "    properties = {\n",
    "        'name': StringProperty()\n",
    "    }\n",
    "\n",
    "class Programming(VertexModel):\n",
    "    graph = graph\n",
    "    properties = {\n",
    "        'name': StringProperty(min_length=2, trim_whitespaces=True)\n",
    "    }\n",
    "    \n",
    "class Game(VertexModel):\n",
    "    graph = graph\n",
    "    properties = {\n",
    "        'name': StringProperty(min_length=2, trim_whitespaces=True)\n",
    "    }\n",
    "        \n",
    "class HasSkill(EdgeModel):\n",
    "    graph = graph\n",
    "    properties = {\n",
    "        'created_at': DateTimeProperty(default=lambda: datetime.now())\n",
    "    }\n",
    "\n",
    "class HasRole(EdgeModel):\n",
    "    graph = graph\n",
    "    properties = {\n",
    "        'created_at': DateTimeProperty(default=lambda: datetime.now())\n",
    "    }\n",
    "    \n",
    "    "
   ]
  },
  {
   "cell_type": "code",
   "execution_count": 4,
   "id": "4e4d29d1",
   "metadata": {
    "scrolled": true
   },
   "outputs": [
    {
     "name": "stderr",
     "output_type": "stream",
     "text": [
      "[DEBUG:2023-01-25 00:26:53,889:events.log_event:55] - Request ad35f395-babf-4d32-9fcc-9a2beb4eece2 STARTED with query: mgmt = graph.openManagement()\n",
      "if (mgmt.containsVertexLabel('Person'))\n",
      "    Person = mgmt.getVertexLabel('Person')\n",
      "else \n",
      "    Person = mgmt.makeVertexLabel('Person').make()\n",
      "if (mgmt.containsRelationType('first_name'))\n",
      "    first_name = mgmt.getPropertyKey('first_name')\n",
      "else \n",
      "    first_name = mgmt.makePropertyKey('first_name').dataType(String.class).make()\n",
      "if (mgmt.containsRelationType('is_active'))\n",
      "    is_active = mgmt.getPropertyKey('is_active')\n",
      "else \n",
      "    is_active = mgmt.makePropertyKey('is_active').dataType(Boolean.class).make()\n",
      "if (mgmt.containsRelationType('created_at'))\n",
      "    created_at = mgmt.getPropertyKey('created_at')\n",
      "else \n",
      "    created_at = mgmt.makePropertyKey('created_at').dataType(Date.class).make()\n",
      "mgmt.addProperties(Person, first_name, is_active, created_at)\n",
      "mgmt.commit();; request_options: {};; at 2023-01-25 00:26:53.889132\n",
      "[DEBUG:2023-01-25 00:26:58,929:events.log_event:55] - Request 62525565-5ff7-45d8-8865-79102ca2ec27 STARTED with query: mgmt = graph.openManagement()\n",
      "if (mgmt.containsVertexLabel('Programming'))\n",
      "    Programming = mgmt.getVertexLabel('Programming')\n",
      "else \n",
      "    Programming = mgmt.makeVertexLabel('Programming').make()\n",
      "if (mgmt.containsRelationType('name'))\n",
      "    name = mgmt.getPropertyKey('name')\n",
      "else \n",
      "    name = mgmt.makePropertyKey('name').dataType(String.class).make()\n",
      "mgmt.addProperties(Programming, name)\n",
      "mgmt.commit();; request_options: {};; at 2023-01-25 00:26:58.929471\n",
      "[DEBUG:2023-01-25 00:26:58,930:events.log_event:111] - Request ad35f395-babf-4d32-9fcc-9a2beb4eece2 RESPONSE_RECEIVED:SUCCESS with status code: 200 at 2023-01-25 00:26:58.930135; took -0.000965\n",
      "[DEBUG:2023-01-25 00:26:58,940:events.log_event:70] - Request ad35f395-babf-4d32-9fcc-9a2beb4eece2 FINISHED successfully at 2023-01-25 00:26:58.940508; elapsed_time -6.8e-05\n",
      "[DEBUG:2023-01-25 00:27:03,962:events.log_event:55] - Request 5894ec11-7dc1-453d-afac-af4398e57b27 STARTED with query: mgmt = graph.openManagement()\n",
      "if (mgmt.containsVertexLabel('Game'))\n",
      "    Game = mgmt.getVertexLabel('Game')\n",
      "else \n",
      "    Game = mgmt.makeVertexLabel('Game').make()\n",
      "if (mgmt.containsRelationType('name'))\n",
      "    name = mgmt.getPropertyKey('name')\n",
      "else \n",
      "    name = mgmt.makePropertyKey('name').dataType(String.class).make()\n",
      "mgmt.addProperties(Game, name)\n",
      "mgmt.commit();; request_options: {};; at 2023-01-25 00:27:03.962649\n",
      "[DEBUG:2023-01-25 00:27:03,963:events.log_event:111] - Request 62525565-5ff7-45d8-8865-79102ca2ec27 RESPONSE_RECEIVED:SUCCESS with status code: 200 at 2023-01-25 00:27:03.963261; took -0.000876\n",
      "[DEBUG:2023-01-25 00:27:03,969:events.log_event:70] - Request 62525565-5ff7-45d8-8865-79102ca2ec27 FINISHED successfully at 2023-01-25 00:27:03.969745; elapsed_time -7.1e-05\n",
      "[DEBUG:2023-01-25 00:27:09,003:events.log_event:111] - Request 5894ec11-7dc1-453d-afac-af4398e57b27 RESPONSE_RECEIVED:SUCCESS with status code: 200 at 2023-01-25 00:27:09.003784; took -0.000347\n",
      "[DEBUG:2023-01-25 00:27:09,008:events.log_event:70] - Request 5894ec11-7dc1-453d-afac-af4398e57b27 FINISHED successfully at 2023-01-25 00:27:09.008826; elapsed_time -9.2e-05\n",
      "[DEBUG:2023-01-25 00:27:09,004:events.log_event:55] - Request 70dc7beb-3980-422e-b397-baf1e760b2e3 STARTED with query: mgmt = graph.openManagement()\n",
      "if (mgmt.containsEdgeLabel('has_skill'))\n",
      "    has_skill = mgmt.getEdgeLabel('has_skill')\n",
      "else \n",
      "    has_skill = mgmt.makeEdgeLabel('has_skill').make()\n",
      "if (mgmt.containsRelationType('created_at'))\n",
      "    created_at = mgmt.getPropertyKey('created_at')\n",
      "else \n",
      "    created_at = mgmt.makePropertyKey('created_at').dataType(Date.class).make()\n",
      "mgmt.addProperties(has_skill, created_at)\n",
      "mgmt.commit();; request_options: {};; at 2023-01-25 00:27:09.004911\n",
      "[DEBUG:2023-01-25 00:27:14,103:events.log_event:111] - Request 70dc7beb-3980-422e-b397-baf1e760b2e3 RESPONSE_RECEIVED:SUCCESS with status code: 200 at 2023-01-25 00:27:14.103778; took -5.9e-05\n",
      "[DEBUG:2023-01-25 00:27:14,104:events.log_event:55] - Request 4f3a0036-7ea3-4c53-9e8c-a659f87ba831 STARTED with query: mgmt = graph.openManagement()\n",
      "if (mgmt.containsVertexLabel('Roles'))\n",
      "    Roles = mgmt.getVertexLabel('Roles')\n",
      "else \n",
      "    Roles = mgmt.makeVertexLabel('Roles').make()\n",
      "if (mgmt.containsRelationType('name'))\n",
      "    name = mgmt.getPropertyKey('name')\n",
      "else \n",
      "    name = mgmt.makePropertyKey('name').dataType(String.class).make()\n",
      "mgmt.addProperties(Roles, name)\n",
      "mgmt.commit();; request_options: {};; at 2023-01-25 00:27:14.104249\n",
      "[DEBUG:2023-01-25 00:27:14,105:events.log_event:70] - Request 70dc7beb-3980-422e-b397-baf1e760b2e3 FINISHED successfully at 2023-01-25 00:27:14.105489; elapsed_time -4.8e-05\n",
      "[DEBUG:2023-01-25 00:27:14,116:events.log_event:111] - Request 4f3a0036-7ea3-4c53-9e8c-a659f87ba831 RESPONSE_RECEIVED:SUCCESS with status code: 200 at 2023-01-25 00:27:14.116935; took -0.000161\n",
      "[DEBUG:2023-01-25 00:27:14,117:events.log_event:55] - Request 75d75c31-adc0-41bf-988a-6fd7fdd1c40d STARTED with query: mgmt = graph.openManagement()\n",
      "if (mgmt.containsEdgeLabel('has_role'))\n",
      "    has_role = mgmt.getEdgeLabel('has_role')\n",
      "else \n",
      "    has_role = mgmt.makeEdgeLabel('has_role').make()\n",
      "if (mgmt.containsRelationType('created_at'))\n",
      "    created_at = mgmt.getPropertyKey('created_at')\n",
      "else \n",
      "    created_at = mgmt.makePropertyKey('created_at').dataType(Date.class).make()\n",
      "mgmt.addProperties(has_role, created_at)\n",
      "mgmt.commit();; request_options: {};; at 2023-01-25 00:27:14.117376\n",
      "[DEBUG:2023-01-25 00:27:14,117:events.log_event:70] - Request 4f3a0036-7ea3-4c53-9e8c-a659f87ba831 FINISHED successfully at 2023-01-25 00:27:14.117806; elapsed_time -2.2e-05\n",
      "[WARNING:2023-01-25 00:27:14,124:helpers.create_indexes_only_from_model:19] - Found no indexes on model 'Person'.\n",
      "Review your model and create indexes for performance !!\n",
      "[DEBUG:2023-01-25 00:27:14,125:events.log_event:111] - Request 75d75c31-adc0-41bf-988a-6fd7fdd1c40d RESPONSE_RECEIVED:SUCCESS with status code: 200 at 2023-01-25 00:27:14.125037; took -0.000178\n",
      "[DEBUG:2023-01-25 00:27:14,126:events.log_event:70] - Request 75d75c31-adc0-41bf-988a-6fd7fdd1c40d FINISHED successfully at 2023-01-25 00:27:14.126260; elapsed_time -2.2e-05\n",
      "[WARNING:2023-01-25 00:27:14,125:helpers.create_indexes_only_from_model:19] - Found no indexes on model 'Programming'.\n",
      "Review your model and create indexes for performance !!\n",
      "[WARNING:2023-01-25 00:27:14,127:helpers.create_indexes_only_from_model:19] - Found no indexes on model 'Game'.\n",
      "Review your model and create indexes for performance !!\n",
      "[WARNING:2023-01-25 00:27:14,128:helpers.create_indexes_only_from_model:19] - Found no indexes on model 'has_skill'.\n",
      "Review your model and create indexes for performance !!\n",
      "[WARNING:2023-01-25 00:27:14,129:helpers.create_indexes_only_from_model:19] - Found no indexes on model 'Roles'.\n",
      "Review your model and create indexes for performance !!\n",
      "[WARNING:2023-01-25 00:27:14,129:helpers.create_indexes_only_from_model:19] - Found no indexes on model 'has_role'.\n",
      "Review your model and create indexes for performance !!\n"
     ]
    },
    {
     "name": "stdout",
     "output_type": "stream",
     "text": [
      "Installed models\n"
     ]
    }
   ],
   "source": [
    "from invana.helpers.helpers import install_models\n",
    "\n",
    "shoud_install_models = True\n",
    "\n",
    "if shoud_install_models is True:\n",
    "    # i_understand_rollback=True will roll back any transactions in pending.\n",
    "    install_models(graph, Person, Programming, Game, HasSkill, Roles, HasRole)\n",
    "    print(\"Installed models\")\n",
    "else:\n",
    "    print(f\"Ignoring models installation because install_models={install_models}\")"
   ]
  },
  {
   "cell_type": "code",
   "execution_count": null,
   "id": "05bec3a5",
   "metadata": {},
   "outputs": [],
   "source": []
  },
  {
   "cell_type": "code",
   "execution_count": 5,
   "id": "9f1d0702",
   "metadata": {},
   "outputs": [
    {
     "name": "stdout",
     "output_type": "stream",
     "text": [
      "Created data\n"
     ]
    }
   ],
   "source": [
    "Person.objects.delete()\n",
    "Programming.objects.delete()\n",
    "Game.objects.delete()\n",
    "HasSkill.objects.delete()\n",
    "HasRole.objects.delete()\n",
    "\n",
    "p = Person.objects.create(first_name=\"rrmerugu\")\n",
    "\n",
    "_, django = Programming.objects.get_or_create(name=\"Django\")\n",
    "_, python = Programming.objects.get_or_create(name=\"Python\")\n",
    "_, neo4j = Programming.objects.get_or_create(name=\"neo4j\")\n",
    "_, janusgraph = Programming.objects.get_or_create(name=\"Janusgraph\")\n",
    "\n",
    "HasSkill.objects.get_or_create(p.id, django.id)\n",
    "HasSkill.objects.get_or_create(p.id, python.id)\n",
    "HasSkill.objects.get_or_create(p.id, neo4j.id)\n",
    "HasSkill.objects.get_or_create(p.id, janusgraph.id)\n",
    "\n",
    "_, cod = Game.objects.get_or_create(name=\"Call of Duty\")\n",
    "_, fifa = Game.objects.get_or_create(name=\"Fifa\")\n",
    "\n",
    "HasSkill.objects.get_or_create(p.id, cod.id)\n",
    "HasSkill.objects.get_or_create(p.id, fifa.id)\n",
    "\n",
    "\n",
    "_, dev_role = Roles.objects.get_or_create(name=\"Developer\")\n",
    "_, admin_role = Roles.objects.get_or_create(name=\"Admin\")\n",
    "\n",
    "HasRole.objects.get_or_create(p.id, dev_role.id)\n",
    "HasRole.objects.get_or_create(p.id, admin_role.id)\n",
    "\n",
    "\n",
    "print(\"Created data\")"
   ]
  },
  {
   "cell_type": "code",
   "execution_count": 6,
   "id": "62ab6885",
   "metadata": {},
   "outputs": [],
   "source": [
    "# p = Person.objects.get_or_none(has__first_name=\"rrmerugu\")\n",
    "# graph.connector.vertex.search(has__id=p.id).get_traversal() \\\n",
    "# .bothE(\"has_skill\")._as(\"e\") \\\n",
    "# .inV().hasLabel(\"Programming\")._as(\"v\")\\\n",
    "# .select(\"a\",\"e\") \\\n",
    "# .toList()\n",
    "# # print(p)"
   ]
  },
  {
   "cell_type": "code",
   "execution_count": 7,
   "id": "e2a85bac",
   "metadata": {},
   "outputs": [
    {
     "name": "stdout",
     "output_type": "stream",
     "text": [
      "=== path[<Node:Person id=\"41095280\" first_name=rrmerugu created_at=2023-01-25 00:27:14.204000 is_active=True >, <RelationShip:has_skill id=\"ofjf2-ogtbk-28lx-18d4\" 41095280:Person -> has_skill -> 57496:Programming created_at=2023-01-25 00:27:14.428000 >, <Node:Programming id=\"57496\" name=neo4j >]\n",
      "=== path[<Node:Person id=\"41095280\" first_name=rrmerugu created_at=2023-01-25 00:27:14.204000 is_active=True >, <RelationShip:has_skill id=\"ofjta-ogtbk-28lx-1en4\" 41095280:Person -> has_skill -> 65632:Programming created_at=2023-01-25 00:27:14.443000 >, <Node:Programming id=\"65632\" name=Janusgraph >]\n",
      "=== path[<Node:Person id=\"41095280\" first_name=rrmerugu created_at=2023-01-25 00:27:14.204000 is_active=True >, <RelationShip:has_skill id=\"ofj0u-ogtbk-28lx-1rbk\" 41095280:Person -> has_skill -> 82064:Programming created_at=2023-01-25 00:27:14.412000 >, <Node:Programming id=\"82064\" name=Python >]\n",
      "=== path[<Node:Person id=\"41095280\" first_name=rrmerugu created_at=2023-01-25 00:27:14.204000 is_active=True >, <RelationShip:has_skill id=\"ofimm-ogtbk-28lx-2jo0\" 41095280:Person -> has_skill -> 118800:Programming created_at=2023-01-25 00:27:14.396000 >, <Node:Programming id=\"118800\" name=Django >]\n"
     ]
    }
   ],
   "source": [
    "from gremlin_python.process.graph_traversal import __\n",
    "\n",
    "p = Person.objects.get_or_none(has__first_name=\"rrmerugu\")\n",
    "data = graph.connector.vertex.search(has__id=p.id).get_traversal() \\\n",
    ".bothE(\"has_skill\") \\\n",
    ".inV().hasLabel(\"Programming\") \\\n",
    ".path().by(__.elementMap())\n",
    "#.toList()\n",
    "\n",
    "for d in data:\n",
    "    print(\"===\", d)\n",
    "# print(p)"
   ]
  },
  {
   "cell_type": "code",
   "execution_count": 8,
   "id": "f692c069",
   "metadata": {},
   "outputs": [
    {
     "data": {
      "text/plain": [
       "[]"
      ]
     },
     "execution_count": 8,
     "metadata": {},
     "output_type": "execute_result"
    }
   ],
   "source": [
    "p = Person.objects.get_or_none(has__first_name=\"rrmerugu\")\n",
    "graph.connector.vertex.getNodeInComingNeighbors(p.id).toList()"
   ]
  },
  {
   "cell_type": "code",
   "execution_count": 9,
   "id": "c199725a",
   "metadata": {},
   "outputs": [
    {
     "data": {
      "text/plain": [
       "[path[<Node:Person id=\"41095280\" first_name=rrmerugu created_at=2023-01-25 00:27:14.204000 is_active=True >, <RelationShip:has_role id=\"ofm6m-ogtbk-2brp-m74\" 41095280:Person -> has_role -> 28768:Roles created_at=2023-01-25 00:27:14.643000 >, <Node:Roles id=\"28768\" name=Developer >],\n",
       " path[<Node:Person id=\"41095280\" first_name=rrmerugu created_at=2023-01-25 00:27:14.204000 is_active=True >, <RelationShip:has_role id=\"ofmku-ogtbk-2brp-sl4\" 41095280:Person -> has_role -> 37048:Roles created_at=2023-01-25 00:27:14.659000 >, <Node:Roles id=\"37048\" name=Admin >]]"
      ]
     },
     "execution_count": 9,
     "metadata": {},
     "output_type": "execute_result"
    }
   ],
   "source": [
    "p = Person.objects.get_or_none(has__first_name=\"rrmerugu\")\n",
    "graph.connector.vertex.getNodeOutGoingNeighbors(p.id, \"has_role\").toList()"
   ]
  },
  {
   "cell_type": "code",
   "execution_count": 10,
   "id": "4e7d7307",
   "metadata": {},
   "outputs": [
    {
     "data": {
      "text/plain": [
       "[path[<Node:Person id=\"41095280\" first_name=rrmerugu created_at=2023-01-25 00:27:14.204000 is_active=True >, <RelationShip:has_skill id=\"ofle6-ogtbk-28lx-157s\" 41095280:Person -> has_skill -> 53416:Game created_at=2023-01-25 00:27:14.596000 >, <Node:Game id=\"53416\" name=Call of Duty >],\n",
       " path[<Node:Person id=\"41095280\" first_name=rrmerugu created_at=2023-01-25 00:27:14.204000 is_active=True >, <RelationShip:has_skill id=\"oflse-ogtbk-28lx-ogwhc\" 41095280:Person -> has_skill -> 41099376:Game created_at=2023-01-25 00:27:14.613000 >, <Node:Game id=\"41099376\" name=Fifa >]]"
      ]
     },
     "execution_count": 10,
     "metadata": {},
     "output_type": "execute_result"
    }
   ],
   "source": [
    "p = Person.objects.get_or_none(has__first_name=\"rrmerugu\")\n",
    "graph.connector.vertex.getNodeOutGoingNeighbors(p.id, \"has_skill\", neighbors_labels=[\"Game\"]).toList()"
   ]
  },
  {
   "cell_type": "code",
   "execution_count": 11,
   "id": "005bc3a4",
   "metadata": {},
   "outputs": [],
   "source": [
    "# p = Person.objects.get_or_none(has__first_name=\"rrmerugu\")\n",
    "# graph.connector.vertex.search(has__id=p.id).get_traversal().outE().inV().path().by(__.elementMap()).toList()"
   ]
  },
  {
   "cell_type": "code",
   "execution_count": 12,
   "id": "d9637dd5",
   "metadata": {},
   "outputs": [
    {
     "data": {
      "text/plain": [
       "[path[<Node:Programming id=\"118800\" name=Django >, <RelationShip:has_skill id=\"ofimm-ogtbk-28lx-2jo0\" 41095280:Person -> has_skill -> 118800:Programming created_at=2023-01-25 00:27:14.396000 >, <Node:Person id=\"41095280\" first_name=rrmerugu created_at=2023-01-25 00:27:14.204000 is_active=True >]]"
      ]
     },
     "execution_count": 12,
     "metadata": {},
     "output_type": "execute_result"
    }
   ],
   "source": [
    "p = Programming.objects.get_or_none(has__name=\"Django\")\n",
    "\n",
    "graph.connector.vertex.getNodeInComingNeighbors(p.id,).toList()        \n"
   ]
  }
 ],
 "metadata": {
  "kernelspec": {
   "display_name": "Python 3 (ipykernel)",
   "language": "python",
   "name": "python3"
  },
  "language_info": {
   "codemirror_mode": {
    "name": "ipython",
    "version": 3
   },
   "file_extension": ".py",
   "mimetype": "text/x-python",
   "name": "python",
   "nbconvert_exporter": "python",
   "pygments_lexer": "ipython3",
   "version": "3.8.16"
  },
  "vscode": {
   "interpreter": {
    "hash": "0c08e14fd58a04dec762dc3b5e1450224403c2283a95e7ccdd4fa92fe76e58c3"
   }
  }
 },
 "nbformat": 4,
 "nbformat_minor": 5
}
