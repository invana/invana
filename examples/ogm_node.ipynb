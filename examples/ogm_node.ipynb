{
 "cells": [
  {
   "cell_type": "markdown",
   "id": "aeb00e57",
   "metadata": {},
   "source": [
    "## Install invana-connector"
   ]
  },
  {
   "cell_type": "code",
   "execution_count": 1,
   "id": "97583067",
   "metadata": {},
   "outputs": [],
   "source": [
    "# for stable version \n",
    "# pip install invana\n",
    "\n",
    "# for installation specific branch\n",
    "#pip install git+https://github.com/invana/invana@refactor/invana-connectors#egg=invana\n",
    "\n",
    "# for latest code \n",
    "import sys\n",
    "sys.path.append(\"../\")"
   ]
  },
  {
   "cell_type": "code",
   "execution_count": 2,
   "id": "6ba13b05",
   "metadata": {},
   "outputs": [],
   "source": [
    "def print_list(list_data):\n",
    "    for data in list_data:\n",
    "        print(\"\",data)"
   ]
  },
  {
   "cell_type": "markdown",
   "id": "c4e3ee81",
   "metadata": {},
   "source": [
    "## 1. Modelling graph"
   ]
  },
  {
   "cell_type": "markdown",
   "id": "05b77d15",
   "metadata": {},
   "source": [
    "### 1.1 Creating graph instance"
   ]
  },
  {
   "cell_type": "code",
   "execution_count": 3,
   "id": "a8a2b1df",
   "metadata": {},
   "outputs": [
    {
     "name": "stderr",
     "output_type": "stream",
     "text": [
      "[DEBUG:2023-01-22 00:06:37,088:connector.update_connection_state:61] - GraphConnector state updated to : CONNECTING\n",
      "[DEBUG:2023-01-22 00:06:37,089:connector._init_connection:99] - create driver connection  \n",
      "[DEBUG:2023-01-22 00:06:38,095:connector.update_connection_state:61] - GraphConnector state updated to : CONNECTED\n"
     ]
    }
   ],
   "source": [
    "from invana import InvanaGraph\n",
    "\n",
    "gremlin_server_url = \"ws://megamind.local:8182/gremlin\"\n",
    "\n",
    "graph = InvanaGraph(gremlin_server_url)"
   ]
  },
  {
   "cell_type": "markdown",
   "id": "92e3c533",
   "metadata": {},
   "source": [
    "### 1.2 Defining Nodes and Relationship Models"
   ]
  },
  {
   "cell_type": "code",
   "execution_count": 168,
   "id": "8b515ea9",
   "metadata": {},
   "outputs": [],
   "source": [
    "from invana.ogm.models import VertexModel, EdgeModel\n",
    "from invana.ogm.fields import StringProperty, DateTimeProperty, IntegerProperty, FloatProperty, BooleanProperty\n",
    "from invana.ogm import indexes\n",
    "from datetime import datetime\n",
    "\n",
    "\n",
    "class Project(VertexModel):\n",
    "    graph = graph\n",
    "    properties = {\n",
    "        'name': StringProperty(max_length=30, trim_whitespaces=True),\n",
    "        'description': StringProperty(allow_null=True, min_length=5),\n",
    "        'rating': FloatProperty(allow_null=True),\n",
    "        'is_active': BooleanProperty(default=True),\n",
    "        'created_at': DateTimeProperty(default=lambda: datetime.now())\n",
    "    }\n",
    "    indexes = (\n",
    "        indexes.CompositeIndex(\"name\"),\n",
    "        indexes.CompositeIndex(\"created_at\")\n",
    "    )\n",
    "\n",
    "\n",
    "class Person(VertexModel):\n",
    "    graph = graph\n",
    "    properties = {\n",
    "        'first_name': StringProperty(min_length=5, trim_whitespaces=True),\n",
    "        'last_name': StringProperty(allow_null=True),\n",
    "        'username': StringProperty(default=\"rrmerugu\"),\n",
    "        'member_since': IntegerProperty(),\n",
    "\n",
    "    }\n",
    "    indexes = (\n",
    "        indexes.CompositeIndex(\"username\"),\n",
    "    )\n",
    "\n",
    "\n",
    "class Authored(EdgeModel):\n",
    "    graph = graph\n",
    "    properties = {\n",
    "        'created_at': DateTimeProperty(default=lambda: datetime.now()),\n",
    "        'since': IntegerProperty()\n",
    "    }\n",
    "    indexes = (\n",
    "        indexes.CompositeIndex(\"created_at\")\n",
    "    )"
   ]
  },
  {
   "cell_type": "code",
   "execution_count": null,
   "id": "83ea9b6a",
   "metadata": {},
   "outputs": [],
   "source": []
  },
  {
   "cell_type": "markdown",
   "id": "890c3cbd",
   "metadata": {},
   "source": [
    "### 1.3 Installing models on graph"
   ]
  },
  {
   "cell_type": "code",
   "execution_count": 170,
   "id": "9075c110",
   "metadata": {},
   "outputs": [
    {
     "name": "stderr",
     "output_type": "stream",
     "text": [
      "[DEBUG:2023-01-22 01:39:30,024:events.log_event:55] - Request a8624281-3034-4f5b-9fa6-e75eb9f1abe4 STARTED with query: mgmt = graph.openManagement()\n",
      "if (mgmt.containsVertexLabel('Project'))\n",
      "    Project = mgmt.getVertexLabel('Project')\n",
      "else \n",
      "    Project = mgmt.makeVertexLabel('Project').make()\n",
      "if (mgmt.containsRelationType('name'))\n",
      "    name = mgmt.getPropertyKey('name')\n",
      "else \n",
      "    name = mgmt.makePropertyKey('name').dataType(String.class).make()\n",
      "if (mgmt.containsRelationType('description'))\n",
      "    description = mgmt.getPropertyKey('description')\n",
      "else \n",
      "    description = mgmt.makePropertyKey('description').dataType(String.class).make()\n",
      "if (mgmt.containsRelationType('rating'))\n",
      "    rating = mgmt.getPropertyKey('rating')\n",
      "else \n",
      "    rating = mgmt.makePropertyKey('rating').dataType(Float.class).make()\n",
      "if (mgmt.containsRelationType('is_active'))\n",
      "    is_active = mgmt.getPropertyKey('is_active')\n",
      "else \n",
      "    is_active = mgmt.makePropertyKey('is_active').dataType(Boolean.class).make()\n",
      "if (mgmt.containsRelationType('created_at'))\n",
      "    created_at = mgmt.getPropertyKey('created_at')\n",
      "else \n",
      "    created_at = mgmt.makePropertyKey('created_at').dataType(Date.class).make()\n",
      "mgmt.addProperties(Project, name, description, rating, is_active, created_at)\n",
      "mgmt.commit();; request_options: {};; at 2023-01-22 01:39:30.024167\n",
      "[DEBUG:2023-01-22 01:39:30,038:events.log_event:111] - Request a8624281-3034-4f5b-9fa6-e75eb9f1abe4 RESPONSE_RECEIVED:SUCCESS with status code: 200 at 2023-01-22 01:39:30.038308; took -7.2e-05\n",
      "[DEBUG:2023-01-22 01:39:30,038:events.log_event:55] - Request 18fab7b9-fc94-4139-93b8-645842dc5358 STARTED with query: mgmt = graph.openManagement()\n",
      "if (mgmt.containsVertexLabel('Person'))\n",
      "    Person = mgmt.getVertexLabel('Person')\n",
      "else \n",
      "    Person = mgmt.makeVertexLabel('Person').make()\n",
      "if (mgmt.containsRelationType('first_name'))\n",
      "    first_name = mgmt.getPropertyKey('first_name')\n",
      "else \n",
      "    first_name = mgmt.makePropertyKey('first_name').dataType(String.class).make()\n",
      "if (mgmt.containsRelationType('last_name'))\n",
      "    last_name = mgmt.getPropertyKey('last_name')\n",
      "else \n",
      "    last_name = mgmt.makePropertyKey('last_name').dataType(String.class).make()\n",
      "if (mgmt.containsRelationType('username'))\n",
      "    username = mgmt.getPropertyKey('username')\n",
      "else \n",
      "    username = mgmt.makePropertyKey('username').dataType(String.class).make()\n",
      "if (mgmt.containsRelationType('member_since'))\n",
      "    member_since = mgmt.getPropertyKey('member_since')\n",
      "else \n",
      "    member_since = mgmt.makePropertyKey('member_since').dataType(Integer.class).make()\n",
      "mgmt.addProperties(Person, first_name, last_name, username, member_since)\n",
      "mgmt.commit();; request_options: {};; at 2023-01-22 01:39:30.038713\n",
      "[DEBUG:2023-01-22 01:39:30,039:events.log_event:70] - Request a8624281-3034-4f5b-9fa6-e75eb9f1abe4 FINISHED successfully at 2023-01-22 01:39:30.039747; elapsed_time -3.8e-05\n",
      "[DEBUG:2023-01-22 01:39:30,056:events.log_event:55] - Request 19d8ec69-7f0f-432c-9954-449eba5162d4 STARTED with query: mgmt = graph.openManagement()\n",
      "if (mgmt.containsEdgeLabel('authored'))\n",
      "    authored = mgmt.getEdgeLabel('authored')\n",
      "else \n",
      "    authored = mgmt.makeEdgeLabel('authored').make()\n",
      "if (mgmt.containsRelationType('created_at'))\n",
      "    created_at = mgmt.getPropertyKey('created_at')\n",
      "else \n",
      "    created_at = mgmt.makePropertyKey('created_at').dataType(Date.class).make()\n",
      "if (mgmt.containsRelationType('since'))\n",
      "    since = mgmt.getPropertyKey('since')\n",
      "else \n",
      "    since = mgmt.makePropertyKey('since').dataType(Integer.class).make()\n",
      "mgmt.addProperties(authored, created_at, since)\n",
      "mgmt.commit();; request_options: {};; at 2023-01-22 01:39:30.055985\n",
      "[DEBUG:2023-01-22 01:39:30,056:events.log_event:111] - Request 18fab7b9-fc94-4139-93b8-645842dc5358 RESPONSE_RECEIVED:SUCCESS with status code: 200 at 2023-01-22 01:39:30.056397; took -0.000541\n",
      "[DEBUG:2023-01-22 01:39:30,059:events.log_event:70] - Request 18fab7b9-fc94-4139-93b8-645842dc5358 FINISHED successfully at 2023-01-22 01:39:30.059250; elapsed_time -3.9e-05\n",
      "[DEBUG:2023-01-22 01:39:30,080:events.log_event:111] - Request 19d8ec69-7f0f-432c-9954-449eba5162d4 RESPONSE_RECEIVED:SUCCESS with status code: 200 at 2023-01-22 01:39:30.080187; took -0.000139\n",
      "[DEBUG:2023-01-22 01:39:30,080:events.log_event:55] - Request 53ead65d-ca2d-43d9-b962-335218bea14b STARTED with query: \n",
      "size = graph.getOpenTransactions().size()\n",
      "if(size>0) {for(i=0;i<size;i++) {graph.getOpenTransactions().getAt(0).rollback()}}\n",
      "graph.getOpenTransactions()        \n",
      "        ;; request_options: {};; at 2023-01-22 01:39:30.080445\n",
      "[DEBUG:2023-01-22 01:39:30,081:events.log_event:70] - Request 19d8ec69-7f0f-432c-9954-449eba5162d4 FINISHED successfully at 2023-01-22 01:39:30.081802; elapsed_time -0.000151\n",
      "[DEBUG:2023-01-22 01:39:30,086:events.log_event:111] - Request 53ead65d-ca2d-43d9-b962-335218bea14b RESPONSE_RECEIVED:SUCCESS with status code: 200 at 2023-01-22 01:39:30.086863; took -2e-05\n",
      "[INFO:2023-01-22 01:39:30,086:indexes.create_from_model:13] - Creating index for model - <class '__main__.Project'>\n",
      "[DEBUG:2023-01-22 01:39:30,087:events.log_event:70] - Request 53ead65d-ca2d-43d9-b962-335218bea14b FINISHED successfully at 2023-01-22 01:39:30.087484; elapsed_time -2.2e-05\n",
      "[INFO:2023-01-22 01:39:30,087:indexes.create:33] - Creating index -  <Composite (index_name=CompositeIndexByName; label=None; properties=name />\n",
      "[DEBUG:2023-01-22 01:39:30,088:events.log_event:55] - Request 8d58635d-0a88-4b1a-b874-e5d04a33922c STARTED with query: graph.getOpenTransactions().size();; request_options: {};; at 2023-01-22 01:39:30.088329\n",
      "[DEBUG:2023-01-22 01:39:30,092:events.log_event:55] - Request 39bf1350-ea98-454e-97dc-3dcef5f6f8e1 STARTED with query: \n",
      "graph.tx().rollback()  //Never create new indexes while a transaction is active\n",
      "mgmt = graph.openManagement()\n",
      "name = mgmt.getPropertyKey('name')\n",
      "mgmt.buildIndex('CompositeIndexByName', Vertex.class).addKey(name).buildCompositeIndex()\n",
      "mgmt.commit()\n",
      "//Wait for the index to become available\n",
      "ManagementSystem.awaitGraphIndexStatus(graph, 'CompositeIndexByName').call()\n",
      "\n",
      "//Reindex the existing data\n",
      "mgmt = graph.openManagement()\n",
      "//Reindex the existing data\n",
      "mgmt.updateIndex(mgmt.getGraphIndex(\"CompositeIndexByName\"), SchemaAction.REINDEX).get()\n",
      "mgmt.commit()\n",
      ";; request_options: {};; at 2023-01-22 01:39:30.092857\n",
      "[DEBUG:2023-01-22 01:39:30,092:events.log_event:111] - Request 8d58635d-0a88-4b1a-b874-e5d04a33922c RESPONSE_RECEIVED:SUCCESS with status code: 200 at 2023-01-22 01:39:30.092934; took -0.000127\n",
      "[DEBUG:2023-01-22 01:39:30,094:events.log_event:70] - Request 8d58635d-0a88-4b1a-b874-e5d04a33922c FINISHED successfully at 2023-01-22 01:39:30.094915; elapsed_time -7.8e-05\n",
      "[ERROR:2023-01-22 01:39:30,097:events.log_event:126] - Request 39bf1350-ea98-454e-97dc-3dcef5f6f8e1 RESPONSE_RECEIVED:FAILED with error 597: An index with name 'CompositeIndexByName' has already been defined at 2023-01-22 01:39:30.097142; took -2.1e-05\n",
      "[ERROR:2023-01-22 01:39:30,097:events.log_event:88] - Request 39bf1350-ea98-454e-97dc-3dcef5f6f8e1 FINISHED with status code : 597:SERVER ERROR EVALUATION at 2023-01-22 01:39:30.097476; elapsed_time -1.2e-05\n",
      "[INFO:2023-01-22 01:39:30,097:indexes.create:33] - Creating index -  <Composite (index_name=CompositeIndexByCreated_at; label=None; properties=created_at />\n",
      "[DEBUG:2023-01-22 01:39:30,098:events.log_event:55] - Request 0c22f746-c2bd-419d-8c89-609f0d465936 STARTED with query: graph.getOpenTransactions().size();; request_options: {};; at 2023-01-22 01:39:30.098129\n",
      "[DEBUG:2023-01-22 01:39:30,101:events.log_event:55] - Request 574716e2-a0e6-446e-b5f8-f71a8639e99a STARTED with query: \n",
      "graph.tx().rollback()  //Never create new indexes while a transaction is active\n",
      "mgmt = graph.openManagement()\n",
      "created_at = mgmt.getPropertyKey('created_at')\n",
      "mgmt.buildIndex('CompositeIndexByCreated_at', Vertex.class).addKey(created_at).buildCompositeIndex()\n",
      "mgmt.commit()\n",
      "//Wait for the index to become available\n",
      "ManagementSystem.awaitGraphIndexStatus(graph, 'CompositeIndexByCreated_at').call()\n",
      "\n",
      "//Reindex the existing data\n",
      "mgmt = graph.openManagement()\n",
      "//Reindex the existing data\n",
      "mgmt.updateIndex(mgmt.getGraphIndex(\"CompositeIndexByCreated_at\"), SchemaAction.REINDEX).get()\n",
      "mgmt.commit()\n",
      ";; request_options: {};; at 2023-01-22 01:39:30.101656\n"
     ]
    },
    {
     "name": "stderr",
     "output_type": "stream",
     "text": [
      "[DEBUG:2023-01-22 01:39:30,101:events.log_event:111] - Request 0c22f746-c2bd-419d-8c89-609f0d465936 RESPONSE_RECEIVED:SUCCESS with status code: 200 at 2023-01-22 01:39:30.101729; took -0.000122\n",
      "[DEBUG:2023-01-22 01:39:30,102:events.log_event:70] - Request 0c22f746-c2bd-419d-8c89-609f0d465936 FINISHED successfully at 2023-01-22 01:39:30.102466; elapsed_time -1.4e-05\n",
      "[ERROR:2023-01-22 01:39:30,105:events.log_event:126] - Request 574716e2-a0e6-446e-b5f8-f71a8639e99a RESPONSE_RECEIVED:FAILED with error 597: An index with name 'CompositeIndexByCreated_at' has already been defined at 2023-01-22 01:39:30.105557; took -1.6e-05\n",
      "[ERROR:2023-01-22 01:39:30,105:events.log_event:88] - Request 574716e2-a0e6-446e-b5f8-f71a8639e99a FINISHED with status code : 597:SERVER ERROR EVALUATION at 2023-01-22 01:39:30.105927; elapsed_time -2.3e-05\n",
      "[DEBUG:2023-01-22 01:39:30,106:events.log_event:55] - Request 951bd87c-de26-4204-b8c4-15d9285cd018 STARTED with query: \n",
      "size = graph.getOpenTransactions().size()\n",
      "if(size>0) {for(i=0;i<size;i++) {graph.getOpenTransactions().getAt(0).rollback()}}\n",
      "graph.getOpenTransactions()        \n",
      "        ;; request_options: {};; at 2023-01-22 01:39:30.106394\n",
      "[INFO:2023-01-22 01:39:30,109:indexes.create_from_model:13] - Creating index for model - <class '__main__.Person'>\n",
      "[DEBUG:2023-01-22 01:39:30,110:events.log_event:111] - Request 951bd87c-de26-4204-b8c4-15d9285cd018 RESPONSE_RECEIVED:SUCCESS with status code: 200 at 2023-01-22 01:39:30.109994; took -0.000108\n",
      "[INFO:2023-01-22 01:39:30,110:indexes.create:33] - Creating index -  <Composite (index_name=CompositeIndexByUsername; label=None; properties=username />\n",
      "[DEBUG:2023-01-22 01:39:30,110:events.log_event:70] - Request 951bd87c-de26-4204-b8c4-15d9285cd018 FINISHED successfully at 2023-01-22 01:39:30.110769; elapsed_time -1.8e-05\n",
      "[DEBUG:2023-01-22 01:39:30,111:events.log_event:55] - Request af5c7af0-f0d7-45fa-a2b6-73ea5347fb20 STARTED with query: graph.getOpenTransactions().size();; request_options: {};; at 2023-01-22 01:39:30.111094\n",
      "[DEBUG:2023-01-22 01:39:30,114:events.log_event:55] - Request 426f5095-8038-4272-b2df-eb1b0e6e4527 STARTED with query: \n",
      "graph.tx().rollback()  //Never create new indexes while a transaction is active\n",
      "mgmt = graph.openManagement()\n",
      "username = mgmt.getPropertyKey('username')\n",
      "mgmt.buildIndex('CompositeIndexByUsername', Vertex.class).addKey(username).buildCompositeIndex()\n",
      "mgmt.commit()\n",
      "//Wait for the index to become available\n",
      "ManagementSystem.awaitGraphIndexStatus(graph, 'CompositeIndexByUsername').call()\n",
      "\n",
      "//Reindex the existing data\n",
      "mgmt = graph.openManagement()\n",
      "//Reindex the existing data\n",
      "mgmt.updateIndex(mgmt.getGraphIndex(\"CompositeIndexByUsername\"), SchemaAction.REINDEX).get()\n",
      "mgmt.commit()\n",
      ";; request_options: {};; at 2023-01-22 01:39:30.114275\n",
      "[DEBUG:2023-01-22 01:39:30,114:events.log_event:111] - Request af5c7af0-f0d7-45fa-a2b6-73ea5347fb20 RESPONSE_RECEIVED:SUCCESS with status code: 200 at 2023-01-22 01:39:30.114345; took -0.000118\n",
      "[DEBUG:2023-01-22 01:39:30,115:events.log_event:70] - Request af5c7af0-f0d7-45fa-a2b6-73ea5347fb20 FINISHED successfully at 2023-01-22 01:39:30.115276; elapsed_time -0.000113\n",
      "[ERROR:2023-01-22 01:39:30,119:events.log_event:126] - Request 426f5095-8038-4272-b2df-eb1b0e6e4527 RESPONSE_RECEIVED:FAILED with error 597: An index with name 'CompositeIndexByUsername' has already been defined at 2023-01-22 01:39:30.119045; took -2.5e-05\n",
      "[ERROR:2023-01-22 01:39:30,119:events.log_event:88] - Request 426f5095-8038-4272-b2df-eb1b0e6e4527 FINISHED with status code : 597:SERVER ERROR EVALUATION at 2023-01-22 01:39:30.119386; elapsed_time -1.2e-05\n",
      "[DEBUG:2023-01-22 01:39:30,119:events.log_event:55] - Request e8db38cc-662b-4095-9a88-ac9a2faadaeb STARTED with query: \n",
      "size = graph.getOpenTransactions().size()\n",
      "if(size>0) {for(i=0;i<size;i++) {graph.getOpenTransactions().getAt(0).rollback()}}\n",
      "graph.getOpenTransactions()        \n",
      "        ;; request_options: {};; at 2023-01-22 01:39:30.119696\n",
      "[DEBUG:2023-01-22 01:39:30,123:events.log_event:111] - Request e8db38cc-662b-4095-9a88-ac9a2faadaeb RESPONSE_RECEIVED:SUCCESS with status code: 200 at 2023-01-22 01:39:30.123307; took -3.6e-05\n",
      "[INFO:2023-01-22 01:39:30,123:indexes.create_from_model:13] - Creating index for model - <class '__main__.Authored'>\n",
      "[DEBUG:2023-01-22 01:39:30,123:events.log_event:70] - Request e8db38cc-662b-4095-9a88-ac9a2faadaeb FINISHED successfully at 2023-01-22 01:39:30.123615; elapsed_time -1.5e-05\n"
     ]
    },
    {
     "name": "stdout",
     "output_type": "stream",
     "text": [
      "Rolling back open transactions...\n",
      "Rolling back open transactions...\n",
      "Rolling back open transactions...\n"
     ]
    },
    {
     "ename": "TypeError",
     "evalue": "'CompositeIndex' object is not iterable",
     "output_type": "error",
     "traceback": [
      "\u001b[0;31m---------------------------------------------------------------------------\u001b[0m",
      "\u001b[0;31mTypeError\u001b[0m                                 Traceback (most recent call last)",
      "Cell \u001b[0;32mIn[170], line 7\u001b[0m\n\u001b[1;32m      3\u001b[0m is_install_models \u001b[38;5;241m=\u001b[39m \u001b[38;5;28;01mTrue\u001b[39;00m\n\u001b[1;32m      5\u001b[0m \u001b[38;5;28;01mif\u001b[39;00m is_install_models:\n\u001b[1;32m      6\u001b[0m     \u001b[38;5;66;03m# i_understand_rollback=True will roll back any transactions in pending.\u001b[39;00m\n\u001b[0;32m----> 7\u001b[0m     \u001b[43minstall_models\u001b[49m\u001b[43m(\u001b[49m\u001b[43mgraph\u001b[49m\u001b[43m,\u001b[49m\u001b[43m \u001b[49m\u001b[43mProject\u001b[49m\u001b[43m,\u001b[49m\u001b[43m \u001b[49m\u001b[43mPerson\u001b[49m\u001b[43m,\u001b[49m\u001b[43m \u001b[49m\u001b[43mAuthored\u001b[49m\u001b[43m,\u001b[49m\u001b[43m \u001b[49m\u001b[43mi_understand_rollback\u001b[49m\u001b[38;5;241;43m=\u001b[39;49m\u001b[38;5;28;43;01mTrue\u001b[39;49;00m\u001b[43m)\u001b[49m\n\u001b[1;32m      8\u001b[0m \u001b[38;5;28;01melse\u001b[39;00m:\n\u001b[1;32m      9\u001b[0m     \u001b[38;5;28mprint\u001b[39m(\u001b[38;5;124mf\u001b[39m\u001b[38;5;124m\"\u001b[39m\u001b[38;5;124mIgnoring models installation because install_models=\u001b[39m\u001b[38;5;132;01m{\u001b[39;00minstall_models\u001b[38;5;132;01m}\u001b[39;00m\u001b[38;5;124m\"\u001b[39m)\n",
      "File \u001b[0;32m~/Projects/invana/invana/examples/../invana/helpers/helpers.py:17\u001b[0m, in \u001b[0;36minstall_models\u001b[0;34m(graph, i_understand_rollback, *model_classes)\u001b[0m\n\u001b[1;32m     15\u001b[0m \u001b[38;5;28;01mfor\u001b[39;00m model_class \u001b[38;5;129;01min\u001b[39;00m model_classes:\n\u001b[1;32m     16\u001b[0m     graph\u001b[38;5;241m.\u001b[39mconnector\u001b[38;5;241m.\u001b[39mmanagement\u001b[38;5;241m.\u001b[39mschema_writer\u001b[38;5;241m.\u001b[39mcreate(model_class)\n\u001b[0;32m---> 17\u001b[0m \u001b[43mcreate_indexes_only_from_model\u001b[49m\u001b[43m(\u001b[49m\u001b[43mgraph\u001b[49m\u001b[43m,\u001b[49m\u001b[43m \u001b[49m\u001b[38;5;241;43m*\u001b[39;49m\u001b[43mmodel_classes\u001b[49m\u001b[43m,\u001b[49m\u001b[43m \u001b[49m\u001b[43mi_understand_rollback\u001b[49m\u001b[38;5;241;43m=\u001b[39;49m\u001b[43mi_understand_rollback\u001b[49m\u001b[43m)\u001b[49m\n",
      "File \u001b[0;32m~/Projects/invana/invana/examples/../invana/helpers/helpers.py:11\u001b[0m, in \u001b[0;36mcreate_indexes_only_from_model\u001b[0;34m(graph, i_understand_rollback, *model_classes)\u001b[0m\n\u001b[1;32m      9\u001b[0m \u001b[38;5;28;01mfor\u001b[39;00m model_class \u001b[38;5;129;01min\u001b[39;00m model_classes:\n\u001b[1;32m     10\u001b[0m     graph\u001b[38;5;241m.\u001b[39mconnector\u001b[38;5;241m.\u001b[39mmanagement\u001b[38;5;241m.\u001b[39mextras\u001b[38;5;241m.\u001b[39mrollback_open_transactions(i_understand\u001b[38;5;241m=\u001b[39m\u001b[38;5;28;01mTrue\u001b[39;00m)\n\u001b[0;32m---> 11\u001b[0m     \u001b[43mgraph\u001b[49m\u001b[38;5;241;43m.\u001b[39;49m\u001b[43mconnector\u001b[49m\u001b[38;5;241;43m.\u001b[39;49m\u001b[43mmanagement\u001b[49m\u001b[38;5;241;43m.\u001b[39;49m\u001b[43mindexes\u001b[49m\u001b[38;5;241;43m.\u001b[39;49m\u001b[43mcreate_from_model\u001b[49m\u001b[43m(\u001b[49m\u001b[43mmodel_class\u001b[49m\u001b[43m)\u001b[49m\n",
      "File \u001b[0;32m~/Projects/invana/invana/examples/../invana/janusgraph/querysets/indexes.py:16\u001b[0m, in \u001b[0;36mJanusGraphIndexCRUDQuerySet.create_from_model\u001b[0;34m(self, model, timeout_per_index)\u001b[0m\n\u001b[1;32m     14\u001b[0m indexes \u001b[38;5;241m=\u001b[39m model\u001b[38;5;241m.\u001b[39mindexes\n\u001b[1;32m     15\u001b[0m model_indexes \u001b[38;5;241m=\u001b[39m []\n\u001b[0;32m---> 16\u001b[0m \u001b[38;5;28;01mfor\u001b[39;00m index \u001b[38;5;129;01min\u001b[39;00m indexes:\n\u001b[1;32m     17\u001b[0m     \u001b[38;5;28;01mif\u001b[39;00m \u001b[38;5;28misinstance\u001b[39m(index, CompositeIndex):\n\u001b[1;32m     18\u001b[0m         model_index \u001b[38;5;241m=\u001b[39m CompositeIndex(\u001b[38;5;241m*\u001b[39mindex\u001b[38;5;241m.\u001b[39mproperty_keys, label\u001b[38;5;241m=\u001b[39mmodel\u001b[38;5;241m.\u001b[39mlabel_name)\n",
      "\u001b[0;31mTypeError\u001b[0m: 'CompositeIndex' object is not iterable"
     ]
    }
   ],
   "source": [
    "from invana.helpers.helpers import install_models\n",
    "\n",
    "is_install_models = True\n",
    "\n",
    "if is_install_models:\n",
    "    # i_understand_rollback=True will roll back any transactions in pending.\n",
    "    install_models(graph, Project, Person, Authored, i_understand_rollback=True)\n",
    "else:\n",
    "    print(f\"Ignoring models installation because install_models={install_models}\")"
   ]
  },
  {
   "cell_type": "markdown",
   "id": "c997022a",
   "metadata": {},
   "source": [
    "### 1.4 Execute raw query"
   ]
  },
  {
   "cell_type": "code",
   "execution_count": 114,
   "id": "d82821bb",
   "metadata": {},
   "outputs": [
    {
     "name": "stderr",
     "output_type": "stream",
     "text": [
      "[DEBUG:2023-01-22 01:08:28,015:events.log_event:55] - Request 6fe6c9a4-c4b7-472b-b145-eaf073cf0231 STARTED with query: g.V().addV('User').property('name','Ravi');; request_options: {};; at 2023-01-22 01:08:28.015699\n",
      "[DEBUG:2023-01-22 01:08:28,122:events.log_event:111] - Request 6fe6c9a4-c4b7-472b-b145-eaf073cf0231 RESPONSE_RECEIVED:SUCCESS with status code: 200 at 2023-01-22 01:08:28.121967; took -0.000546\n",
      "[DEBUG:2023-01-22 01:08:28,127:events.log_event:70] - Request 6fe6c9a4-c4b7-472b-b145-eaf073cf0231 FINISHED successfully at 2023-01-22 01:08:28.127087; elapsed_time -0.000243\n"
     ]
    },
    {
     "data": {
      "text/plain": [
       "<Response:6fe6c9a4-c4b7-472b-b145-eaf073cf0231 status_code=200>"
      ]
     },
     "execution_count": 114,
     "metadata": {},
     "output_type": "execute_result"
    }
   ],
   "source": [
    "graph.execute_query(\"g.V().addV('User').property('name','Ravi')\", timeout=180)\n"
   ]
  },
  {
   "cell_type": "code",
   "execution_count": 115,
   "id": "fab5a9f3",
   "metadata": {
    "scrolled": false
   },
   "outputs": [
    {
     "name": "stderr",
     "output_type": "stream",
     "text": [
      "[DEBUG:2023-01-22 01:08:32,356:events.log_event:55] - Request f773f9ba-3d8c-47a6-97b0-ff71223650e9 STARTED with query: g.V().limit(1).elementMap().toList();; request_options: {};; at 2023-01-22 01:08:32.356190\n",
      "[DEBUG:2023-01-22 01:08:32,370:events.log_event:111] - Request f773f9ba-3d8c-47a6-97b0-ff71223650e9 RESPONSE_RECEIVED:SUCCESS with status code: 200 at 2023-01-22 01:08:32.370648; took -5.4e-05\n"
     ]
    },
    {
     "name": "stdout",
     "output_type": "stream",
     "text": [
      "<Response:f773f9ba-3d8c-47a6-97b0-ff71223650e9 status_code=200>\n"
     ]
    },
    {
     "name": "stderr",
     "output_type": "stream",
     "text": [
      "[DEBUG:2023-01-22 01:08:32,374:events.log_event:70] - Request f773f9ba-3d8c-47a6-97b0-ff71223650e9 FINISHED successfully at 2023-01-22 01:08:32.374473; elapsed_time -4.3e-05\n"
     ]
    }
   ],
   "source": [
    "response = graph.execute_query(\"g.V().limit(1).elementMap().toList()\", timeout=180)\n",
    "print(response)"
   ]
  },
  {
   "cell_type": "code",
   "execution_count": 116,
   "id": "557a13b9",
   "metadata": {},
   "outputs": [
    {
     "name": "stdout",
     "output_type": "stream",
     "text": [
      "[<Node:Organisation id=\"2113544\" name=invana >]\n"
     ]
    }
   ],
   "source": [
    "print(response.data)"
   ]
  },
  {
   "cell_type": "code",
   "execution_count": 117,
   "id": "cbec442d",
   "metadata": {},
   "outputs": [
    {
     "name": "stdout",
     "output_type": "stream",
     "text": [
      "[{'id': 2113544, 'type': 'vertex', 'label': 'Organisation', 'properties': {'name': 'invana'}}]\n"
     ]
    }
   ],
   "source": [
    "print([d.to_json() for d in response.data])"
   ]
  },
  {
   "cell_type": "markdown",
   "id": "ecbfd50d",
   "metadata": {},
   "source": [
    "## 2 CRUD Operations on data"
   ]
  },
  {
   "cell_type": "markdown",
   "id": "33edac4e",
   "metadata": {},
   "source": [
    "### 2.1 Nodes"
   ]
  },
  {
   "cell_type": "markdown",
   "id": "de346476",
   "metadata": {},
   "source": [
    "#### 2.1.1 Create Nodes "
   ]
  },
  {
   "cell_type": "code",
   "execution_count": 7,
   "id": "351928a9",
   "metadata": {},
   "outputs": [],
   "source": [
    "person_ravi = Person.objects.get_or_create(first_name=\"Ravi Raja\", last_name=\"Merugu\", member_since=2000)\n",
    "person_invana = Person.objects.get_or_create(first_name=\"Ravi Raja\", last_name=\"Merugu\", member_since=2000)\n",
    "\n",
    "\n",
    "project_iengine = Project.objects.create(name=\"invana engine\", rating=5, is_active=True)\n",
    "project_iconnector = Project.objects.create(name=\"invana connectors\", rating=5, is_active=True)\n",
    "project_istudio = Project.objects.create(name=\"invana studio\", rating=5, is_active=True)\n",
    "project_bengine = Project.objects.create(name=\"browser engine\", rating=5, is_active=False)\n",
    "# print(\"Created project_iengine\", project_iengine)\n",
    "# print(\"Created project_iconnector\", project_iconnector)\n",
    "# print(\"Created project_istudio\", project_istudio)\n",
    "# print(\"Created project_bengine\", project_bengine)\n",
    "# print(\"JSON data\", project_iengine.to_json())"
   ]
  },
  {
   "cell_type": "markdown",
   "id": "99c4895e",
   "metadata": {},
   "source": [
    "#### 2.1.2 Read/Search Nodes"
   ]
  },
  {
   "cell_type": "code",
   "execution_count": 62,
   "id": "48e21829",
   "metadata": {},
   "outputs": [
    {
     "data": {
      "text/plain": [
       "[<Node:Project id=\"2904072\" name=invana engine created_at=2023-01-21 23:41:56.360000 rating=5.0 is_active=True >,\n",
       " <Node:Project id=\"856192\" name=invana connectors created_at=2023-01-21 23:49:04.367000 rating=5.0 is_active=True >,\n",
       " <Node:Project id=\"860288\" name=invana engine created_at=2023-01-22 00:06:48.190000 rating=5.0 is_active=True >,\n",
       " <Node:Project id=\"905408\" name=invana connectors created_at=2023-01-22 00:06:53.243000 rating=5.0 is_active=True >,\n",
       " <Node:Project id=\"1757400\" name=invana connectors created_at=2023-01-21 23:41:56.393000 rating=5.0 is_active=True >,\n",
       " <Node:Project id=\"1765592\" name=invana engine created_at=2023-01-21 23:48:59.312000 rating=5.0 is_active=True >]"
      ]
     },
     "execution_count": 62,
     "metadata": {},
     "output_type": "execute_result"
    }
   ],
   "source": [
    "# search\n",
    "project_search = Project.objects.search().to_list()\n",
    "\n",
    "\n",
    "## search by ids \n",
    "ids = [p.id for p in project_search] \n",
    "project_search_has__id = Project.objects.search(has__id=project_search[0].id).to_list()\n",
    "project_search_has__id_within = Project.objects.search(has__id__within=ids[:2]).to_list()\n",
    "\n",
    "\n",
    "# search string - eq, neq, startingWith, endingWith, containing, notStartingWith, notEndingWith, notContaining\n",
    "Project.objects.search(has__name=\"invana studio\").to_list()\n",
    "Project.objects.search(has__name__eq=\"invana\").to_list()\n",
    "Project.objects.search(has__name__neq=\"invana\").to_list()\n",
    "Project.objects.search(has__name__startingWith=\"invana\").to_list()\n",
    "Project.objects.search(has__name__endingWith=\"engine\").to_list()\n",
    "Project.objects.search(has__name__containing=\"eng\").to_list()\n",
    "Project.objects.search(has__name__notStartingWith=\"invana\").to_list()\n",
    "Project.objects.search(has__name__notEndingWith=\"engine\").to_list()\n",
    "Project.objects.search(has__name__notContaining=\"ravi\").to_list()\n",
    "\n",
    "\n",
    "# search int- lt, gt, lte, gte, inside, outside, between\n",
    "Person.objects.search(has__member_since__lte=3000).to_list()\n",
    "Person.objects.search(has__member_since__lt=3000).to_list()\n",
    "Person.objects.search(has__member_since__gte=1999).to_list()\n",
    "Person.objects.search(has__member_since__gt=1999).to_list()\n",
    "inside_query = Person.objects.search(has__member_since__inside=(1000, 3000)).to_list()\n",
    "outside_quuery = Person.objects.search(has__member_since__outside=(1000, 2005)).to_list()\n",
    "between_query = Person.objects.search(has__member_since__between=(1000, 3000)).to_list()\n",
    "\n"
   ]
  },
  {
   "cell_type": "code",
   "execution_count": 140,
   "id": "a4c13bac",
   "metadata": {
    "scrolled": true
   },
   "outputs": [
    {
     "data": {
      "text/plain": [
       "[<Node:Project id=\"856192\" name=invana connectors created_at=2023-01-21 23:49:04.367000 rating=5.0 is_active=True >,\n",
       " <Node:Project id=\"905408\" name=invana connectors created_at=2023-01-22 00:06:53.243000 rating=5.0 is_active=True >,\n",
       " <Node:Project id=\"1757400\" name=invana connectors created_at=2023-01-21 23:41:56.393000 rating=5.0 is_active=True >,\n",
       " <Node:Project id=\"2904072\" name=invana engine created_at=2023-01-21 23:41:56.360000 rating=5.0 is_active=True >,\n",
       " <Node:Project id=\"860288\" name=invana engine created_at=2023-01-22 00:06:48.190000 rating=5.0 is_active=True >,\n",
       " <Node:Project id=\"1765592\" name=invana engine created_at=2023-01-21 23:48:59.312000 rating=5.0 is_active=True >]"
      ]
     },
     "execution_count": 140,
     "metadata": {},
     "output_type": "execute_result"
    }
   ],
   "source": [
    "# order by \n",
    "Project.objects.search().order_by('name').to_list()  # asc order\n",
    "# Project.objects.search().order_by('-name').to_list()  # desc order <--- this is not working "
   ]
  },
  {
   "cell_type": "code",
   "execution_count": 81,
   "id": "e1d536d5",
   "metadata": {},
   "outputs": [
    {
     "data": {
      "text/plain": [
       "[<Node:Project id=\"905408\" name=invana connectors created_at=2023-01-22 00:06:53.243000 rating=5.0 is_active=True >,\n",
       " <Node:Project id=\"1757400\" name=invana connectors created_at=2023-01-21 23:41:56.393000 rating=5.0 is_active=True >]"
      ]
     },
     "execution_count": 81,
     "metadata": {},
     "output_type": "execute_result"
    }
   ],
   "source": [
    "# using range for pagination\n",
    "Project.objects.search().order_by('name').range(1, 3).to_list()"
   ]
  },
  {
   "cell_type": "code",
   "execution_count": 124,
   "id": "25218d37",
   "metadata": {},
   "outputs": [
    {
     "name": "stdout",
     "output_type": "stream",
     "text": [
      "total projects count 6\n",
      "page_size 5\n",
      "total_pages 2\n",
      "===== Page 1 ===== [<Node:Project id=\"2904072\" name=invana engine created_at=2023-01-21 23:41:56.360000 rating=5.0 is_active=True >, <Node:Project id=\"856192\" name=invana connectors created_at=2023-01-21 23:49:04.367000 rating=5.0 is_active=True >, <Node:Project id=\"860288\" name=invana engine created_at=2023-01-22 00:06:48.190000 rating=5.0 is_active=True >, <Node:Project id=\"905408\" name=invana connectors created_at=2023-01-22 00:06:53.243000 rating=5.0 is_active=True >, <Node:Project id=\"1757400\" name=invana connectors created_at=2023-01-21 23:41:56.393000 rating=5.0 is_active=True >]\n",
      "===== Page 2 ===== [<Node:Project id=\"1765592\" name=invana engine created_at=2023-01-21 23:48:59.312000 rating=5.0 is_active=True >]\n"
     ]
    }
   ],
   "source": [
    "from invana.gremlin.paginator import GremlinQuerySetPaginator\n",
    "import math \n",
    "\n",
    "page_size = 5\n",
    "total_count = Project.objects.search().count()\n",
    "total_pages = math.ceil(total_count/page_size)\n",
    "print(\"total projects count\", total_count)\n",
    "print(\"page_size\", page_size)\n",
    "print(\"total_pages\", total_pages)\n",
    "\n",
    "# create queryset and paginator \n",
    "queryset = Project.objects.search().order_by(\"-name\")\n",
    "paginator = GremlinQuerySetPaginator(queryset, page_size)\n",
    "\n",
    "# run paginator queries\n",
    "for page_no in range(1, total_pages+1):\n",
    "    qs = paginator.page(page_no)\n",
    "    result = qs.to_list()\n",
    "    print(f\"===== Page {page_no} =====\", result)"
   ]
  },
  {
   "cell_type": "markdown",
   "id": "8d4dc630",
   "metadata": {},
   "source": [
    "##### 2.1.3 Update Nodes"
   ]
  },
  {
   "cell_type": "code",
   "execution_count": 58,
   "id": "d6b8c21e",
   "metadata": {
    "scrolled": false
   },
   "outputs": [
    {
     "data": {
      "text/plain": [
       "[]"
      ]
     },
     "execution_count": 58,
     "metadata": {},
     "output_type": "execute_result"
    }
   ],
   "source": [
    "Project.objects.search(has__name=\"invana studio\").update(name=\"Invana Studio\")"
   ]
  },
  {
   "cell_type": "markdown",
   "id": "ddc05378",
   "metadata": {},
   "source": [
    "##### 2.1.4 Delete Nodes "
   ]
  },
  {
   "cell_type": "code",
   "execution_count": 61,
   "id": "4e2de329",
   "metadata": {},
   "outputs": [
    {
     "data": {
      "text/plain": [
       "[<Node:Project id=\"2904072\" name=invana engine created_at=2023-01-21 23:41:56.360000 rating=5.0 is_active=True >,\n",
       " <Node:Project id=\"856192\" name=invana connectors created_at=2023-01-21 23:49:04.367000 rating=5.0 is_active=True >,\n",
       " <Node:Project id=\"860288\" name=invana engine created_at=2023-01-22 00:06:48.190000 rating=5.0 is_active=True >,\n",
       " <Node:Project id=\"905408\" name=invana connectors created_at=2023-01-22 00:06:53.243000 rating=5.0 is_active=True >,\n",
       " <Node:Project id=\"1757400\" name=invana connectors created_at=2023-01-21 23:41:56.393000 rating=5.0 is_active=True >,\n",
       " <Node:Project id=\"1765592\" name=invana engine created_at=2023-01-21 23:48:59.312000 rating=5.0 is_active=True >]"
      ]
     },
     "execution_count": 61,
     "metadata": {},
     "output_type": "execute_result"
    }
   ],
   "source": [
    "Project.objects.delete(has__name__startingWith=\"browser\") # kwargs are same as in search \n",
    "Project.objects.search().to_list()"
   ]
  },
  {
   "cell_type": "markdown",
   "id": "d7350acc",
   "metadata": {},
   "source": [
    "##### 2.1.1.5 get_or_create"
   ]
  },
  {
   "cell_type": "code",
   "execution_count": 54,
   "id": "cc4eb320",
   "metadata": {
    "scrolled": true
   },
   "outputs": [
    {
     "name": "stdout",
     "output_type": "stream",
     "text": [
      "(False, <Node:Person id=\"909512\" last_name=Merugu first_name=Ravi Raja username=rrmerugu member_since=2000 >)\n",
      "(False, <Node:Person id=\"913648\" last_name=Technologies first_name=Invana username=rrmerugu member_since=2016 >)\n"
     ]
    }
   ],
   "source": [
    "person = Person.objects.get_or_create(first_name=\"Ravi Raja\", last_name=\"Merugu\", member_since=2000)\n",
    "print(person)\n",
    "person = Person.objects.get_or_create(first_name=\"Invana\", last_name=\"Technologies\", member_since=2016)\n",
    "print(person)"
   ]
  },
  {
   "cell_type": "markdown",
   "id": "6f66f088",
   "metadata": {},
   "source": [
    "##### 2.1.1.6 get_or_none"
   ]
  },
  {
   "cell_type": "code",
   "execution_count": 147,
   "id": "8e0c6e12",
   "metadata": {},
   "outputs": [
    {
     "data": {
      "text/plain": [
       "<Node:Person id=\"909512\" last_name=Merugu first_name=Ravi Raja username=rrmerugu member_since=2000 >"
      ]
     },
     "execution_count": 147,
     "metadata": {},
     "output_type": "execute_result"
    }
   ],
   "source": [
    "Person.objects.get_or_none(first_name=\"Ravi Raja\", last_name=\"Merugu\", member_since=2000)"
   ]
  },
  {
   "cell_type": "markdown",
   "id": "91268d06",
   "metadata": {},
   "source": [
    "### 2.2 Relationships"
   ]
  },
  {
   "cell_type": "markdown",
   "id": "09aa3826",
   "metadata": {},
   "source": [
    "#### 2.2.1 Create Relationship"
   ]
  },
  {
   "cell_type": "code",
   "execution_count": 174,
   "id": "78e7cdf8",
   "metadata": {},
   "outputs": [],
   "source": [
    "person = Person.objects.create(first_name=\"Ravi Raja\", last_name=\"Merugu\", member_since=2000)\n",
    "project_iengine = Project.objects.create(name=\"invana engine\", rating=5, is_active=True)\n",
    "project_iconnector = Project.objects.create(name=\"invana connectors\", rating=5, is_active=True)\n",
    "\n",
    "authored_data = Authored.objects.create(person.id, project_iengine.id, since=2010)\n",
    "authored_data2 = Authored.objects.create(person.id, project_iconnector.id, since=2020)"
   ]
  },
  {
   "cell_type": "markdown",
   "id": "bd899ab0",
   "metadata": {},
   "source": [
    "#### 2.2.2 Read/Search Relationship"
   ]
  },
  {
   "cell_type": "code",
   "execution_count": 175,
   "id": "cda160e8",
   "metadata": {},
   "outputs": [
    {
     "data": {
      "text/plain": [
       "[<RelationShip:authored id=\"u4u9-1ztag-8ph-lif4\" 3350536:Person -> authored -> 1003648:Project created_at=2023-01-22 01:28:29.170000 >,\n",
       " <RelationShip:authored id=\"u4g1-1ztag-8ph-mttc\" 3350536:Person -> authored -> 1065072:Project created_at=2023-01-22 01:28:29.159000 >,\n",
       " <RelationShip:authored id=\"ucch-1zzm0-8ph-18v6g\" 3358728:Person -> authored -> 2093272:Project created_at=2023-01-22 01:41:24.596000 since=2010 >,\n",
       " <RelationShip:authored id=\"9sem-n04w-8ph-m7rc\" 1073264:Person -> authored -> 1036488:Project created_at=2023-01-22 01:41:34.413000 since=2010 >,\n",
       " <RelationShip:authored id=\"9ssu-n04w-8ph-18yc8\" 1073264:Person -> authored -> 2097368:Project created_at=2023-01-22 01:41:34.423000 since=2020 >,\n",
       " <RelationShip:authored id=\"j9cr-18ouw-8ph-mx2o\" 2085080:Person -> authored -> 1069296:Project created_at=2023-01-22 01:23:26.952000 >,\n",
       " <RelationShip:authored id=\"j8yj-18ouw-8ph-18s0o\" 2085080:Person -> authored -> 2089176:Project created_at=2023-01-22 01:23:26.944000 >]"
      ]
     },
     "execution_count": 175,
     "metadata": {},
     "output_type": "execute_result"
    }
   ],
   "source": [
    "Authored.objects.search().to_list()\n",
    "# [d.to_json() for d in data]"
   ]
  },
  {
   "cell_type": "code",
   "execution_count": 176,
   "id": "b1bc5cb4",
   "metadata": {
    "scrolled": true
   },
   "outputs": [
    {
     "data": {
      "text/plain": [
       "[<RelationShip:authored id=\"ucch-1zzm0-8ph-18v6g\" 3358728:Person -> authored -> 2093272:Project since=2010 created_at=2023-01-22 01:41:24.596000 >,\n",
       " <RelationShip:authored id=\"9sem-n04w-8ph-m7rc\" 1073264:Person -> authored -> 1036488:Project since=2010 created_at=2023-01-22 01:41:34.413000 >]"
      ]
     },
     "execution_count": 176,
     "metadata": {},
     "output_type": "execute_result"
    }
   ],
   "source": [
    "Authored.objects.search(has__since__lt=2020).to_list() # refer search_kwargs from Node search section(2.1.2)"
   ]
  },
  {
   "cell_type": "markdown",
   "id": "b09f35a8",
   "metadata": {},
   "source": [
    "#### 2.2.3 Update Relationship"
   ]
  },
  {
   "cell_type": "code",
   "execution_count": 180,
   "id": "42cf4427",
   "metadata": {},
   "outputs": [
    {
     "data": {
      "text/plain": [
       "[]"
      ]
     },
     "execution_count": 180,
     "metadata": {},
     "output_type": "execute_result"
    }
   ],
   "source": [
    "Authored.objects.search(has__since__lt=2020).update(since=2050)\n"
   ]
  },
  {
   "cell_type": "markdown",
   "id": "f16f652c",
   "metadata": {},
   "source": [
    "#### 2.2.4 Delete Relationship\n"
   ]
  },
  {
   "cell_type": "code",
   "execution_count": 182,
   "id": "14fb8d84",
   "metadata": {},
   "outputs": [
    {
     "data": {
      "text/plain": [
       "[['E'], ['hasLabel', 'authored'], ['drop'], ['none'], ['values', '_ipython_canary_method_should_not_exist_'], ['values', '_ipython_canary_method_should_not_exist_']]"
      ]
     },
     "execution_count": 182,
     "metadata": {},
     "output_type": "execute_result"
    }
   ],
   "source": [
    "Authored.objects.delete()"
   ]
  }
 ],
 "metadata": {
  "kernelspec": {
   "display_name": "Python 3 (ipykernel)",
   "language": "python",
   "name": "python3"
  },
  "language_info": {
   "codemirror_mode": {
    "name": "ipython",
    "version": 3
   },
   "file_extension": ".py",
   "mimetype": "text/x-python",
   "name": "python",
   "nbconvert_exporter": "python",
   "pygments_lexer": "ipython3",
   "version": "3.8.16"
  }
 },
 "nbformat": 4,
 "nbformat_minor": 5
}
