{
 "cells": [
  {
   "cell_type": "markdown",
   "id": "aeb00e57",
   "metadata": {},
   "source": [
    "## Install invana-connector"
   ]
  },
  {
   "cell_type": "code",
   "execution_count": 104,
   "id": "97583067",
   "metadata": {},
   "outputs": [],
   "source": [
    "# for stable version \n",
    "# pip install invana\n",
    "\n",
    "# for installation specific branch\n",
    "#pip install git+https://github.com/invana/invana@refactor/invana-connectors#egg=invana\n",
    "\n",
    "# for latest code \n",
    "import sys\n",
    "sys.path.append(\"../\")"
   ]
  },
  {
   "cell_type": "code",
   "execution_count": 2,
   "id": "6ba13b05",
   "metadata": {},
   "outputs": [],
   "source": [
    "def print_list(list_data):\n",
    "    for data in list_data:\n",
    "        print(\"\",data)"
   ]
  },
  {
   "cell_type": "markdown",
   "id": "c4e3ee81",
   "metadata": {},
   "source": [
    "## 1. Modelling graph"
   ]
  },
  {
   "cell_type": "markdown",
   "id": "05b77d15",
   "metadata": {},
   "source": [
    "### 1.1 Creating graph instance"
   ]
  },
  {
   "cell_type": "code",
   "execution_count": 3,
   "id": "a8a2b1df",
   "metadata": {},
   "outputs": [
    {
     "name": "stderr",
     "output_type": "stream",
     "text": [
      "[DEBUG:2023-01-23 23:42:09,107:connector.update_connection_state:61] - GraphConnector state updated to : CONNECTING\n",
      "[DEBUG:2023-01-23 23:42:09,107:connector._init_connection:99] - create driver connection  \n",
      "[DEBUG:2023-01-23 23:42:10,114:connector.update_connection_state:61] - GraphConnector state updated to : CONNECTED\n"
     ]
    }
   ],
   "source": [
    "from invana import InvanaGraph\n",
    "\n",
    "gremlin_server_url = \"ws://megamind.local:8182/gremlin\"\n",
    "\n",
    "graph = InvanaGraph(gremlin_server_url)"
   ]
  },
  {
   "cell_type": "markdown",
   "id": "92e3c533",
   "metadata": {},
   "source": [
    "### 1.2 Defining Nodes and Relationship Models"
   ]
  },
  {
   "cell_type": "code",
   "execution_count": 4,
   "id": "8b515ea9",
   "metadata": {},
   "outputs": [],
   "source": [
    "from invana.ogm.models import VertexModel, EdgeModel\n",
    "from invana.ogm.fields import StringProperty, DateTimeProperty, IntegerProperty, FloatProperty, BooleanProperty\n",
    "from invana.ogm import indexes\n",
    "from datetime import datetime\n",
    "\n",
    "\n",
    "class Project(VertexModel):\n",
    "    graph = graph\n",
    "    properties = {\n",
    "        'name': StringProperty(max_length=30, trim_whitespaces=True),\n",
    "        'description': StringProperty(allow_null=True, min_length=5),\n",
    "        'rating': FloatProperty(allow_null=True),\n",
    "        'is_active': BooleanProperty(default=True),\n",
    "        'created_at': DateTimeProperty(default=lambda: datetime.now())\n",
    "    }\n",
    "    indexes = (\n",
    "        indexes.CompositeIndex(\"name\"),\n",
    "        indexes.CompositeIndex(\"created_at\")\n",
    "    )\n",
    "\n",
    "\n",
    "class Person(VertexModel):\n",
    "    graph = graph\n",
    "    properties = {\n",
    "        'first_name': StringProperty(min_length=5, trim_whitespaces=True),\n",
    "        'last_name': StringProperty(allow_null=True),\n",
    "        'username': StringProperty(default=\"rrmerugu\"),\n",
    "        'member_since': IntegerProperty(),\n",
    "\n",
    "    }\n",
    "    indexes = (\n",
    "        indexes.CompositeIndex(\"username\"),\n",
    "    )\n",
    "\n",
    "\n",
    "class Authored(EdgeModel):\n",
    "    graph = graph\n",
    "    properties = {\n",
    "        'created_at': DateTimeProperty(default=lambda: datetime.now()),\n",
    "        'since': IntegerProperty()\n",
    "    }\n",
    "    indexes = (\n",
    "        indexes.CompositeIndex(\"created_at\")\n",
    "    )"
   ]
  },
  {
   "cell_type": "code",
   "execution_count": null,
   "id": "83ea9b6a",
   "metadata": {},
   "outputs": [],
   "source": []
  },
  {
   "cell_type": "markdown",
   "id": "890c3cbd",
   "metadata": {},
   "source": [
    "### 1.3 Installing models on graph"
   ]
  },
  {
   "cell_type": "code",
   "execution_count": 5,
   "id": "9075c110",
   "metadata": {},
   "outputs": [
    {
     "name": "stderr",
     "output_type": "stream",
     "text": [
      "[DEBUG:2023-01-23 23:42:10,147:events.log_event:55] - Request 89798044-d0d1-43fb-876f-6c8ec512f0cd STARTED with query: mgmt = graph.openManagement()\n",
      "if (mgmt.containsVertexLabel('Project'))\n",
      "    Project = mgmt.getVertexLabel('Project')\n",
      "else \n",
      "    Project = mgmt.makeVertexLabel('Project').make()\n",
      "if (mgmt.containsRelationType('name'))\n",
      "    name = mgmt.getPropertyKey('name')\n",
      "else \n",
      "    name = mgmt.makePropertyKey('name').dataType(String.class).make()\n",
      "if (mgmt.containsRelationType('description'))\n",
      "    description = mgmt.getPropertyKey('description')\n",
      "else \n",
      "    description = mgmt.makePropertyKey('description').dataType(String.class).make()\n",
      "if (mgmt.containsRelationType('rating'))\n",
      "    rating = mgmt.getPropertyKey('rating')\n",
      "else \n",
      "    rating = mgmt.makePropertyKey('rating').dataType(Float.class).make()\n",
      "if (mgmt.containsRelationType('is_active'))\n",
      "    is_active = mgmt.getPropertyKey('is_active')\n",
      "else \n",
      "    is_active = mgmt.makePropertyKey('is_active').dataType(Boolean.class).make()\n",
      "if (mgmt.containsRelationType('created_at'))\n",
      "    created_at = mgmt.getPropertyKey('created_at')\n",
      "else \n",
      "    created_at = mgmt.makePropertyKey('created_at').dataType(Date.class).make()\n",
      "mgmt.addProperties(Project, name, description, rating, is_active, created_at)\n",
      "mgmt.commit();; request_options: {};; at 2023-01-23 23:42:10.147842\n",
      "[DEBUG:2023-01-23 23:42:15,461:events.log_event:55] - Request b158af6b-46b0-4f0e-bde7-8cc81f6223c3 STARTED with query: mgmt = graph.openManagement()\n",
      "if (mgmt.containsVertexLabel('Person'))\n",
      "    Person = mgmt.getVertexLabel('Person')\n",
      "else \n",
      "    Person = mgmt.makeVertexLabel('Person').make()\n",
      "if (mgmt.containsRelationType('first_name'))\n",
      "    first_name = mgmt.getPropertyKey('first_name')\n",
      "else \n",
      "    first_name = mgmt.makePropertyKey('first_name').dataType(String.class).make()\n",
      "if (mgmt.containsRelationType('last_name'))\n",
      "    last_name = mgmt.getPropertyKey('last_name')\n",
      "else \n",
      "    last_name = mgmt.makePropertyKey('last_name').dataType(String.class).make()\n",
      "if (mgmt.containsRelationType('username'))\n",
      "    username = mgmt.getPropertyKey('username')\n",
      "else \n",
      "    username = mgmt.makePropertyKey('username').dataType(String.class).make()\n",
      "if (mgmt.containsRelationType('member_since'))\n",
      "    member_since = mgmt.getPropertyKey('member_since')\n",
      "else \n",
      "    member_since = mgmt.makePropertyKey('member_since').dataType(Integer.class).make()\n",
      "mgmt.addProperties(Person, first_name, last_name, username, member_since)\n",
      "mgmt.commit();; request_options: {};; at 2023-01-23 23:42:15.461917\n",
      "[DEBUG:2023-01-23 23:42:15,462:events.log_event:111] - Request 89798044-d0d1-43fb-876f-6c8ec512f0cd RESPONSE_RECEIVED:SUCCESS with status code: 200 at 2023-01-23 23:42:15.462131; took -0.000362\n",
      "[DEBUG:2023-01-23 23:42:15,464:events.log_event:70] - Request 89798044-d0d1-43fb-876f-6c8ec512f0cd FINISHED successfully at 2023-01-23 23:42:15.464846; elapsed_time -3.2e-05\n",
      "[DEBUG:2023-01-23 23:42:20,692:events.log_event:111] - Request b158af6b-46b0-4f0e-bde7-8cc81f6223c3 RESPONSE_RECEIVED:SUCCESS with status code: 200 at 2023-01-23 23:42:20.692893; took -5.7e-05\n",
      "[DEBUG:2023-01-23 23:42:20,694:events.log_event:55] - Request 2bf7915e-08bb-4008-9cf6-584a38f92c87 STARTED with query: mgmt = graph.openManagement()\n",
      "if (mgmt.containsEdgeLabel('authored'))\n",
      "    authored = mgmt.getEdgeLabel('authored')\n",
      "else \n",
      "    authored = mgmt.makeEdgeLabel('authored').make()\n",
      "if (mgmt.containsRelationType('created_at'))\n",
      "    created_at = mgmt.getPropertyKey('created_at')\n",
      "else \n",
      "    created_at = mgmt.makePropertyKey('created_at').dataType(Date.class).make()\n",
      "if (mgmt.containsRelationType('since'))\n",
      "    since = mgmt.getPropertyKey('since')\n",
      "else \n",
      "    since = mgmt.makePropertyKey('since').dataType(Integer.class).make()\n",
      "mgmt.addProperties(authored, created_at, since)\n",
      "mgmt.commit();; request_options: {};; at 2023-01-23 23:42:20.694508\n",
      "[DEBUG:2023-01-23 23:42:20,694:events.log_event:70] - Request b158af6b-46b0-4f0e-bde7-8cc81f6223c3 FINISHED successfully at 2023-01-23 23:42:20.694809; elapsed_time -8.1e-05\n",
      "[DEBUG:2023-01-23 23:42:25,837:events.log_event:111] - Request 2bf7915e-08bb-4008-9cf6-584a38f92c87 RESPONSE_RECEIVED:SUCCESS with status code: 200 at 2023-01-23 23:42:25.837378; took -4.5e-05\n",
      "[DEBUG:2023-01-23 23:42:25,838:events.log_event:70] - Request 2bf7915e-08bb-4008-9cf6-584a38f92c87 FINISHED successfully at 2023-01-23 23:42:25.838493; elapsed_time -3.5e-05\n",
      "[DEBUG:2023-01-23 23:42:25,837:events.log_event:55] - Request 98a859a8-eb71-45db-9f76-197b6ad47668 STARTED with query: \n",
      "size = graph.getOpenTransactions().size()\n",
      "if(size>0) {for(i=0;i<size;i++) {graph.getOpenTransactions().getAt(0).rollback()}}\n",
      "graph.getOpenTransactions()        \n",
      "        ;; request_options: {};; at 2023-01-23 23:42:25.837722\n"
     ]
    },
    {
     "name": "stdout",
     "output_type": "stream",
     "text": [
      "Rolling back open transactions...\n"
     ]
    },
    {
     "name": "stderr",
     "output_type": "stream",
     "text": [
      "[DEBUG:2023-01-23 23:42:31,042:events.log_event:111] - Request 98a859a8-eb71-45db-9f76-197b6ad47668 RESPONSE_RECEIVED:SUCCESS with status code: 200 at 2023-01-23 23:42:31.042536; took -7.1e-05\n",
      "[INFO:2023-01-23 23:42:31,042:indexes.create_from_model:13] - Creating index for model - <class '__main__.Project'>\n",
      "[INFO:2023-01-23 23:42:31,045:indexes.create:33] - Creating index -  <Composite (index_name=CompositeIndexByName; label=None; properties=name />\n",
      "[DEBUG:2023-01-23 23:42:31,047:events.log_event:55] - Request e9fe7e75-30bc-461f-98f0-5d572b59883c STARTED with query: graph.getOpenTransactions().size();; request_options: {};; at 2023-01-23 23:42:31.047311\n",
      "[DEBUG:2023-01-23 23:42:31,044:events.log_event:70] - Request 98a859a8-eb71-45db-9f76-197b6ad47668 FINISHED successfully at 2023-01-23 23:42:31.044038; elapsed_time -6.8e-05\n",
      "[DEBUG:2023-01-23 23:42:31,068:events.log_event:55] - Request 793ebd9c-df4c-4427-952f-7d915627683a STARTED with query: \n",
      "graph.tx().rollback()  //Never create new indexes while a transaction is active\n",
      "mgmt = graph.openManagement()\n",
      "name = mgmt.getPropertyKey('name')\n",
      "mgmt.buildIndex('CompositeIndexByName', Vertex.class).addKey(name).buildCompositeIndex()\n",
      "mgmt.commit()\n",
      "//Wait for the index to become available\n",
      "ManagementSystem.awaitGraphIndexStatus(graph, 'CompositeIndexByName').call()\n",
      "\n",
      "//Reindex the existing data\n",
      "mgmt = graph.openManagement()\n",
      "//Reindex the existing data\n",
      "mgmt.updateIndex(mgmt.getGraphIndex(\"CompositeIndexByName\"), SchemaAction.REINDEX).get()\n",
      "mgmt.commit()\n",
      ";; request_options: {};; at 2023-01-23 23:42:31.068450\n",
      "[DEBUG:2023-01-23 23:42:31,068:events.log_event:111] - Request e9fe7e75-30bc-461f-98f0-5d572b59883c RESPONSE_RECEIVED:SUCCESS with status code: 200 at 2023-01-23 23:42:31.068650; took -0.000345\n",
      "[DEBUG:2023-01-23 23:42:31,072:events.log_event:70] - Request e9fe7e75-30bc-461f-98f0-5d572b59883c FINISHED successfully at 2023-01-23 23:42:31.072911; elapsed_time -6.7e-05\n",
      "[ERROR:2023-01-23 23:42:31,102:events.log_event:126] - Request 793ebd9c-df4c-4427-952f-7d915627683a RESPONSE_RECEIVED:FAILED with error 597: An index with name 'CompositeIndexByName' has already been defined at 2023-01-23 23:42:31.102392; took -8.2e-05\n",
      "[ERROR:2023-01-23 23:42:31,103:events.log_event:88] - Request 793ebd9c-df4c-4427-952f-7d915627683a FINISHED with status code : 597:SERVER ERROR EVALUATION at 2023-01-23 23:42:31.103800; elapsed_time -0.000117\n",
      "[INFO:2023-01-23 23:42:31,105:indexes.create:33] - Creating index -  <Composite (index_name=CompositeIndexByCreated_at; label=None; properties=created_at />\n",
      "[DEBUG:2023-01-23 23:42:31,106:events.log_event:55] - Request 7d3c53c6-adef-49f5-8dc2-6cc50c680b90 STARTED with query: graph.getOpenTransactions().size();; request_options: {};; at 2023-01-23 23:42:31.106781\n",
      "[DEBUG:2023-01-23 23:42:31,115:events.log_event:111] - Request 7d3c53c6-adef-49f5-8dc2-6cc50c680b90 RESPONSE_RECEIVED:SUCCESS with status code: 200 at 2023-01-23 23:42:31.115400; took -4.1e-05\n",
      "[DEBUG:2023-01-23 23:42:31,117:events.log_event:70] - Request 7d3c53c6-adef-49f5-8dc2-6cc50c680b90 FINISHED successfully at 2023-01-23 23:42:31.117812; elapsed_time -3.4e-05\n",
      "[DEBUG:2023-01-23 23:42:31,115:events.log_event:55] - Request 7109120c-2ca6-4644-97d9-abb03befa838 STARTED with query: \n",
      "graph.tx().rollback()  //Never create new indexes while a transaction is active\n",
      "mgmt = graph.openManagement()\n",
      "created_at = mgmt.getPropertyKey('created_at')\n",
      "mgmt.buildIndex('CompositeIndexByCreated_at', Vertex.class).addKey(created_at).buildCompositeIndex()\n",
      "mgmt.commit()\n",
      "//Wait for the index to become available\n",
      "ManagementSystem.awaitGraphIndexStatus(graph, 'CompositeIndexByCreated_at').call()\n",
      "\n",
      "//Reindex the existing data\n",
      "mgmt = graph.openManagement()\n",
      "//Reindex the existing data\n",
      "mgmt.updateIndex(mgmt.getGraphIndex(\"CompositeIndexByCreated_at\"), SchemaAction.REINDEX).get()\n",
      "mgmt.commit()\n",
      ";; request_options: {};; at 2023-01-23 23:42:31.115732\n",
      "[ERROR:2023-01-23 23:42:31,143:events.log_event:126] - Request 7109120c-2ca6-4644-97d9-abb03befa838 RESPONSE_RECEIVED:FAILED with error 597: An index with name 'CompositeIndexByCreated_at' has already been defined at 2023-01-23 23:42:31.143066; took -4.9e-05\n",
      "[ERROR:2023-01-23 23:42:31,143:events.log_event:88] - Request 7109120c-2ca6-4644-97d9-abb03befa838 FINISHED with status code : 597:SERVER ERROR EVALUATION at 2023-01-23 23:42:31.143801; elapsed_time -6.7e-05\n",
      "[DEBUG:2023-01-23 23:42:31,144:events.log_event:55] - Request 49123832-ec45-4531-ba73-288d1f30fd18 STARTED with query: \n",
      "size = graph.getOpenTransactions().size()\n",
      "if(size>0) {for(i=0;i<size;i++) {graph.getOpenTransactions().getAt(0).rollback()}}\n",
      "graph.getOpenTransactions()        \n",
      "        ;; request_options: {};; at 2023-01-23 23:42:31.144485\n",
      "[INFO:2023-01-23 23:42:31,180:indexes.create_from_model:13] - Creating index for model - <class '__main__.Person'>\n",
      "[DEBUG:2023-01-23 23:42:31,181:events.log_event:111] - Request 49123832-ec45-4531-ba73-288d1f30fd18 RESPONSE_RECEIVED:SUCCESS with status code: 200 at 2023-01-23 23:42:31.181103; took -0.000212\n",
      "[DEBUG:2023-01-23 23:42:31,182:events.log_event:70] - Request 49123832-ec45-4531-ba73-288d1f30fd18 FINISHED successfully at 2023-01-23 23:42:31.182306; elapsed_time -2.5e-05\n",
      "[INFO:2023-01-23 23:42:31,181:indexes.create:33] - Creating index -  <Composite (index_name=CompositeIndexByUsername; label=None; properties=username />\n",
      "[DEBUG:2023-01-23 23:42:31,184:events.log_event:55] - Request 35907420-e1d7-4242-9afe-a806f103d061 STARTED with query: graph.getOpenTransactions().size();; request_options: {};; at 2023-01-23 23:42:31.184833\n",
      "[DEBUG:2023-01-23 23:42:31,195:events.log_event:111] - Request 35907420-e1d7-4242-9afe-a806f103d061 RESPONSE_RECEIVED:SUCCESS with status code: 200 at 2023-01-23 23:42:31.195270; took -4.3e-05\n",
      "[DEBUG:2023-01-23 23:42:31,195:events.log_event:55] - Request dbd1fdb9-ecd7-4dc5-8fa8-8dafcad5009c STARTED with query: \n",
      "graph.tx().rollback()  //Never create new indexes while a transaction is active\n",
      "mgmt = graph.openManagement()\n",
      "username = mgmt.getPropertyKey('username')\n",
      "mgmt.buildIndex('CompositeIndexByUsername', Vertex.class).addKey(username).buildCompositeIndex()\n",
      "mgmt.commit()\n",
      "//Wait for the index to become available\n",
      "ManagementSystem.awaitGraphIndexStatus(graph, 'CompositeIndexByUsername').call()\n",
      "\n",
      "//Reindex the existing data\n",
      "mgmt = graph.openManagement()\n",
      "//Reindex the existing data\n",
      "mgmt.updateIndex(mgmt.getGraphIndex(\"CompositeIndexByUsername\"), SchemaAction.REINDEX).get()\n",
      "mgmt.commit()\n",
      ";; request_options: {};; at 2023-01-23 23:42:31.195560\n",
      "[DEBUG:2023-01-23 23:42:31,198:events.log_event:70] - Request 35907420-e1d7-4242-9afe-a806f103d061 FINISHED successfully at 2023-01-23 23:42:31.198723; elapsed_time -0.001755\n",
      "[ERROR:2023-01-23 23:42:31,219:events.log_event:126] - Request dbd1fdb9-ecd7-4dc5-8fa8-8dafcad5009c RESPONSE_RECEIVED:FAILED with error 597: An index with name 'CompositeIndexByUsername' has already been defined at 2023-01-23 23:42:31.219193; took -0.000178\n",
      "[ERROR:2023-01-23 23:42:31,221:events.log_event:88] - Request dbd1fdb9-ecd7-4dc5-8fa8-8dafcad5009c FINISHED with status code : 597:SERVER ERROR EVALUATION at 2023-01-23 23:42:31.221635; elapsed_time -4e-05\n",
      "[DEBUG:2023-01-23 23:42:31,222:events.log_event:55] - Request f5c9564c-bc74-4542-90de-76e7dcef1625 STARTED with query: \n",
      "size = graph.getOpenTransactions().size()\n",
      "if(size>0) {for(i=0;i<size;i++) {graph.getOpenTransactions().getAt(0).rollback()}}\n",
      "graph.getOpenTransactions()        \n",
      "        ;; request_options: {};; at 2023-01-23 23:42:31.222874\n",
      "[DEBUG:2023-01-23 23:42:31,231:events.log_event:111] - Request f5c9564c-bc74-4542-90de-76e7dcef1625 RESPONSE_RECEIVED:SUCCESS with status code: 200 at 2023-01-23 23:42:31.231110; took -2.6e-05\n",
      "[INFO:2023-01-23 23:42:31,231:indexes.create_from_model:13] - Creating index for model - <class '__main__.Authored'>\n",
      "[DEBUG:2023-01-23 23:42:31,231:events.log_event:70] - Request f5c9564c-bc74-4542-90de-76e7dcef1625 FINISHED successfully at 2023-01-23 23:42:31.231457; elapsed_time -1.4e-05\n"
     ]
    },
    {
     "name": "stdout",
     "output_type": "stream",
     "text": [
      "Rolling back open transactions...\n",
      "Rolling back open transactions...\n"
     ]
    },
    {
     "ename": "TypeError",
     "evalue": "'CompositeIndex' object is not iterable",
     "output_type": "error",
     "traceback": [
      "\u001b[0;31m---------------------------------------------------------------------------\u001b[0m",
      "\u001b[0;31mTypeError\u001b[0m                                 Traceback (most recent call last)",
      "Cell \u001b[0;32mIn[5], line 7\u001b[0m\n\u001b[1;32m      3\u001b[0m is_install_models \u001b[38;5;241m=\u001b[39m \u001b[38;5;28;01mTrue\u001b[39;00m\n\u001b[1;32m      5\u001b[0m \u001b[38;5;28;01mif\u001b[39;00m is_install_models:\n\u001b[1;32m      6\u001b[0m     \u001b[38;5;66;03m# i_understand_rollback=True will roll back any transactions in pending.\u001b[39;00m\n\u001b[0;32m----> 7\u001b[0m     \u001b[43minstall_models\u001b[49m\u001b[43m(\u001b[49m\u001b[43mgraph\u001b[49m\u001b[43m,\u001b[49m\u001b[43m \u001b[49m\u001b[43mProject\u001b[49m\u001b[43m,\u001b[49m\u001b[43m \u001b[49m\u001b[43mPerson\u001b[49m\u001b[43m,\u001b[49m\u001b[43m \u001b[49m\u001b[43mAuthored\u001b[49m\u001b[43m,\u001b[49m\u001b[43m \u001b[49m\u001b[43mi_understand_rollback\u001b[49m\u001b[38;5;241;43m=\u001b[39;49m\u001b[38;5;28;43;01mTrue\u001b[39;49;00m\u001b[43m)\u001b[49m\n\u001b[1;32m      8\u001b[0m \u001b[38;5;28;01melse\u001b[39;00m:\n\u001b[1;32m      9\u001b[0m     \u001b[38;5;28mprint\u001b[39m(\u001b[38;5;124mf\u001b[39m\u001b[38;5;124m\"\u001b[39m\u001b[38;5;124mIgnoring models installation because install_models=\u001b[39m\u001b[38;5;132;01m{\u001b[39;00minstall_models\u001b[38;5;132;01m}\u001b[39;00m\u001b[38;5;124m\"\u001b[39m)\n",
      "File \u001b[0;32m~/Projects/invana/invana/examples/../invana/helpers/helpers.py:17\u001b[0m, in \u001b[0;36minstall_models\u001b[0;34m(graph, i_understand_rollback, *model_classes)\u001b[0m\n\u001b[1;32m     15\u001b[0m \u001b[38;5;28;01mfor\u001b[39;00m model_class \u001b[38;5;129;01min\u001b[39;00m model_classes:\n\u001b[1;32m     16\u001b[0m     graph\u001b[38;5;241m.\u001b[39mconnector\u001b[38;5;241m.\u001b[39mmanagement\u001b[38;5;241m.\u001b[39mschema_writer\u001b[38;5;241m.\u001b[39mcreate(model_class)\n\u001b[0;32m---> 17\u001b[0m \u001b[43mcreate_indexes_only_from_model\u001b[49m\u001b[43m(\u001b[49m\u001b[43mgraph\u001b[49m\u001b[43m,\u001b[49m\u001b[43m \u001b[49m\u001b[38;5;241;43m*\u001b[39;49m\u001b[43mmodel_classes\u001b[49m\u001b[43m,\u001b[49m\u001b[43m \u001b[49m\u001b[43mi_understand_rollback\u001b[49m\u001b[38;5;241;43m=\u001b[39;49m\u001b[43mi_understand_rollback\u001b[49m\u001b[43m)\u001b[49m\n",
      "File \u001b[0;32m~/Projects/invana/invana/examples/../invana/helpers/helpers.py:11\u001b[0m, in \u001b[0;36mcreate_indexes_only_from_model\u001b[0;34m(graph, i_understand_rollback, *model_classes)\u001b[0m\n\u001b[1;32m      9\u001b[0m \u001b[38;5;28;01mfor\u001b[39;00m model_class \u001b[38;5;129;01min\u001b[39;00m model_classes:\n\u001b[1;32m     10\u001b[0m     graph\u001b[38;5;241m.\u001b[39mconnector\u001b[38;5;241m.\u001b[39mmanagement\u001b[38;5;241m.\u001b[39mextras\u001b[38;5;241m.\u001b[39mrollback_open_transactions(i_understand\u001b[38;5;241m=\u001b[39m\u001b[38;5;28;01mTrue\u001b[39;00m)\n\u001b[0;32m---> 11\u001b[0m     \u001b[43mgraph\u001b[49m\u001b[38;5;241;43m.\u001b[39;49m\u001b[43mconnector\u001b[49m\u001b[38;5;241;43m.\u001b[39;49m\u001b[43mmanagement\u001b[49m\u001b[38;5;241;43m.\u001b[39;49m\u001b[43mindexes\u001b[49m\u001b[38;5;241;43m.\u001b[39;49m\u001b[43mcreate_from_model\u001b[49m\u001b[43m(\u001b[49m\u001b[43mmodel_class\u001b[49m\u001b[43m)\u001b[49m\n",
      "File \u001b[0;32m~/Projects/invana/invana/examples/../invana/janusgraph/querysets/indexes.py:16\u001b[0m, in \u001b[0;36mJanusGraphIndexCRUDQuerySet.create_from_model\u001b[0;34m(self, model, timeout_per_index)\u001b[0m\n\u001b[1;32m     14\u001b[0m indexes \u001b[38;5;241m=\u001b[39m model\u001b[38;5;241m.\u001b[39mindexes\n\u001b[1;32m     15\u001b[0m model_indexes \u001b[38;5;241m=\u001b[39m []\n\u001b[0;32m---> 16\u001b[0m \u001b[38;5;28;01mfor\u001b[39;00m index \u001b[38;5;129;01min\u001b[39;00m indexes:\n\u001b[1;32m     17\u001b[0m     \u001b[38;5;28;01mif\u001b[39;00m \u001b[38;5;28misinstance\u001b[39m(index, CompositeIndex):\n\u001b[1;32m     18\u001b[0m         model_index \u001b[38;5;241m=\u001b[39m CompositeIndex(\u001b[38;5;241m*\u001b[39mindex\u001b[38;5;241m.\u001b[39mproperty_keys, label\u001b[38;5;241m=\u001b[39mmodel\u001b[38;5;241m.\u001b[39mlabel_name)\n",
      "\u001b[0;31mTypeError\u001b[0m: 'CompositeIndex' object is not iterable"
     ]
    }
   ],
   "source": [
    "from invana.helpers.helpers import install_models\n",
    "\n",
    "is_install_models = False\n",
    "\n",
    "if is_install_models:\n",
    "    # i_understand_rollback=True will roll back any transactions in pending.\n",
    "    install_models(graph, Project, Person, Authored, i_understand_rollback=True)\n",
    "else:\n",
    "    print(f\"Ignoring models installation because install_models={install_models}\")"
   ]
  },
  {
   "cell_type": "markdown",
   "id": "c997022a",
   "metadata": {},
   "source": [
    "### 1.4 Execute raw query"
   ]
  },
  {
   "cell_type": "code",
   "execution_count": null,
   "id": "d82821bb",
   "metadata": {},
   "outputs": [],
   "source": [
    "graph.execute_query(\"g.V().addV('User').property('name','Ravi')\", timeout=180)\n"
   ]
  },
  {
   "cell_type": "code",
   "execution_count": null,
   "id": "fab5a9f3",
   "metadata": {
    "scrolled": false
   },
   "outputs": [],
   "source": [
    "response = graph.execute_query(\"g.V().limit(1).elementMap().toList()\", timeout=180)\n",
    "print(response)"
   ]
  },
  {
   "cell_type": "code",
   "execution_count": null,
   "id": "557a13b9",
   "metadata": {},
   "outputs": [],
   "source": [
    "print(response.data)"
   ]
  },
  {
   "cell_type": "code",
   "execution_count": null,
   "id": "cbec442d",
   "metadata": {},
   "outputs": [],
   "source": [
    "print([d.to_json() for d in response.data])"
   ]
  },
  {
   "cell_type": "markdown",
   "id": "ecbfd50d",
   "metadata": {},
   "source": [
    "## 2 CRUD Operations on data"
   ]
  },
  {
   "cell_type": "markdown",
   "id": "33edac4e",
   "metadata": {},
   "source": [
    "### 2.1 Nodes"
   ]
  },
  {
   "cell_type": "markdown",
   "id": "de346476",
   "metadata": {},
   "source": [
    "#### 2.1.1 Create Nodes "
   ]
  },
  {
   "cell_type": "code",
   "execution_count": null,
   "id": "351928a9",
   "metadata": {},
   "outputs": [],
   "source": [
    "person_ravi = Person.objects.get_or_create(first_name=\"Ravi Raja\", last_name=\"Merugu\", member_since=2000)\n",
    "person_invana = Person.objects.get_or_create(first_name=\"Ravi Raja\", last_name=\"Merugu\", member_since=2000)\n",
    "\n",
    "\n",
    "project_iengine = Project.objects.create(name=\"invana engine\", rating=5, is_active=True)\n",
    "project_iconnector = Project.objects.create(name=\"invana connectors\", rating=5, is_active=True)\n",
    "project_istudio = Project.objects.create(name=\"invana studio\", rating=5, is_active=True)\n",
    "project_bengine = Project.objects.create(name=\"browser engine\", rating=5, is_active=False)\n",
    "# print(\"Created project_iengine\", project_iengine)\n",
    "# print(\"Created project_iconnector\", project_iconnector)\n",
    "# print(\"Created project_istudio\", project_istudio)\n",
    "# print(\"Created project_bengine\", project_bengine)\n",
    "# print(\"JSON data\", project_iengine.to_json())"
   ]
  },
  {
   "cell_type": "markdown",
   "id": "99c4895e",
   "metadata": {},
   "source": [
    "#### 2.1.2 Read/Search Nodes"
   ]
  },
  {
   "cell_type": "code",
   "execution_count": null,
   "id": "48e21829",
   "metadata": {},
   "outputs": [],
   "source": [
    "# search\n",
    "project_search = Project.objects.search().to_list()\n",
    "\n",
    "\n",
    "## search by ids \n",
    "ids = [p.id for p in project_search] \n",
    "project_search_has__id = Project.objects.search(has__id=project_search[0].id).to_list()\n",
    "project_search_has__id_within = Project.objects.search(has__id__within=ids[:2]).to_list()\n",
    "\n",
    "\n",
    "# search string - eq, neq, startingWith, endingWith, containing, notStartingWith, notEndingWith, notContaining\n",
    "Project.objects.search(has__name=\"invana studio\").to_list()\n",
    "Project.objects.search(has__name__eq=\"invana\").to_list()\n",
    "Project.objects.search(has__name__neq=\"invana\").to_list()\n",
    "Project.objects.search(has__name__startingWith=\"invana\").to_list()\n",
    "Project.objects.search(has__name__endingWith=\"engine\").to_list()\n",
    "Project.objects.search(has__name__containing=\"eng\").to_list()\n",
    "Project.objects.search(has__name__notStartingWith=\"invana\").to_list()\n",
    "Project.objects.search(has__name__notEndingWith=\"engine\").to_list()\n",
    "Project.objects.search(has__name__notContaining=\"ravi\").to_list()\n",
    "\n",
    "\n",
    "# search int- lt, gt, lte, gte, inside, outside, between\n",
    "Person.objects.search(has__member_since__lte=3000).to_list()\n",
    "Person.objects.search(has__member_since__lt=3000).to_list()\n",
    "Person.objects.search(has__member_since__gte=1999).to_list()\n",
    "Person.objects.search(has__member_since__gt=1999).to_list()\n",
    "inside_query = Person.objects.search(has__member_since__inside=(1000, 3000)).to_list()\n",
    "outside_quuery = Person.objects.search(has__member_since__outside=(1000, 2005)).to_list()\n",
    "between_query = Person.objects.search(has__member_since__between=(1000, 3000)).to_list()\n",
    "\n"
   ]
  },
  {
   "cell_type": "code",
   "execution_count": null,
   "id": "a4c13bac",
   "metadata": {
    "scrolled": true
   },
   "outputs": [],
   "source": [
    "# order by \n",
    "Project.objects.search().order_by('name').to_list()  # asc order\n",
    "# Project.objects.search().order_by('-name').to_list()  # desc order <--- this is not working "
   ]
  },
  {
   "cell_type": "code",
   "execution_count": null,
   "id": "e1d536d5",
   "metadata": {},
   "outputs": [],
   "source": [
    "# using range for pagination\n",
    "Project.objects.search().order_by('name').range(1, 3).to_list()"
   ]
  },
  {
   "cell_type": "code",
   "execution_count": null,
   "id": "25218d37",
   "metadata": {},
   "outputs": [],
   "source": [
    "from invana.gremlin.paginator import GremlinQuerySetPaginator\n",
    "import math \n",
    "\n",
    "page_size = 5\n",
    "total_count = Project.objects.search().count()\n",
    "total_pages = math.ceil(total_count/page_size)\n",
    "print(\"total projects count\", total_count)\n",
    "print(\"page_size\", page_size)\n",
    "print(\"total_pages\", total_pages)\n",
    "\n",
    "# create queryset and paginator \n",
    "queryset = Project.objects.search().order_by(\"-name\")\n",
    "paginator = GremlinQuerySetPaginator(queryset, page_size)\n",
    "\n",
    "# run paginator queries\n",
    "for page_no in range(1, total_pages+1):\n",
    "    qs = paginator.page(page_no)\n",
    "    result = qs.to_list()\n",
    "    print(f\"===== Page {page_no} =====\", result)"
   ]
  },
  {
   "cell_type": "markdown",
   "id": "8d4dc630",
   "metadata": {},
   "source": [
    "##### 2.1.3 Update Nodes"
   ]
  },
  {
   "cell_type": "code",
   "execution_count": null,
   "id": "d6b8c21e",
   "metadata": {
    "scrolled": false
   },
   "outputs": [],
   "source": [
    "Project.objects.search(has__name=\"invana studio\").update(name=\"Invana Studio\")"
   ]
  },
  {
   "cell_type": "markdown",
   "id": "ddc05378",
   "metadata": {},
   "source": [
    "##### 2.1.4 Delete Nodes "
   ]
  },
  {
   "cell_type": "code",
   "execution_count": null,
   "id": "4e2de329",
   "metadata": {},
   "outputs": [],
   "source": [
    "Project.objects.delete(has__name__startingWith=\"browser\") # kwargs are same as in search \n",
    "Project.objects.search().to_list()"
   ]
  },
  {
   "cell_type": "markdown",
   "id": "d7350acc",
   "metadata": {},
   "source": [
    "##### 2.1.1.5 get_or_create"
   ]
  },
  {
   "cell_type": "code",
   "execution_count": null,
   "id": "cc4eb320",
   "metadata": {
    "scrolled": true
   },
   "outputs": [],
   "source": [
    "person = Person.objects.get_or_create(first_name=\"Ravi Raja\", last_name=\"Merugu\", member_since=2000)\n",
    "print(person)\n",
    "person = Person.objects.get_or_create(first_name=\"Invana\", last_name=\"Technologies\", member_since=2016)\n",
    "print(person)"
   ]
  },
  {
   "cell_type": "markdown",
   "id": "6f66f088",
   "metadata": {},
   "source": [
    "##### 2.1.1.6 get_or_none"
   ]
  },
  {
   "cell_type": "code",
   "execution_count": null,
   "id": "8e0c6e12",
   "metadata": {},
   "outputs": [],
   "source": [
    "Person.objects.get_or_none(first_name=\"Ravi Raja\", last_name=\"Merugu\", member_since=2000)"
   ]
  },
  {
   "cell_type": "markdown",
   "id": "91268d06",
   "metadata": {},
   "source": [
    "### 2.2 Relationships"
   ]
  },
  {
   "cell_type": "markdown",
   "id": "09aa3826",
   "metadata": {},
   "source": [
    "#### 2.2.1 Create Relationship"
   ]
  },
  {
   "cell_type": "code",
   "execution_count": 37,
   "id": "78e7cdf8",
   "metadata": {},
   "outputs": [],
   "source": [
    "person = Person.objects.create(first_name=\"Ravi Raja\", last_name=\"Merugu\", member_since=2000)\n",
    "project_iengine = Project.objects.create(name=\"invana engine\", rating=5, is_active=True)\n",
    "project_iconnector = Project.objects.create(name=\"invana connectors\", rating=5, is_active=True)\n",
    "\n",
    "authored_data = Authored.objects.create(person.id, project_iengine.id, since=2010)\n",
    "authored_data2 = Authored.objects.create(person.id, project_iconnector.id, since=2020)"
   ]
  },
  {
   "cell_type": "markdown",
   "id": "bd899ab0",
   "metadata": {},
   "source": [
    "#### 2.2.2 Read/Search Relationship"
   ]
  },
  {
   "cell_type": "code",
   "execution_count": 61,
   "id": "cda160e8",
   "metadata": {},
   "outputs": [
    {
     "data": {
      "text/plain": [
       "[]"
      ]
     },
     "execution_count": 61,
     "metadata": {},
     "output_type": "execute_result"
    }
   ],
   "source": [
    "Authored.objects.search().to_list()\n",
    "# [d.to_json() for d in data]"
   ]
  },
  {
   "cell_type": "code",
   "execution_count": null,
   "id": "b1bc5cb4",
   "metadata": {
    "scrolled": true
   },
   "outputs": [],
   "source": [
    "Authored.objects.search(has__since__lt=2020).to_list() # refer search_kwargs from Node search section(2.1.2)"
   ]
  },
  {
   "cell_type": "markdown",
   "id": "b09f35a8",
   "metadata": {},
   "source": [
    "#### 2.2.3 Update Relationship"
   ]
  },
  {
   "cell_type": "code",
   "execution_count": null,
   "id": "42cf4427",
   "metadata": {},
   "outputs": [],
   "source": [
    "Authored.objects.search(has__since__lt=2020).update(since=2050)"
   ]
  },
  {
   "cell_type": "markdown",
   "id": "f16f652c",
   "metadata": {},
   "source": [
    "#### 2.2.4 Delete Relationship\n"
   ]
  },
  {
   "cell_type": "code",
   "execution_count": null,
   "id": "14fb8d84",
   "metadata": {},
   "outputs": [],
   "source": [
    "# Authored.objects.delete()"
   ]
  },
  {
   "cell_type": "markdown",
   "id": "4266b9a1",
   "metadata": {},
   "source": [
    "## 3 Extending queries with traversal object\n",
    "\n",
    "`.search()` method returns gremlin traversal object, which can be extented with [gremlinpython](https://tinkerpop.apache.org/docs/current/reference/#gremlin-python) syntax."
   ]
  },
  {
   "cell_type": "markdown",
   "id": "7dad1f55",
   "metadata": {},
   "source": [
    "### 3.1 With OGM "
   ]
  },
  {
   "cell_type": "code",
   "execution_count": null,
   "id": "d1c979e5",
   "metadata": {},
   "outputs": [],
   "source": [
    "Person.objects.search(has_name=\"ravi\").outE().search(has__since__lt=2010).elementMap().toList()"
   ]
  },
  {
   "cell_type": "markdown",
   "id": "41bc4b8d",
   "metadata": {},
   "source": [
    "### 3.2 Without OGM - using connector object"
   ]
  },
  {
   "cell_type": "code",
   "execution_count": 105,
   "id": "d98edbf2",
   "metadata": {
    "scrolled": true
   },
   "outputs": [
    {
     "ename": "NameError",
     "evalue": "name 'from_' is not defined",
     "output_type": "error",
     "traceback": [
      "\u001b[0;31m---------------------------------------------------------------------------\u001b[0m",
      "\u001b[0;31mNameError\u001b[0m                                 Traceback (most recent call last)",
      "Cell \u001b[0;32mIn[105], line 1\u001b[0m\n\u001b[0;32m----> 1\u001b[0m graph\u001b[38;5;241m.\u001b[39mconnector\u001b[38;5;241m.\u001b[39mg\u001b[38;5;241m.\u001b[39mV(\u001b[43mfrom_\u001b[49m)\u001b[38;5;241m.\u001b[39moutE()\u001b[38;5;241m.\u001b[39msearch(has__label\u001b[38;5;241m=\u001b[39mlabel, \u001b[38;5;241m*\u001b[39m\u001b[38;5;241m*\u001b[39mproperties)\u001b[38;5;241m.\u001b[39mwhere(\n\u001b[1;32m      2\u001b[0m             __\u001b[38;5;241m.\u001b[39minV()\u001b[38;5;241m.\u001b[39mhasId(to_))\u001b[38;5;241m.\u001b[39melementMap()\u001b[38;5;241m.\u001b[39mtoList()\n",
      "\u001b[0;31mNameError\u001b[0m: name 'from_' is not defined"
     ]
    }
   ],
   "source": [
    "# graph.connector.g.V(from_).outE().search(has__label=label, **properties).where(\n",
    "#             __.inV().hasId(to_)).elementMap().toList()"
   ]
  },
  {
   "cell_type": "code",
   "execution_count": 45,
   "id": "23f0578f",
   "metadata": {},
   "outputs": [
    {
     "data": {
      "text/plain": [
       "[<Node:Satellite id=\"8208\" name=Deimos mean_radius=6.0 >,\n",
       " <Node:Planet id=\"8248\" name=Earth radius_in_kms=6371 mass_in_kgs=5.972e+24 >,\n",
       " <Node:Satellite id=\"12344\" name=Phobos mean_radius=11.0 >,\n",
       " <Node:Star id=\"40964208\" name=Sun radius_in_kms=696340 mass_in_kgs=1.989e+30 >,\n",
       " <Node:Satellite id=\"4240\" name=Moon mass_in_kgs=7.34767309e+22 >,\n",
       " <Node:Planet id=\"8360\" name=Mars radius_in_kms=3396 mass_in_kgs=6.417e+23 >]"
      ]
     },
     "execution_count": 45,
     "metadata": {},
     "output_type": "execute_result"
    }
   ],
   "source": []
  },
  {
   "cell_type": "code",
   "execution_count": 43,
   "id": "ed72e0de",
   "metadata": {},
   "outputs": [
    {
     "ename": "StopIteration",
     "evalue": "",
     "output_type": "error",
     "traceback": [
      "\u001b[0;31m---------------------------------------------------------------------------\u001b[0m",
      "\u001b[0;31mStopIteration\u001b[0m                             Traceback (most recent call last)",
      "Cell \u001b[0;32mIn[43], line 1\u001b[0m\n\u001b[0;32m----> 1\u001b[0m \u001b[43mgraph\u001b[49m\u001b[38;5;241;43m.\u001b[39;49m\u001b[43mconnector\u001b[49m\u001b[38;5;241;43m.\u001b[39;49m\u001b[43mvertex\u001b[49m\u001b[38;5;241;43m.\u001b[39;49m\u001b[43mdelete\u001b[49m\u001b[43m(\u001b[49m\u001b[43m)\u001b[49m\u001b[38;5;241;43m.\u001b[39;49m\u001b[43mnext\u001b[49m\u001b[43m(\u001b[49m\u001b[43m)\u001b[49m\n",
      "File \u001b[0;32m~/Projects/invana/invana/.venv/lib/python3.8/site-packages/gremlin_python/process/traversal.py:88\u001b[0m, in \u001b[0;36mTraversal.next\u001b[0;34m(self, amount)\u001b[0m\n\u001b[1;32m     86\u001b[0m \u001b[38;5;28;01mdef\u001b[39;00m \u001b[38;5;21mnext\u001b[39m(\u001b[38;5;28mself\u001b[39m, amount\u001b[38;5;241m=\u001b[39m\u001b[38;5;28;01mNone\u001b[39;00m):\n\u001b[1;32m     87\u001b[0m     \u001b[38;5;28;01mif\u001b[39;00m amount \u001b[38;5;129;01mis\u001b[39;00m \u001b[38;5;28;01mNone\u001b[39;00m:\n\u001b[0;32m---> 88\u001b[0m         \u001b[38;5;28;01mreturn\u001b[39;00m \u001b[38;5;28;43mself\u001b[39;49m\u001b[38;5;241;43m.\u001b[39;49m\u001b[38;5;21;43m__next__\u001b[39;49m\u001b[43m(\u001b[49m\u001b[43m)\u001b[49m\n\u001b[1;32m     89\u001b[0m     \u001b[38;5;28;01melse\u001b[39;00m:\n\u001b[1;32m     90\u001b[0m         count \u001b[38;5;241m=\u001b[39m \u001b[38;5;241m0\u001b[39m\n",
      "File \u001b[0;32m~/Projects/invana/invana/.venv/lib/python3.8/site-packages/gremlin_python/process/traversal.py:49\u001b[0m, in \u001b[0;36mTraversal.__next__\u001b[0;34m(self)\u001b[0m\n\u001b[1;32m     47\u001b[0m     \u001b[38;5;28mself\u001b[39m\u001b[38;5;241m.\u001b[39mtraversal_strategies\u001b[38;5;241m.\u001b[39mapply_strategies(\u001b[38;5;28mself\u001b[39m)\n\u001b[1;32m     48\u001b[0m \u001b[38;5;28;01mif\u001b[39;00m \u001b[38;5;28mself\u001b[39m\u001b[38;5;241m.\u001b[39mlast_traverser \u001b[38;5;129;01mis\u001b[39;00m \u001b[38;5;28;01mNone\u001b[39;00m:\n\u001b[0;32m---> 49\u001b[0m     \u001b[38;5;28mself\u001b[39m\u001b[38;5;241m.\u001b[39mlast_traverser \u001b[38;5;241m=\u001b[39m \u001b[38;5;28;43mnext\u001b[39;49m\u001b[43m(\u001b[49m\u001b[38;5;28;43mself\u001b[39;49m\u001b[38;5;241;43m.\u001b[39;49m\u001b[43mtraversers\u001b[49m\u001b[43m)\u001b[49m\n\u001b[1;32m     50\u001b[0m \u001b[38;5;28mobject\u001b[39m \u001b[38;5;241m=\u001b[39m \u001b[38;5;28mself\u001b[39m\u001b[38;5;241m.\u001b[39mlast_traverser\u001b[38;5;241m.\u001b[39mobject\n\u001b[1;32m     51\u001b[0m \u001b[38;5;28mself\u001b[39m\u001b[38;5;241m.\u001b[39mlast_traverser\u001b[38;5;241m.\u001b[39mbulk \u001b[38;5;241m=\u001b[39m \u001b[38;5;28mself\u001b[39m\u001b[38;5;241m.\u001b[39mlast_traverser\u001b[38;5;241m.\u001b[39mbulk \u001b[38;5;241m-\u001b[39m \u001b[38;5;241m1\u001b[39m\n",
      "\u001b[0;31mStopIteration\u001b[0m: "
     ]
    }
   ],
   "source": [
    "# graph.connector.vertex.delete()"
   ]
  },
  {
   "cell_type": "code",
   "execution_count": 103,
   "id": "c71b72dd",
   "metadata": {},
   "outputs": [
    {
     "data": {
      "text/plain": [
       "[{'has_planet': 1, 'has_neighbor_planet': 2, 'has_satellite': 1}]"
      ]
     },
     "execution_count": 103,
     "metadata": {},
     "output_type": "execute_result"
    }
   ],
   "source": [
    "from gremlin_python.process.graph_traversal import __\n",
    "\n",
    "\n",
    "graph.connector.vertex.search(has__id=8248).get_traversal() \\\n",
    ".bothE() \\\n",
    ".groupCount().by(__.label()).toList()\n",
    "# .count().next() \\\n",
    "# .group().by(__.label).toList()\n",
    "# .bothE().project(\"label\").groupCount().by(\"count\").toList()\n",
    "\n",
    "\n"
   ]
  },
  {
   "cell_type": "code",
   "execution_count": 88,
   "id": "d4b9cbff",
   "metadata": {},
   "outputs": [
    {
     "ename": "TypeError",
     "evalue": "Object of type method is not JSON serializable",
     "output_type": "error",
     "traceback": [
      "\u001b[0;31m---------------------------------------------------------------------------\u001b[0m",
      "\u001b[0;31mTypeError\u001b[0m                                 Traceback (most recent call last)",
      "Cell \u001b[0;32mIn[88], line 1\u001b[0m\n\u001b[0;32m----> 1\u001b[0m \u001b[43mgraph\u001b[49m\u001b[38;5;241;43m.\u001b[39;49m\u001b[43mconnector\u001b[49m\u001b[38;5;241;43m.\u001b[39;49m\u001b[43mvertex\u001b[49m\u001b[38;5;241;43m.\u001b[39;49m\u001b[43msearch\u001b[49m\u001b[43m(\u001b[49m\u001b[43m)\u001b[49m\u001b[38;5;241;43m.\u001b[39;49m\u001b[43mget_traversal\u001b[49m\u001b[43m(\u001b[49m\u001b[43m)\u001b[49m\u001b[43m\\\u001b[49m\n\u001b[1;32m      2\u001b[0m \u001b[38;5;241;43m.\u001b[39;49m\u001b[43mgroup\u001b[49m\u001b[43m(\u001b[49m\u001b[43m)\u001b[49m\u001b[38;5;241;43m.\u001b[39;49m\u001b[43mby\u001b[49m\u001b[43m(\u001b[49m\u001b[43m__\u001b[49m\u001b[38;5;241;43m.\u001b[39;49m\u001b[43mlabel\u001b[49m\u001b[43m)\u001b[49m\u001b[38;5;241;43m.\u001b[39;49m\u001b[43mtoList\u001b[49m\u001b[43m(\u001b[49m\u001b[43m)\u001b[49m\n",
      "File \u001b[0;32m~/Projects/invana/invana/.venv/lib/python3.8/site-packages/gremlin_python/process/traversal.py:57\u001b[0m, in \u001b[0;36mTraversal.toList\u001b[0;34m(self)\u001b[0m\n\u001b[1;32m     56\u001b[0m \u001b[38;5;28;01mdef\u001b[39;00m \u001b[38;5;21mtoList\u001b[39m(\u001b[38;5;28mself\u001b[39m):\n\u001b[0;32m---> 57\u001b[0m     \u001b[38;5;28;01mreturn\u001b[39;00m \u001b[38;5;28;43mlist\u001b[39;49m\u001b[43m(\u001b[49m\u001b[38;5;28;43miter\u001b[39;49m\u001b[43m(\u001b[49m\u001b[38;5;28;43mself\u001b[39;49m\u001b[43m)\u001b[49m\u001b[43m)\u001b[49m\n",
      "File \u001b[0;32m~/Projects/invana/invana/.venv/lib/python3.8/site-packages/gremlin_python/process/traversal.py:47\u001b[0m, in \u001b[0;36mTraversal.__next__\u001b[0;34m(self)\u001b[0m\n\u001b[1;32m     45\u001b[0m \u001b[38;5;28;01mdef\u001b[39;00m \u001b[38;5;21m__next__\u001b[39m(\u001b[38;5;28mself\u001b[39m):\n\u001b[1;32m     46\u001b[0m     \u001b[38;5;28;01mif\u001b[39;00m \u001b[38;5;28mself\u001b[39m\u001b[38;5;241m.\u001b[39mtraversers \u001b[38;5;129;01mis\u001b[39;00m \u001b[38;5;28;01mNone\u001b[39;00m:\n\u001b[0;32m---> 47\u001b[0m         \u001b[38;5;28;43mself\u001b[39;49m\u001b[38;5;241;43m.\u001b[39;49m\u001b[43mtraversal_strategies\u001b[49m\u001b[38;5;241;43m.\u001b[39;49m\u001b[43mapply_strategies\u001b[49m\u001b[43m(\u001b[49m\u001b[38;5;28;43mself\u001b[39;49m\u001b[43m)\u001b[49m\n\u001b[1;32m     48\u001b[0m     \u001b[38;5;28;01mif\u001b[39;00m \u001b[38;5;28mself\u001b[39m\u001b[38;5;241m.\u001b[39mlast_traverser \u001b[38;5;129;01mis\u001b[39;00m \u001b[38;5;28;01mNone\u001b[39;00m:\n\u001b[1;32m     49\u001b[0m         \u001b[38;5;28mself\u001b[39m\u001b[38;5;241m.\u001b[39mlast_traverser \u001b[38;5;241m=\u001b[39m \u001b[38;5;28mnext\u001b[39m(\u001b[38;5;28mself\u001b[39m\u001b[38;5;241m.\u001b[39mtraversers)\n",
      "File \u001b[0;32m~/Projects/invana/invana/.venv/lib/python3.8/site-packages/gremlin_python/process/traversal.py:548\u001b[0m, in \u001b[0;36mTraversalStrategies.apply_strategies\u001b[0;34m(self, traversal)\u001b[0m\n\u001b[1;32m    546\u001b[0m \u001b[38;5;28;01mdef\u001b[39;00m \u001b[38;5;21mapply_strategies\u001b[39m(\u001b[38;5;28mself\u001b[39m, traversal):\n\u001b[1;32m    547\u001b[0m     \u001b[38;5;28;01mfor\u001b[39;00m traversal_strategy \u001b[38;5;129;01min\u001b[39;00m \u001b[38;5;28mself\u001b[39m\u001b[38;5;241m.\u001b[39mtraversal_strategies:\n\u001b[0;32m--> 548\u001b[0m         \u001b[43mtraversal_strategy\u001b[49m\u001b[38;5;241;43m.\u001b[39;49m\u001b[43mapply\u001b[49m\u001b[43m(\u001b[49m\u001b[43mtraversal\u001b[49m\u001b[43m)\u001b[49m\n",
      "File \u001b[0;32m~/Projects/invana/invana/.venv/lib/python3.8/site-packages/gremlin_python/driver/remote_connection.py:63\u001b[0m, in \u001b[0;36mRemoteStrategy.apply\u001b[0;34m(self, traversal)\u001b[0m\n\u001b[1;32m     61\u001b[0m \u001b[38;5;28;01mdef\u001b[39;00m \u001b[38;5;21mapply\u001b[39m(\u001b[38;5;28mself\u001b[39m, traversal):\n\u001b[1;32m     62\u001b[0m     \u001b[38;5;28;01mif\u001b[39;00m traversal\u001b[38;5;241m.\u001b[39mtraversers \u001b[38;5;129;01mis\u001b[39;00m \u001b[38;5;28;01mNone\u001b[39;00m:\n\u001b[0;32m---> 63\u001b[0m         remote_traversal \u001b[38;5;241m=\u001b[39m \u001b[38;5;28;43mself\u001b[39;49m\u001b[38;5;241;43m.\u001b[39;49m\u001b[43mremote_connection\u001b[49m\u001b[38;5;241;43m.\u001b[39;49m\u001b[43msubmit\u001b[49m\u001b[43m(\u001b[49m\u001b[43mtraversal\u001b[49m\u001b[38;5;241;43m.\u001b[39;49m\u001b[43mbytecode\u001b[49m\u001b[43m)\u001b[49m\n\u001b[1;32m     64\u001b[0m         traversal\u001b[38;5;241m.\u001b[39mremote_results \u001b[38;5;241m=\u001b[39m remote_traversal\n\u001b[1;32m     65\u001b[0m         traversal\u001b[38;5;241m.\u001b[39mtraversers \u001b[38;5;241m=\u001b[39m remote_traversal\u001b[38;5;241m.\u001b[39mtraversers\n",
      "File \u001b[0;32m~/Projects/invana/invana/.venv/lib/python3.8/site-packages/gremlin_python/driver/driver_remote_connection.py:59\u001b[0m, in \u001b[0;36mDriverRemoteConnection.submit\u001b[0;34m(self, bytecode)\u001b[0m\n\u001b[1;32m     58\u001b[0m \u001b[38;5;28;01mdef\u001b[39;00m \u001b[38;5;21msubmit\u001b[39m(\u001b[38;5;28mself\u001b[39m, bytecode):\n\u001b[0;32m---> 59\u001b[0m     result_set \u001b[38;5;241m=\u001b[39m \u001b[38;5;28;43mself\u001b[39;49m\u001b[38;5;241;43m.\u001b[39;49m\u001b[43m_client\u001b[49m\u001b[38;5;241;43m.\u001b[39;49m\u001b[43msubmit\u001b[49m\u001b[43m(\u001b[49m\u001b[43mbytecode\u001b[49m\u001b[43m,\u001b[49m\u001b[43m \u001b[49m\u001b[43mrequest_options\u001b[49m\u001b[38;5;241;43m=\u001b[39;49m\u001b[38;5;28;43mself\u001b[39;49m\u001b[38;5;241;43m.\u001b[39;49m\u001b[43m_extract_request_options\u001b[49m\u001b[43m(\u001b[49m\u001b[43mbytecode\u001b[49m\u001b[43m)\u001b[49m\u001b[43m)\u001b[49m\n\u001b[1;32m     60\u001b[0m     results \u001b[38;5;241m=\u001b[39m result_set\u001b[38;5;241m.\u001b[39mall()\u001b[38;5;241m.\u001b[39mresult()\n\u001b[1;32m     61\u001b[0m     \u001b[38;5;28;01mreturn\u001b[39;00m RemoteTraversal(\u001b[38;5;28miter\u001b[39m(results))\n",
      "File \u001b[0;32m~/Projects/invana/invana/.venv/lib/python3.8/site-packages/gremlin_python/driver/client.py:123\u001b[0m, in \u001b[0;36mClient.submit\u001b[0;34m(self, message, bindings, request_options)\u001b[0m\n\u001b[1;32m    122\u001b[0m \u001b[38;5;28;01mdef\u001b[39;00m \u001b[38;5;21msubmit\u001b[39m(\u001b[38;5;28mself\u001b[39m, message, bindings\u001b[38;5;241m=\u001b[39m\u001b[38;5;28;01mNone\u001b[39;00m, request_options\u001b[38;5;241m=\u001b[39m\u001b[38;5;28;01mNone\u001b[39;00m):\n\u001b[0;32m--> 123\u001b[0m     \u001b[38;5;28;01mreturn\u001b[39;00m \u001b[38;5;28;43mself\u001b[39;49m\u001b[38;5;241;43m.\u001b[39;49m\u001b[43msubmitAsync\u001b[49m\u001b[43m(\u001b[49m\u001b[43mmessage\u001b[49m\u001b[43m,\u001b[49m\u001b[43m \u001b[49m\u001b[43mbindings\u001b[49m\u001b[38;5;241;43m=\u001b[39;49m\u001b[43mbindings\u001b[49m\u001b[43m,\u001b[49m\u001b[43m \u001b[49m\u001b[43mrequest_options\u001b[49m\u001b[38;5;241;43m=\u001b[39;49m\u001b[43mrequest_options\u001b[49m\u001b[43m)\u001b[49m\u001b[38;5;241;43m.\u001b[39;49m\u001b[43mresult\u001b[49m\u001b[43m(\u001b[49m\u001b[43m)\u001b[49m\n",
      "File \u001b[0;32m/opt/homebrew/opt/python@3.8/Frameworks/Python.framework/Versions/3.8/lib/python3.8/concurrent/futures/_base.py:444\u001b[0m, in \u001b[0;36mFuture.result\u001b[0;34m(self, timeout)\u001b[0m\n\u001b[1;32m    442\u001b[0m     \u001b[38;5;28;01mraise\u001b[39;00m CancelledError()\n\u001b[1;32m    443\u001b[0m \u001b[38;5;28;01melif\u001b[39;00m \u001b[38;5;28mself\u001b[39m\u001b[38;5;241m.\u001b[39m_state \u001b[38;5;241m==\u001b[39m FINISHED:\n\u001b[0;32m--> 444\u001b[0m     \u001b[38;5;28;01mreturn\u001b[39;00m \u001b[38;5;28;43mself\u001b[39;49m\u001b[38;5;241;43m.\u001b[39;49m\u001b[43m__get_result\u001b[49m\u001b[43m(\u001b[49m\u001b[43m)\u001b[49m\n\u001b[1;32m    445\u001b[0m \u001b[38;5;28;01melse\u001b[39;00m:\n\u001b[1;32m    446\u001b[0m     \u001b[38;5;28;01mraise\u001b[39;00m \u001b[38;5;167;01mTimeoutError\u001b[39;00m()\n",
      "File \u001b[0;32m/opt/homebrew/opt/python@3.8/Frameworks/Python.framework/Versions/3.8/lib/python3.8/concurrent/futures/_base.py:389\u001b[0m, in \u001b[0;36mFuture.__get_result\u001b[0;34m(self)\u001b[0m\n\u001b[1;32m    387\u001b[0m \u001b[38;5;28;01mif\u001b[39;00m \u001b[38;5;28mself\u001b[39m\u001b[38;5;241m.\u001b[39m_exception:\n\u001b[1;32m    388\u001b[0m     \u001b[38;5;28;01mtry\u001b[39;00m:\n\u001b[0;32m--> 389\u001b[0m         \u001b[38;5;28;01mraise\u001b[39;00m \u001b[38;5;28mself\u001b[39m\u001b[38;5;241m.\u001b[39m_exception\n\u001b[1;32m    390\u001b[0m     \u001b[38;5;28;01mfinally\u001b[39;00m:\n\u001b[1;32m    391\u001b[0m         \u001b[38;5;66;03m# Break a reference cycle with the exception in self._exception\u001b[39;00m\n\u001b[1;32m    392\u001b[0m         \u001b[38;5;28mself\u001b[39m \u001b[38;5;241m=\u001b[39m \u001b[38;5;28;01mNone\u001b[39;00m\n",
      "File \u001b[0;32m~/Projects/invana/invana/.venv/lib/python3.8/site-packages/gremlin_python/driver/connection.py:66\u001b[0m, in \u001b[0;36mConnection.write.<locals>.cb\u001b[0;34m(f)\u001b[0m\n\u001b[1;32m     64\u001b[0m \u001b[38;5;28;01mdef\u001b[39;00m \u001b[38;5;21mcb\u001b[39m(f):\n\u001b[1;32m     65\u001b[0m     \u001b[38;5;28;01mtry\u001b[39;00m:\n\u001b[0;32m---> 66\u001b[0m         \u001b[43mf\u001b[49m\u001b[38;5;241;43m.\u001b[39;49m\u001b[43mresult\u001b[49m\u001b[43m(\u001b[49m\u001b[43m)\u001b[49m\n\u001b[1;32m     67\u001b[0m     \u001b[38;5;28;01mexcept\u001b[39;00m \u001b[38;5;167;01mException\u001b[39;00m \u001b[38;5;28;01mas\u001b[39;00m e:\n\u001b[1;32m     68\u001b[0m         future\u001b[38;5;241m.\u001b[39mset_exception(e)\n",
      "File \u001b[0;32m/opt/homebrew/opt/python@3.8/Frameworks/Python.framework/Versions/3.8/lib/python3.8/concurrent/futures/_base.py:437\u001b[0m, in \u001b[0;36mFuture.result\u001b[0;34m(self, timeout)\u001b[0m\n\u001b[1;32m    435\u001b[0m     \u001b[38;5;28;01mraise\u001b[39;00m CancelledError()\n\u001b[1;32m    436\u001b[0m \u001b[38;5;28;01melif\u001b[39;00m \u001b[38;5;28mself\u001b[39m\u001b[38;5;241m.\u001b[39m_state \u001b[38;5;241m==\u001b[39m FINISHED:\n\u001b[0;32m--> 437\u001b[0m     \u001b[38;5;28;01mreturn\u001b[39;00m \u001b[38;5;28;43mself\u001b[39;49m\u001b[38;5;241;43m.\u001b[39;49m\u001b[43m__get_result\u001b[49m\u001b[43m(\u001b[49m\u001b[43m)\u001b[49m\n\u001b[1;32m    439\u001b[0m \u001b[38;5;28mself\u001b[39m\u001b[38;5;241m.\u001b[39m_condition\u001b[38;5;241m.\u001b[39mwait(timeout)\n\u001b[1;32m    441\u001b[0m \u001b[38;5;28;01mif\u001b[39;00m \u001b[38;5;28mself\u001b[39m\u001b[38;5;241m.\u001b[39m_state \u001b[38;5;129;01min\u001b[39;00m [CANCELLED, CANCELLED_AND_NOTIFIED]:\n",
      "File \u001b[0;32m/opt/homebrew/opt/python@3.8/Frameworks/Python.framework/Versions/3.8/lib/python3.8/concurrent/futures/_base.py:389\u001b[0m, in \u001b[0;36mFuture.__get_result\u001b[0;34m(self)\u001b[0m\n\u001b[1;32m    387\u001b[0m \u001b[38;5;28;01mif\u001b[39;00m \u001b[38;5;28mself\u001b[39m\u001b[38;5;241m.\u001b[39m_exception:\n\u001b[1;32m    388\u001b[0m     \u001b[38;5;28;01mtry\u001b[39;00m:\n\u001b[0;32m--> 389\u001b[0m         \u001b[38;5;28;01mraise\u001b[39;00m \u001b[38;5;28mself\u001b[39m\u001b[38;5;241m.\u001b[39m_exception\n\u001b[1;32m    390\u001b[0m     \u001b[38;5;28;01mfinally\u001b[39;00m:\n\u001b[1;32m    391\u001b[0m         \u001b[38;5;66;03m# Break a reference cycle with the exception in self._exception\u001b[39;00m\n\u001b[1;32m    392\u001b[0m         \u001b[38;5;28mself\u001b[39m \u001b[38;5;241m=\u001b[39m \u001b[38;5;28;01mNone\u001b[39;00m\n",
      "File \u001b[0;32m/opt/homebrew/opt/python@3.8/Frameworks/Python.framework/Versions/3.8/lib/python3.8/concurrent/futures/thread.py:57\u001b[0m, in \u001b[0;36m_WorkItem.run\u001b[0;34m(self)\u001b[0m\n\u001b[1;32m     54\u001b[0m     \u001b[38;5;28;01mreturn\u001b[39;00m\n\u001b[1;32m     56\u001b[0m \u001b[38;5;28;01mtry\u001b[39;00m:\n\u001b[0;32m---> 57\u001b[0m     result \u001b[38;5;241m=\u001b[39m \u001b[38;5;28;43mself\u001b[39;49m\u001b[38;5;241;43m.\u001b[39;49m\u001b[43mfn\u001b[49m\u001b[43m(\u001b[49m\u001b[38;5;241;43m*\u001b[39;49m\u001b[38;5;28;43mself\u001b[39;49m\u001b[38;5;241;43m.\u001b[39;49m\u001b[43margs\u001b[49m\u001b[43m,\u001b[49m\u001b[43m \u001b[49m\u001b[38;5;241;43m*\u001b[39;49m\u001b[38;5;241;43m*\u001b[39;49m\u001b[38;5;28;43mself\u001b[39;49m\u001b[38;5;241;43m.\u001b[39;49m\u001b[43mkwargs\u001b[49m\u001b[43m)\u001b[49m\n\u001b[1;32m     58\u001b[0m \u001b[38;5;28;01mexcept\u001b[39;00m \u001b[38;5;167;01mBaseException\u001b[39;00m \u001b[38;5;28;01mas\u001b[39;00m exc:\n\u001b[1;32m     59\u001b[0m     \u001b[38;5;28mself\u001b[39m\u001b[38;5;241m.\u001b[39mfuture\u001b[38;5;241m.\u001b[39mset_exception(exc)\n",
      "File \u001b[0;32m~/Projects/invana/invana/.venv/lib/python3.8/site-packages/gremlin_python/driver/protocol.py:84\u001b[0m, in \u001b[0;36mGremlinServerWSProtocol.write\u001b[0;34m(self, request_id, request_message)\u001b[0m\n\u001b[1;32m     83\u001b[0m \u001b[38;5;28;01mdef\u001b[39;00m \u001b[38;5;21mwrite\u001b[39m(\u001b[38;5;28mself\u001b[39m, request_id, request_message):\n\u001b[0;32m---> 84\u001b[0m     message \u001b[38;5;241m=\u001b[39m \u001b[38;5;28;43mself\u001b[39;49m\u001b[38;5;241;43m.\u001b[39;49m\u001b[43m_message_serializer\u001b[49m\u001b[38;5;241;43m.\u001b[39;49m\u001b[43mserialize_message\u001b[49m\u001b[43m(\u001b[49m\n\u001b[1;32m     85\u001b[0m \u001b[43m        \u001b[49m\u001b[43mrequest_id\u001b[49m\u001b[43m,\u001b[49m\u001b[43m \u001b[49m\u001b[43mrequest_message\u001b[49m\u001b[43m)\u001b[49m\n\u001b[1;32m     86\u001b[0m     \u001b[38;5;28mself\u001b[39m\u001b[38;5;241m.\u001b[39m_transport\u001b[38;5;241m.\u001b[39mwrite(message)\n",
      "File \u001b[0;32m~/Projects/invana/invana/.venv/lib/python3.8/site-packages/gremlin_python/driver/serializer.py:127\u001b[0m, in \u001b[0;36mGraphSONMessageSerializer.serialize_message\u001b[0;34m(self, request_id, request_message)\u001b[0m\n\u001b[1;32m    125\u001b[0m     processor_obj \u001b[38;5;241m=\u001b[39m \u001b[38;5;28mself\u001b[39m\u001b[38;5;241m.\u001b[39mget_processor(processor)\n\u001b[1;32m    126\u001b[0m args \u001b[38;5;241m=\u001b[39m processor_obj\u001b[38;5;241m.\u001b[39mget_op_args(op, args)\n\u001b[0;32m--> 127\u001b[0m message \u001b[38;5;241m=\u001b[39m \u001b[38;5;28;43mself\u001b[39;49m\u001b[38;5;241;43m.\u001b[39;49m\u001b[43mbuild_message\u001b[49m\u001b[43m(\u001b[49m\u001b[43mrequest_id\u001b[49m\u001b[43m,\u001b[49m\u001b[43m \u001b[49m\u001b[43mprocessor\u001b[49m\u001b[43m,\u001b[49m\u001b[43m \u001b[49m\u001b[43mop\u001b[49m\u001b[43m,\u001b[49m\u001b[43m \u001b[49m\u001b[43margs\u001b[49m\u001b[43m)\u001b[49m\n\u001b[1;32m    128\u001b[0m \u001b[38;5;28;01mreturn\u001b[39;00m message\n",
      "File \u001b[0;32m~/Projects/invana/invana/.venv/lib/python3.8/site-packages/gremlin_python/driver/serializer.py:137\u001b[0m, in \u001b[0;36mGraphSONMessageSerializer.build_message\u001b[0;34m(self, request_id, processor, op, args)\u001b[0m\n\u001b[1;32m    130\u001b[0m \u001b[38;5;28;01mdef\u001b[39;00m \u001b[38;5;21mbuild_message\u001b[39m(\u001b[38;5;28mself\u001b[39m, request_id, processor, op, args):\n\u001b[1;32m    131\u001b[0m     message \u001b[38;5;241m=\u001b[39m {\n\u001b[1;32m    132\u001b[0m         \u001b[38;5;124m'\u001b[39m\u001b[38;5;124mrequestId\u001b[39m\u001b[38;5;124m'\u001b[39m: {\u001b[38;5;124m'\u001b[39m\u001b[38;5;124m@type\u001b[39m\u001b[38;5;124m'\u001b[39m: \u001b[38;5;124m'\u001b[39m\u001b[38;5;124mg:UUID\u001b[39m\u001b[38;5;124m'\u001b[39m, \u001b[38;5;124m'\u001b[39m\u001b[38;5;124m@value\u001b[39m\u001b[38;5;124m'\u001b[39m: request_id},\n\u001b[1;32m    133\u001b[0m         \u001b[38;5;124m'\u001b[39m\u001b[38;5;124mprocessor\u001b[39m\u001b[38;5;124m'\u001b[39m: processor,\n\u001b[1;32m    134\u001b[0m         \u001b[38;5;124m'\u001b[39m\u001b[38;5;124mop\u001b[39m\u001b[38;5;124m'\u001b[39m: op,\n\u001b[1;32m    135\u001b[0m         \u001b[38;5;124m'\u001b[39m\u001b[38;5;124margs\u001b[39m\u001b[38;5;124m'\u001b[39m: args\n\u001b[1;32m    136\u001b[0m     }\n\u001b[0;32m--> 137\u001b[0m     \u001b[38;5;28;01mreturn\u001b[39;00m \u001b[38;5;28;43mself\u001b[39;49m\u001b[38;5;241;43m.\u001b[39;49m\u001b[43mfinalize_message\u001b[49m\u001b[43m(\u001b[49m\u001b[43mmessage\u001b[49m\u001b[43m,\u001b[49m\u001b[43m \u001b[49m\u001b[38;5;124;43mb\u001b[39;49m\u001b[38;5;124;43m\"\u001b[39;49m\u001b[38;5;130;43;01m\\x21\u001b[39;49;00m\u001b[38;5;124;43m\"\u001b[39;49m\u001b[43m,\u001b[49m\u001b[43m \u001b[49m\u001b[38;5;28;43mself\u001b[39;49m\u001b[38;5;241;43m.\u001b[39;49m\u001b[43mversion\u001b[49m\u001b[43m)\u001b[49m\n",
      "File \u001b[0;32m~/Projects/invana/invana/.venv/lib/python3.8/site-packages/gremlin_python/driver/serializer.py:140\u001b[0m, in \u001b[0;36mGraphSONMessageSerializer.finalize_message\u001b[0;34m(self, message, mime_len, mime_type)\u001b[0m\n\u001b[1;32m    139\u001b[0m \u001b[38;5;28;01mdef\u001b[39;00m \u001b[38;5;21mfinalize_message\u001b[39m(\u001b[38;5;28mself\u001b[39m, message, mime_len, mime_type):\n\u001b[0;32m--> 140\u001b[0m     message \u001b[38;5;241m=\u001b[39m \u001b[43mjson\u001b[49m\u001b[38;5;241;43m.\u001b[39;49m\u001b[43mdumps\u001b[49m\u001b[43m(\u001b[49m\u001b[43mmessage\u001b[49m\u001b[43m)\u001b[49m\n\u001b[1;32m    141\u001b[0m     message \u001b[38;5;241m=\u001b[39m \u001b[38;5;124mb\u001b[39m\u001b[38;5;124m'\u001b[39m\u001b[38;5;124m'\u001b[39m\u001b[38;5;241m.\u001b[39mjoin([mime_len, mime_type, message\u001b[38;5;241m.\u001b[39mencode(\u001b[38;5;124m'\u001b[39m\u001b[38;5;124mutf-8\u001b[39m\u001b[38;5;124m'\u001b[39m)])\n\u001b[1;32m    142\u001b[0m     \u001b[38;5;28;01mreturn\u001b[39;00m message\n",
      "File \u001b[0;32m/opt/homebrew/opt/python@3.8/Frameworks/Python.framework/Versions/3.8/lib/python3.8/json/__init__.py:231\u001b[0m, in \u001b[0;36mdumps\u001b[0;34m(obj, skipkeys, ensure_ascii, check_circular, allow_nan, cls, indent, separators, default, sort_keys, **kw)\u001b[0m\n\u001b[1;32m    226\u001b[0m \u001b[38;5;66;03m# cached encoder\u001b[39;00m\n\u001b[1;32m    227\u001b[0m \u001b[38;5;28;01mif\u001b[39;00m (\u001b[38;5;129;01mnot\u001b[39;00m skipkeys \u001b[38;5;129;01mand\u001b[39;00m ensure_ascii \u001b[38;5;129;01mand\u001b[39;00m\n\u001b[1;32m    228\u001b[0m     check_circular \u001b[38;5;129;01mand\u001b[39;00m allow_nan \u001b[38;5;129;01mand\u001b[39;00m\n\u001b[1;32m    229\u001b[0m     \u001b[38;5;28mcls\u001b[39m \u001b[38;5;129;01mis\u001b[39;00m \u001b[38;5;28;01mNone\u001b[39;00m \u001b[38;5;129;01mand\u001b[39;00m indent \u001b[38;5;129;01mis\u001b[39;00m \u001b[38;5;28;01mNone\u001b[39;00m \u001b[38;5;129;01mand\u001b[39;00m separators \u001b[38;5;129;01mis\u001b[39;00m \u001b[38;5;28;01mNone\u001b[39;00m \u001b[38;5;129;01mand\u001b[39;00m\n\u001b[1;32m    230\u001b[0m     default \u001b[38;5;129;01mis\u001b[39;00m \u001b[38;5;28;01mNone\u001b[39;00m \u001b[38;5;129;01mand\u001b[39;00m \u001b[38;5;129;01mnot\u001b[39;00m sort_keys \u001b[38;5;129;01mand\u001b[39;00m \u001b[38;5;129;01mnot\u001b[39;00m kw):\n\u001b[0;32m--> 231\u001b[0m     \u001b[38;5;28;01mreturn\u001b[39;00m \u001b[43m_default_encoder\u001b[49m\u001b[38;5;241;43m.\u001b[39;49m\u001b[43mencode\u001b[49m\u001b[43m(\u001b[49m\u001b[43mobj\u001b[49m\u001b[43m)\u001b[49m\n\u001b[1;32m    232\u001b[0m \u001b[38;5;28;01mif\u001b[39;00m \u001b[38;5;28mcls\u001b[39m \u001b[38;5;129;01mis\u001b[39;00m \u001b[38;5;28;01mNone\u001b[39;00m:\n\u001b[1;32m    233\u001b[0m     \u001b[38;5;28mcls\u001b[39m \u001b[38;5;241m=\u001b[39m JSONEncoder\n",
      "File \u001b[0;32m/opt/homebrew/opt/python@3.8/Frameworks/Python.framework/Versions/3.8/lib/python3.8/json/encoder.py:199\u001b[0m, in \u001b[0;36mJSONEncoder.encode\u001b[0;34m(self, o)\u001b[0m\n\u001b[1;32m    195\u001b[0m         \u001b[38;5;28;01mreturn\u001b[39;00m encode_basestring(o)\n\u001b[1;32m    196\u001b[0m \u001b[38;5;66;03m# This doesn't pass the iterator directly to ''.join() because the\u001b[39;00m\n\u001b[1;32m    197\u001b[0m \u001b[38;5;66;03m# exceptions aren't as detailed.  The list call should be roughly\u001b[39;00m\n\u001b[1;32m    198\u001b[0m \u001b[38;5;66;03m# equivalent to the PySequence_Fast that ''.join() would do.\u001b[39;00m\n\u001b[0;32m--> 199\u001b[0m chunks \u001b[38;5;241m=\u001b[39m \u001b[38;5;28;43mself\u001b[39;49m\u001b[38;5;241;43m.\u001b[39;49m\u001b[43miterencode\u001b[49m\u001b[43m(\u001b[49m\u001b[43mo\u001b[49m\u001b[43m,\u001b[49m\u001b[43m \u001b[49m\u001b[43m_one_shot\u001b[49m\u001b[38;5;241;43m=\u001b[39;49m\u001b[38;5;28;43;01mTrue\u001b[39;49;00m\u001b[43m)\u001b[49m\n\u001b[1;32m    200\u001b[0m \u001b[38;5;28;01mif\u001b[39;00m \u001b[38;5;129;01mnot\u001b[39;00m \u001b[38;5;28misinstance\u001b[39m(chunks, (\u001b[38;5;28mlist\u001b[39m, \u001b[38;5;28mtuple\u001b[39m)):\n\u001b[1;32m    201\u001b[0m     chunks \u001b[38;5;241m=\u001b[39m \u001b[38;5;28mlist\u001b[39m(chunks)\n",
      "File \u001b[0;32m/opt/homebrew/opt/python@3.8/Frameworks/Python.framework/Versions/3.8/lib/python3.8/json/encoder.py:257\u001b[0m, in \u001b[0;36mJSONEncoder.iterencode\u001b[0;34m(self, o, _one_shot)\u001b[0m\n\u001b[1;32m    252\u001b[0m \u001b[38;5;28;01melse\u001b[39;00m:\n\u001b[1;32m    253\u001b[0m     _iterencode \u001b[38;5;241m=\u001b[39m _make_iterencode(\n\u001b[1;32m    254\u001b[0m         markers, \u001b[38;5;28mself\u001b[39m\u001b[38;5;241m.\u001b[39mdefault, _encoder, \u001b[38;5;28mself\u001b[39m\u001b[38;5;241m.\u001b[39mindent, floatstr,\n\u001b[1;32m    255\u001b[0m         \u001b[38;5;28mself\u001b[39m\u001b[38;5;241m.\u001b[39mkey_separator, \u001b[38;5;28mself\u001b[39m\u001b[38;5;241m.\u001b[39mitem_separator, \u001b[38;5;28mself\u001b[39m\u001b[38;5;241m.\u001b[39msort_keys,\n\u001b[1;32m    256\u001b[0m         \u001b[38;5;28mself\u001b[39m\u001b[38;5;241m.\u001b[39mskipkeys, _one_shot)\n\u001b[0;32m--> 257\u001b[0m \u001b[38;5;28;01mreturn\u001b[39;00m \u001b[43m_iterencode\u001b[49m\u001b[43m(\u001b[49m\u001b[43mo\u001b[49m\u001b[43m,\u001b[49m\u001b[43m \u001b[49m\u001b[38;5;241;43m0\u001b[39;49m\u001b[43m)\u001b[49m\n",
      "File \u001b[0;32m/opt/homebrew/opt/python@3.8/Frameworks/Python.framework/Versions/3.8/lib/python3.8/json/encoder.py:179\u001b[0m, in \u001b[0;36mJSONEncoder.default\u001b[0;34m(self, o)\u001b[0m\n\u001b[1;32m    160\u001b[0m \u001b[38;5;28;01mdef\u001b[39;00m \u001b[38;5;21mdefault\u001b[39m(\u001b[38;5;28mself\u001b[39m, o):\n\u001b[1;32m    161\u001b[0m \u001b[38;5;250m    \u001b[39m\u001b[38;5;124;03m\"\"\"Implement this method in a subclass such that it returns\u001b[39;00m\n\u001b[1;32m    162\u001b[0m \u001b[38;5;124;03m    a serializable object for ``o``, or calls the base implementation\u001b[39;00m\n\u001b[1;32m    163\u001b[0m \u001b[38;5;124;03m    (to raise a ``TypeError``).\u001b[39;00m\n\u001b[0;32m   (...)\u001b[0m\n\u001b[1;32m    177\u001b[0m \n\u001b[1;32m    178\u001b[0m \u001b[38;5;124;03m    \"\"\"\u001b[39;00m\n\u001b[0;32m--> 179\u001b[0m     \u001b[38;5;28;01mraise\u001b[39;00m \u001b[38;5;167;01mTypeError\u001b[39;00m(\u001b[38;5;124mf\u001b[39m\u001b[38;5;124m'\u001b[39m\u001b[38;5;124mObject of type \u001b[39m\u001b[38;5;132;01m{\u001b[39;00mo\u001b[38;5;241m.\u001b[39m\u001b[38;5;18m__class__\u001b[39m\u001b[38;5;241m.\u001b[39m\u001b[38;5;18m__name__\u001b[39m\u001b[38;5;132;01m}\u001b[39;00m\u001b[38;5;124m \u001b[39m\u001b[38;5;124m'\u001b[39m\n\u001b[1;32m    180\u001b[0m                     \u001b[38;5;124mf\u001b[39m\u001b[38;5;124m'\u001b[39m\u001b[38;5;124mis not JSON serializable\u001b[39m\u001b[38;5;124m'\u001b[39m)\n",
      "\u001b[0;31mTypeError\u001b[0m: Object of type method is not JSON serializable"
     ]
    }
   ],
   "source": [
    "graph.connector.vertex.search().get_traversal()\\\n",
    ".group().by(__.label).toList()"
   ]
  },
  {
   "cell_type": "code",
   "execution_count": 64,
   "id": "5d789e27",
   "metadata": {},
   "outputs": [
    {
     "data": {
      "text/plain": [
       "[<Node:Planet id=\"8248\" name=Earth radius_in_kms=6371 mass_in_kgs=5.972e+24 >,\n",
       " <Node:Planet id=\"8360\" name=Mars radius_in_kms=3396 mass_in_kgs=6.417e+23 >]"
      ]
     },
     "execution_count": 64,
     "metadata": {},
     "output_type": "execute_result"
    }
   ],
   "source": [
    "class Planet(VertexModel):\n",
    "    graph = graph\n",
    "    properties = {\n",
    "        'name': StringProperty(),\n",
    "        'mass_in_kgs': FloatProperty(),\n",
    "        'radius_in_kms': IntegerProperty(),\n",
    "    }\n",
    "\n",
    "Planet.objects.search().to_list()\n"
   ]
  },
  {
   "cell_type": "code",
   "execution_count": null,
   "id": "e15fadd2",
   "metadata": {},
   "outputs": [],
   "source": []
  }
 ],
 "metadata": {
  "kernelspec": {
   "display_name": "Python 3 (ipykernel)",
   "language": "python",
   "name": "python3"
  },
  "language_info": {
   "codemirror_mode": {
    "name": "ipython",
    "version": 3
   },
   "file_extension": ".py",
   "mimetype": "text/x-python",
   "name": "python",
   "nbconvert_exporter": "python",
   "pygments_lexer": "ipython3",
   "version": "3.8.16"
  }
 },
 "nbformat": 4,
 "nbformat_minor": 5
}
