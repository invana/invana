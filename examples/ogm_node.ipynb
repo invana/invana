{
 "cells": [
  {
   "cell_type": "markdown",
   "id": "aeb00e57",
   "metadata": {},
   "source": [
    "## Install invana-connector"
   ]
  },
  {
   "cell_type": "code",
   "execution_count": 1,
   "id": "97583067",
   "metadata": {},
   "outputs": [],
   "source": [
    "# for stable version \n",
    "# pip install invana\n",
    "\n",
    "# for installation specific branch\n",
    "#pip install git+https://github.com/invana/invana@refactor/invana-connectors#egg=invana\n",
    "\n",
    "# for latest code \n",
    "import sys\n",
    "sys.path.append(\"../\")"
   ]
  },
  {
   "cell_type": "code",
   "execution_count": 2,
   "id": "6ba13b05",
   "metadata": {},
   "outputs": [],
   "source": [
    "def print_list(list_data):\n",
    "    for data in list_data:\n",
    "        print(\"\",data)"
   ]
  },
  {
   "cell_type": "markdown",
   "id": "c4e3ee81",
   "metadata": {},
   "source": [
    "## 1. Modelling graph"
   ]
  },
  {
   "cell_type": "markdown",
   "id": "05b77d15",
   "metadata": {},
   "source": [
    "### 1.1 Creating graph instance"
   ]
  },
  {
   "cell_type": "code",
   "execution_count": 3,
   "id": "a8a2b1df",
   "metadata": {},
   "outputs": [
    {
     "name": "stderr",
     "output_type": "stream",
     "text": [
      "[DEBUG:2023-01-23 08:19:10,629:connector.update_connection_state:61] - GraphConnector state updated to : CONNECTING\n",
      "[DEBUG:2023-01-23 08:19:10,629:connector._init_connection:99] - create driver connection  \n",
      "[DEBUG:2023-01-23 08:19:11,634:connector.update_connection_state:61] - GraphConnector state updated to : CONNECTED\n"
     ]
    }
   ],
   "source": [
    "from invana import InvanaGraph\n",
    "\n",
    "gremlin_server_url = \"ws://megamind.local:8182/gremlin\"\n",
    "\n",
    "graph = InvanaGraph(gremlin_server_url)"
   ]
  },
  {
   "cell_type": "markdown",
   "id": "92e3c533",
   "metadata": {},
   "source": [
    "### 1.2 Defining Nodes and Relationship Models"
   ]
  },
  {
   "cell_type": "code",
   "execution_count": 4,
   "id": "8b515ea9",
   "metadata": {},
   "outputs": [],
   "source": [
    "from invana.ogm.models import VertexModel, EdgeModel\n",
    "from invana.ogm.fields import StringProperty, DateTimeProperty, IntegerProperty, FloatProperty, BooleanProperty\n",
    "from invana.ogm import indexes\n",
    "from datetime import datetime\n",
    "\n",
    "\n",
    "class Project(VertexModel):\n",
    "    graph = graph\n",
    "    properties = {\n",
    "        'name': StringProperty(max_length=30, trim_whitespaces=True),\n",
    "        'description': StringProperty(allow_null=True, min_length=5),\n",
    "        'rating': FloatProperty(allow_null=True),\n",
    "        'is_active': BooleanProperty(default=True),\n",
    "        'created_at': DateTimeProperty(default=lambda: datetime.now())\n",
    "    }\n",
    "    indexes = (\n",
    "        indexes.CompositeIndex(\"name\"),\n",
    "        indexes.CompositeIndex(\"created_at\")\n",
    "    )\n",
    "\n",
    "\n",
    "class Person(VertexModel):\n",
    "    graph = graph\n",
    "    properties = {\n",
    "        'first_name': StringProperty(min_length=5, trim_whitespaces=True),\n",
    "        'last_name': StringProperty(allow_null=True),\n",
    "        'username': StringProperty(default=\"rrmerugu\"),\n",
    "        'member_since': IntegerProperty(),\n",
    "\n",
    "    }\n",
    "    indexes = (\n",
    "        indexes.CompositeIndex(\"username\"),\n",
    "    )\n",
    "\n",
    "\n",
    "class Authored(EdgeModel):\n",
    "    graph = graph\n",
    "    properties = {\n",
    "        'created_at': DateTimeProperty(default=lambda: datetime.now()),\n",
    "        'since': IntegerProperty()\n",
    "    }\n",
    "    indexes = (\n",
    "        indexes.CompositeIndex(\"created_at\")\n",
    "    )"
   ]
  },
  {
   "cell_type": "code",
   "execution_count": null,
   "id": "83ea9b6a",
   "metadata": {},
   "outputs": [],
   "source": []
  },
  {
   "cell_type": "markdown",
   "id": "890c3cbd",
   "metadata": {},
   "source": [
    "### 1.3 Installing models on graph"
   ]
  },
  {
   "cell_type": "code",
   "execution_count": null,
   "id": "9075c110",
   "metadata": {},
   "outputs": [
    {
     "name": "stderr",
     "output_type": "stream",
     "text": [
      "[DEBUG:2023-01-23 08:19:11,668:events.log_event:55] - Request 9e4289ee-15db-4bbd-80fb-499c28df125c STARTED with query: mgmt = graph.openManagement()\n",
      "if (mgmt.containsVertexLabel('Project'))\n",
      "    Project = mgmt.getVertexLabel('Project')\n",
      "else \n",
      "    Project = mgmt.makeVertexLabel('Project').make()\n",
      "if (mgmt.containsRelationType('name'))\n",
      "    name = mgmt.getPropertyKey('name')\n",
      "else \n",
      "    name = mgmt.makePropertyKey('name').dataType(String.class).make()\n",
      "if (mgmt.containsRelationType('description'))\n",
      "    description = mgmt.getPropertyKey('description')\n",
      "else \n",
      "    description = mgmt.makePropertyKey('description').dataType(String.class).make()\n",
      "if (mgmt.containsRelationType('rating'))\n",
      "    rating = mgmt.getPropertyKey('rating')\n",
      "else \n",
      "    rating = mgmt.makePropertyKey('rating').dataType(Float.class).make()\n",
      "if (mgmt.containsRelationType('is_active'))\n",
      "    is_active = mgmt.getPropertyKey('is_active')\n",
      "else \n",
      "    is_active = mgmt.makePropertyKey('is_active').dataType(Boolean.class).make()\n",
      "if (mgmt.containsRelationType('created_at'))\n",
      "    created_at = mgmt.getPropertyKey('created_at')\n",
      "else \n",
      "    created_at = mgmt.makePropertyKey('created_at').dataType(Date.class).make()\n",
      "mgmt.addProperties(Project, name, description, rating, is_active, created_at)\n",
      "mgmt.commit();; request_options: {};; at 2023-01-23 08:19:11.668233\n",
      "[ERROR:2023-01-23 08:20:31,685:events.log_event:171] - Request 9e4289ee-15db-4bbd-80fb-499c28df125c CLIENT_CONNECTION_ERROR with error Cannot connect to host megamind.local:8182 ssl:default [Connect call failed ('192.168.0.40', 8182)] at 2023-01-23 08:20:31.685723\n",
      "[ERROR:2023-01-23 08:20:31,689:events.log_event:88] - Request 9e4289ee-15db-4bbd-80fb-499c28df125c FINISHED with status code : None:None at 2023-01-23 08:20:31.689460; elapsed_time -0.000168\n",
      "[DEBUG:2023-01-23 08:20:31,692:events.log_event:55] - Request 9a16ccd3-3eef-4b03-b712-e90d4559b551 STARTED with query: mgmt = graph.openManagement()\n",
      "if (mgmt.containsVertexLabel('Person'))\n",
      "    Person = mgmt.getVertexLabel('Person')\n",
      "else \n",
      "    Person = mgmt.makeVertexLabel('Person').make()\n",
      "if (mgmt.containsRelationType('first_name'))\n",
      "    first_name = mgmt.getPropertyKey('first_name')\n",
      "else \n",
      "    first_name = mgmt.makePropertyKey('first_name').dataType(String.class).make()\n",
      "if (mgmt.containsRelationType('last_name'))\n",
      "    last_name = mgmt.getPropertyKey('last_name')\n",
      "else \n",
      "    last_name = mgmt.makePropertyKey('last_name').dataType(String.class).make()\n",
      "if (mgmt.containsRelationType('username'))\n",
      "    username = mgmt.getPropertyKey('username')\n",
      "else \n",
      "    username = mgmt.makePropertyKey('username').dataType(String.class).make()\n",
      "if (mgmt.containsRelationType('member_since'))\n",
      "    member_since = mgmt.getPropertyKey('member_since')\n",
      "else \n",
      "    member_since = mgmt.makePropertyKey('member_since').dataType(Integer.class).make()\n",
      "mgmt.addProperties(Person, first_name, last_name, username, member_since)\n",
      "mgmt.commit();; request_options: {};; at 2023-01-23 08:20:31.692754\n",
      "[ERROR:2023-01-23 08:20:31,700:base_events.default_exception_handler:1707] - Unclosed client session\n",
      "client_session: <aiohttp.client.ClientSession object at 0x108b6e730>\n",
      "[ERROR:2023-01-23 08:21:51,711:events.log_event:171] - Request 9a16ccd3-3eef-4b03-b712-e90d4559b551 CLIENT_CONNECTION_ERROR with error Cannot connect to host megamind.local:8182 ssl:default [Connect call failed ('192.168.0.40', 8182)] at 2023-01-23 08:21:51.711818\n",
      "[ERROR:2023-01-23 08:21:51,714:events.log_event:88] - Request 9a16ccd3-3eef-4b03-b712-e90d4559b551 FINISHED with status code : None:None at 2023-01-23 08:21:51.714126; elapsed_time -6e-05\n",
      "[DEBUG:2023-01-23 08:21:51,715:events.log_event:55] - Request 20146c8a-00be-47f8-8688-71fb2f396de8 STARTED with query: mgmt = graph.openManagement()\n",
      "if (mgmt.containsEdgeLabel('authored'))\n",
      "    authored = mgmt.getEdgeLabel('authored')\n",
      "else \n",
      "    authored = mgmt.makeEdgeLabel('authored').make()\n",
      "if (mgmt.containsRelationType('created_at'))\n",
      "    created_at = mgmt.getPropertyKey('created_at')\n",
      "else \n",
      "    created_at = mgmt.makePropertyKey('created_at').dataType(Date.class).make()\n",
      "if (mgmt.containsRelationType('since'))\n",
      "    since = mgmt.getPropertyKey('since')\n",
      "else \n",
      "    since = mgmt.makePropertyKey('since').dataType(Integer.class).make()\n",
      "mgmt.addProperties(authored, created_at, since)\n",
      "mgmt.commit();; request_options: {};; at 2023-01-23 08:21:51.715640\n",
      "[ERROR:2023-01-23 08:23:11,731:events.log_event:171] - Request 20146c8a-00be-47f8-8688-71fb2f396de8 CLIENT_CONNECTION_ERROR with error Cannot connect to host megamind.local:8182 ssl:default [Connect call failed ('192.168.0.40', 8182)] at 2023-01-23 08:23:11.731498\n",
      "[ERROR:2023-01-23 08:23:11,733:events.log_event:88] - Request 20146c8a-00be-47f8-8688-71fb2f396de8 FINISHED with status code : None:None at 2023-01-23 08:23:11.733060; elapsed_time -5.2e-05\n",
      "[DEBUG:2023-01-23 08:23:11,733:events.log_event:55] - Request a7b0116a-8985-48ce-a3c8-3bf16c55b89b STARTED with query: \n",
      "size = graph.getOpenTransactions().size()\n",
      "if(size>0) {for(i=0;i<size;i++) {graph.getOpenTransactions().getAt(0).rollback()}}\n",
      "graph.getOpenTransactions()        \n",
      "        ;; request_options: {};; at 2023-01-23 08:23:11.733890\n"
     ]
    },
    {
     "name": "stdout",
     "output_type": "stream",
     "text": [
      "Rolling back open transactions...\n"
     ]
    },
    {
     "name": "stderr",
     "output_type": "stream",
     "text": [
      "[ERROR:2023-01-23 08:24:31,740:events.log_event:171] - Request a7b0116a-8985-48ce-a3c8-3bf16c55b89b CLIENT_CONNECTION_ERROR with error Cannot connect to host megamind.local:8182 ssl:default [Connect call failed ('192.168.0.40', 8182)] at 2023-01-23 08:24:31.740827\n",
      "[ERROR:2023-01-23 08:24:31,751:events.log_event:88] - Request a7b0116a-8985-48ce-a3c8-3bf16c55b89b FINISHED with status code : None:None at 2023-01-23 08:24:31.751194; elapsed_time -7.1e-05\n",
      "[INFO:2023-01-23 08:24:31,758:indexes.create_from_model:13] - Creating index for model - <class '__main__.Project'>\n",
      "[INFO:2023-01-23 08:24:31,759:indexes.create:33] - Creating index -  <Composite (index_name=CompositeIndexByName; label=None; properties=name />\n",
      "[DEBUG:2023-01-23 08:24:31,760:events.log_event:55] - Request 34352e8e-a8b0-4c17-8e95-506ea72882d7 STARTED with query: graph.getOpenTransactions().size();; request_options: {};; at 2023-01-23 08:24:31.760466\n"
     ]
    }
   ],
   "source": [
    "from invana.helpers.helpers import install_models\n",
    "\n",
    "is_install_models = True\n",
    "\n",
    "if is_install_models:\n",
    "    # i_understand_rollback=True will roll back any transactions in pending.\n",
    "    install_models(graph, Project, Person, Authored, i_understand_rollback=True)\n",
    "else:\n",
    "    print(f\"Ignoring models installation because install_models={install_models}\")"
   ]
  },
  {
   "cell_type": "markdown",
   "id": "c997022a",
   "metadata": {},
   "source": [
    "### 1.4 Execute raw query"
   ]
  },
  {
   "cell_type": "code",
   "execution_count": null,
   "id": "d82821bb",
   "metadata": {},
   "outputs": [],
   "source": [
    "graph.execute_query(\"g.V().addV('User').property('name','Ravi')\", timeout=180)\n"
   ]
  },
  {
   "cell_type": "code",
   "execution_count": null,
   "id": "fab5a9f3",
   "metadata": {
    "scrolled": false
   },
   "outputs": [],
   "source": [
    "response = graph.execute_query(\"g.V().limit(1).elementMap().toList()\", timeout=180)\n",
    "print(response)"
   ]
  },
  {
   "cell_type": "code",
   "execution_count": null,
   "id": "557a13b9",
   "metadata": {},
   "outputs": [],
   "source": [
    "print(response.data)"
   ]
  },
  {
   "cell_type": "code",
   "execution_count": null,
   "id": "cbec442d",
   "metadata": {},
   "outputs": [],
   "source": [
    "print([d.to_json() for d in response.data])"
   ]
  },
  {
   "cell_type": "markdown",
   "id": "ecbfd50d",
   "metadata": {},
   "source": [
    "## 2 CRUD Operations on data"
   ]
  },
  {
   "cell_type": "markdown",
   "id": "33edac4e",
   "metadata": {},
   "source": [
    "### 2.1 Nodes"
   ]
  },
  {
   "cell_type": "markdown",
   "id": "de346476",
   "metadata": {},
   "source": [
    "#### 2.1.1 Create Nodes "
   ]
  },
  {
   "cell_type": "code",
   "execution_count": null,
   "id": "351928a9",
   "metadata": {},
   "outputs": [],
   "source": [
    "person_ravi = Person.objects.get_or_create(first_name=\"Ravi Raja\", last_name=\"Merugu\", member_since=2000)\n",
    "person_invana = Person.objects.get_or_create(first_name=\"Ravi Raja\", last_name=\"Merugu\", member_since=2000)\n",
    "\n",
    "\n",
    "project_iengine = Project.objects.create(name=\"invana engine\", rating=5, is_active=True)\n",
    "project_iconnector = Project.objects.create(name=\"invana connectors\", rating=5, is_active=True)\n",
    "project_istudio = Project.objects.create(name=\"invana studio\", rating=5, is_active=True)\n",
    "project_bengine = Project.objects.create(name=\"browser engine\", rating=5, is_active=False)\n",
    "# print(\"Created project_iengine\", project_iengine)\n",
    "# print(\"Created project_iconnector\", project_iconnector)\n",
    "# print(\"Created project_istudio\", project_istudio)\n",
    "# print(\"Created project_bengine\", project_bengine)\n",
    "# print(\"JSON data\", project_iengine.to_json())"
   ]
  },
  {
   "cell_type": "markdown",
   "id": "99c4895e",
   "metadata": {},
   "source": [
    "#### 2.1.2 Read/Search Nodes"
   ]
  },
  {
   "cell_type": "code",
   "execution_count": null,
   "id": "48e21829",
   "metadata": {},
   "outputs": [],
   "source": [
    "# search\n",
    "project_search = Project.objects.search().to_list()\n",
    "\n",
    "\n",
    "## search by ids \n",
    "ids = [p.id for p in project_search] \n",
    "project_search_has__id = Project.objects.search(has__id=project_search[0].id).to_list()\n",
    "project_search_has__id_within = Project.objects.search(has__id__within=ids[:2]).to_list()\n",
    "\n",
    "\n",
    "# search string - eq, neq, startingWith, endingWith, containing, notStartingWith, notEndingWith, notContaining\n",
    "Project.objects.search(has__name=\"invana studio\").to_list()\n",
    "Project.objects.search(has__name__eq=\"invana\").to_list()\n",
    "Project.objects.search(has__name__neq=\"invana\").to_list()\n",
    "Project.objects.search(has__name__startingWith=\"invana\").to_list()\n",
    "Project.objects.search(has__name__endingWith=\"engine\").to_list()\n",
    "Project.objects.search(has__name__containing=\"eng\").to_list()\n",
    "Project.objects.search(has__name__notStartingWith=\"invana\").to_list()\n",
    "Project.objects.search(has__name__notEndingWith=\"engine\").to_list()\n",
    "Project.objects.search(has__name__notContaining=\"ravi\").to_list()\n",
    "\n",
    "\n",
    "# search int- lt, gt, lte, gte, inside, outside, between\n",
    "Person.objects.search(has__member_since__lte=3000).to_list()\n",
    "Person.objects.search(has__member_since__lt=3000).to_list()\n",
    "Person.objects.search(has__member_since__gte=1999).to_list()\n",
    "Person.objects.search(has__member_since__gt=1999).to_list()\n",
    "inside_query = Person.objects.search(has__member_since__inside=(1000, 3000)).to_list()\n",
    "outside_quuery = Person.objects.search(has__member_since__outside=(1000, 2005)).to_list()\n",
    "between_query = Person.objects.search(has__member_since__between=(1000, 3000)).to_list()\n",
    "\n"
   ]
  },
  {
   "cell_type": "code",
   "execution_count": null,
   "id": "a4c13bac",
   "metadata": {
    "scrolled": true
   },
   "outputs": [],
   "source": [
    "# order by \n",
    "Project.objects.search().order_by('name').to_list()  # asc order\n",
    "# Project.objects.search().order_by('-name').to_list()  # desc order <--- this is not working "
   ]
  },
  {
   "cell_type": "code",
   "execution_count": null,
   "id": "e1d536d5",
   "metadata": {},
   "outputs": [],
   "source": [
    "# using range for pagination\n",
    "Project.objects.search().order_by('name').range(1, 3).to_list()"
   ]
  },
  {
   "cell_type": "code",
   "execution_count": null,
   "id": "25218d37",
   "metadata": {},
   "outputs": [],
   "source": [
    "from invana.gremlin.paginator import GremlinQuerySetPaginator\n",
    "import math \n",
    "\n",
    "page_size = 5\n",
    "total_count = Project.objects.search().count()\n",
    "total_pages = math.ceil(total_count/page_size)\n",
    "print(\"total projects count\", total_count)\n",
    "print(\"page_size\", page_size)\n",
    "print(\"total_pages\", total_pages)\n",
    "\n",
    "# create queryset and paginator \n",
    "queryset = Project.objects.search().order_by(\"-name\")\n",
    "paginator = GremlinQuerySetPaginator(queryset, page_size)\n",
    "\n",
    "# run paginator queries\n",
    "for page_no in range(1, total_pages+1):\n",
    "    qs = paginator.page(page_no)\n",
    "    result = qs.to_list()\n",
    "    print(f\"===== Page {page_no} =====\", result)"
   ]
  },
  {
   "cell_type": "markdown",
   "id": "8d4dc630",
   "metadata": {},
   "source": [
    "##### 2.1.3 Update Nodes"
   ]
  },
  {
   "cell_type": "code",
   "execution_count": null,
   "id": "d6b8c21e",
   "metadata": {
    "scrolled": false
   },
   "outputs": [],
   "source": [
    "Project.objects.search(has__name=\"invana studio\").update(name=\"Invana Studio\")"
   ]
  },
  {
   "cell_type": "markdown",
   "id": "ddc05378",
   "metadata": {},
   "source": [
    "##### 2.1.4 Delete Nodes "
   ]
  },
  {
   "cell_type": "code",
   "execution_count": null,
   "id": "4e2de329",
   "metadata": {},
   "outputs": [],
   "source": [
    "Project.objects.delete(has__name__startingWith=\"browser\") # kwargs are same as in search \n",
    "Project.objects.search().to_list()"
   ]
  },
  {
   "cell_type": "markdown",
   "id": "d7350acc",
   "metadata": {},
   "source": [
    "##### 2.1.1.5 get_or_create"
   ]
  },
  {
   "cell_type": "code",
   "execution_count": null,
   "id": "cc4eb320",
   "metadata": {
    "scrolled": true
   },
   "outputs": [],
   "source": [
    "person = Person.objects.get_or_create(first_name=\"Ravi Raja\", last_name=\"Merugu\", member_since=2000)\n",
    "print(person)\n",
    "person = Person.objects.get_or_create(first_name=\"Invana\", last_name=\"Technologies\", member_since=2016)\n",
    "print(person)"
   ]
  },
  {
   "cell_type": "markdown",
   "id": "6f66f088",
   "metadata": {},
   "source": [
    "##### 2.1.1.6 get_or_none"
   ]
  },
  {
   "cell_type": "code",
   "execution_count": null,
   "id": "8e0c6e12",
   "metadata": {},
   "outputs": [],
   "source": [
    "Person.objects.get_or_none(first_name=\"Ravi Raja\", last_name=\"Merugu\", member_since=2000)"
   ]
  },
  {
   "cell_type": "markdown",
   "id": "91268d06",
   "metadata": {},
   "source": [
    "### 2.2 Relationships"
   ]
  },
  {
   "cell_type": "markdown",
   "id": "09aa3826",
   "metadata": {},
   "source": [
    "#### 2.2.1 Create Relationship"
   ]
  },
  {
   "cell_type": "code",
   "execution_count": null,
   "id": "78e7cdf8",
   "metadata": {},
   "outputs": [],
   "source": [
    "person = Person.objects.create(first_name=\"Ravi Raja\", last_name=\"Merugu\", member_since=2000)\n",
    "project_iengine = Project.objects.create(name=\"invana engine\", rating=5, is_active=True)\n",
    "project_iconnector = Project.objects.create(name=\"invana connectors\", rating=5, is_active=True)\n",
    "\n",
    "authored_data = Authored.objects.create(person.id, project_iengine.id, since=2010)\n",
    "authored_data2 = Authored.objects.create(person.id, project_iconnector.id, since=2020)"
   ]
  },
  {
   "cell_type": "markdown",
   "id": "bd899ab0",
   "metadata": {},
   "source": [
    "#### 2.2.2 Read/Search Relationship"
   ]
  },
  {
   "cell_type": "code",
   "execution_count": null,
   "id": "cda160e8",
   "metadata": {},
   "outputs": [],
   "source": [
    "Authored.objects.search().to_list()\n",
    "# [d.to_json() for d in data]"
   ]
  },
  {
   "cell_type": "code",
   "execution_count": null,
   "id": "b1bc5cb4",
   "metadata": {
    "scrolled": true
   },
   "outputs": [],
   "source": [
    "Authored.objects.search(has__since__lt=2020).to_list() # refer search_kwargs from Node search section(2.1.2)"
   ]
  },
  {
   "cell_type": "markdown",
   "id": "b09f35a8",
   "metadata": {},
   "source": [
    "#### 2.2.3 Update Relationship"
   ]
  },
  {
   "cell_type": "code",
   "execution_count": null,
   "id": "42cf4427",
   "metadata": {},
   "outputs": [],
   "source": [
    "Authored.objects.search(has__since__lt=2020).update(since=2050)"
   ]
  },
  {
   "cell_type": "markdown",
   "id": "f16f652c",
   "metadata": {},
   "source": [
    "#### 2.2.4 Delete Relationship\n"
   ]
  },
  {
   "cell_type": "code",
   "execution_count": null,
   "id": "14fb8d84",
   "metadata": {},
   "outputs": [],
   "source": [
    "Authored.objects.delete()"
   ]
  }
 ],
 "metadata": {
  "kernelspec": {
   "display_name": "Python 3 (ipykernel)",
   "language": "python",
   "name": "python3"
  },
  "language_info": {
   "codemirror_mode": {
    "name": "ipython",
    "version": 3
   },
   "file_extension": ".py",
   "mimetype": "text/x-python",
   "name": "python",
   "nbconvert_exporter": "python",
   "pygments_lexer": "ipython3",
   "version": "3.8.16"
  }
 },
 "nbformat": 4,
 "nbformat_minor": 5
}
