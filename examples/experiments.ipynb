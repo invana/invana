{
 "cells": [
  {
   "cell_type": "code",
   "execution_count": 4,
   "id": "576bf161",
   "metadata": {},
   "outputs": [],
   "source": [
    "# for stable version \n",
    "# pip install invana\n",
    "\n",
    "# for installation specific branch\n",
    "#pip install git+https://github.com/invana/invana@refactor/invana-connectors#egg=invana\n",
    "\n",
    "# for latest code \n",
    "import sys\n",
    "sys.path.append(\"../\")"
   ]
  },
  {
   "cell_type": "code",
   "execution_count": null,
   "id": "5c081fac",
   "metadata": {},
   "outputs": [],
   "source": []
  },
  {
   "cell_type": "code",
   "execution_count": 5,
   "id": "e388f8c1",
   "metadata": {},
   "outputs": [
    {
     "name": "stderr",
     "output_type": "stream",
     "text": [
      "[DEBUG:2023-01-24 02:45:07,400:connector.update_connection_state:61] - GraphConnector state updated to : CONNECTING\n",
      "[DEBUG:2023-01-24 02:45:07,401:connector._init_connection:99] - create driver connection  \n",
      "[DEBUG:2023-01-24 02:45:08,406:connector.update_connection_state:61] - GraphConnector state updated to : CONNECTED\n"
     ]
    }
   ],
   "source": [
    "from invana import InvanaGraph\n",
    "\n",
    "gremlin_server_url = \"ws://megamind.local:8182/gremlin\"\n",
    "\n",
    "graph = InvanaGraph(gremlin_server_url)"
   ]
  },
  {
   "cell_type": "code",
   "execution_count": null,
   "id": "0afda314",
   "metadata": {},
   "outputs": [],
   "source": []
  },
  {
   "cell_type": "code",
   "execution_count": 11,
   "id": "bc438f23",
   "metadata": {},
   "outputs": [
    {
     "data": {
      "text/plain": [
       "[{'has_planet': 1, 'has_neighbor_planet': 2, 'has_satellite': 1}]"
      ]
     },
     "execution_count": 11,
     "metadata": {},
     "output_type": "execute_result"
    }
   ],
   "source": [
    "from gremlin_python.process.graph_traversal import __\n",
    "\n",
    "\n",
    "graph.connector.vertex.search(has__id=8248).get_traversal() \\\n",
    ".bothE() \\\n",
    ".groupCount().by(__.label()).toList()"
   ]
  },
  {
   "cell_type": "code",
   "execution_count": 8,
   "id": "fc579737",
   "metadata": {},
   "outputs": [
    {
     "data": {
      "text/plain": [
       "['has_planet', 'has_neighbor_planet']"
      ]
     },
     "execution_count": 8,
     "metadata": {},
     "output_type": "execute_result"
    }
   ],
   "source": [
    "graph.connector.vertex.ine_labels_by_id(8248)"
   ]
  },
  {
   "cell_type": "code",
   "execution_count": 9,
   "id": "900a283e",
   "metadata": {
    "scrolled": true
   },
   "outputs": [
    {
     "data": {
      "text/plain": [
       "['has_satellite', 'has_neighbor_planet']"
      ]
     },
     "execution_count": 9,
     "metadata": {},
     "output_type": "execute_result"
    }
   ],
   "source": [
    "graph.connector.vertex.oute_labels_by_id(8248)"
   ]
  },
  {
   "cell_type": "code",
   "execution_count": 10,
   "id": "0ced3f57",
   "metadata": {},
   "outputs": [
    {
     "data": {
      "text/plain": [
       "[{'has_planet': 1, 'has_neighbor_planet': 2, 'has_satellite': 1}]"
      ]
     },
     "execution_count": 10,
     "metadata": {},
     "output_type": "execute_result"
    }
   ],
   "source": [
    "graph.connector.vertex.bothe_label_stats_by_id(8248)"
   ]
  },
  {
   "cell_type": "code",
   "execution_count": 18,
   "id": "e3a5d7f8",
   "metadata": {},
   "outputs": [
    {
     "data": {
      "text/plain": [
       "[<RelationShip:has_satellite id=\"747-6d4-qvp-39s\" 8248:Planet -> has_satellite -> 4240:Satellite >,\n",
       " <RelationShip:has_planet id=\"odzpq-oe06o-sgl-6d4\" 40964208:Star -> has_planet -> 8248:Planet >,\n",
       " <RelationShip:has_neighbor_planet id=\"7if-6d4-t91-6g8\" 8248:Planet -> has_neighbor_planet -> 8360:Planet >,\n",
       " <RelationShip:has_neighbor_planet id=\"5jp-6g8-t91-6d4\" 8360:Planet -> has_neighbor_planet -> 8248:Planet >]"
      ]
     },
     "execution_count": 18,
     "metadata": {},
     "output_type": "execute_result"
    }
   ],
   "source": [
    "graph.connector.vertex.search(has__id=node_id).get_traversal().bothE().toList()\n"
   ]
  },
  {
   "cell_type": "code",
   "execution_count": 17,
   "id": "4ed851f1",
   "metadata": {
    "scrolled": true
   },
   "outputs": [
    {
     "data": {
      "text/plain": [
       "[<RelationShip:has_planet id=\"odzpq-oe06o-sgl-6d4\" 40964208:Star -> has_planet -> 8248:Planet >]"
      ]
     },
     "execution_count": 17,
     "metadata": {},
     "output_type": "execute_result"
    }
   ],
   "source": [
    "\n",
    "node_id=8248\n",
    "edge_label = \"has_planet\"\n",
    "graph.connector.vertex.search(has__id=node_id).get_traversal().bothE(edge_label).toList()\n"
   ]
  },
  {
   "cell_type": "code",
   "execution_count": null,
   "id": "fdaa072d",
   "metadata": {},
   "outputs": [],
   "source": [
    "p = Person.object.create(username=\"rrmerugu\")\n",
    "django = Skill.objects.create()"
   ]
  }
 ],
 "metadata": {
  "kernelspec": {
   "display_name": "Python 3 (ipykernel)",
   "language": "python",
   "name": "python3"
  },
  "language_info": {
   "codemirror_mode": {
    "name": "ipython",
    "version": 3
   },
   "file_extension": ".py",
   "mimetype": "text/x-python",
   "name": "python",
   "nbconvert_exporter": "python",
   "pygments_lexer": "ipython3",
   "version": "3.8.16"
  }
 },
 "nbformat": 4,
 "nbformat_minor": 5
}
