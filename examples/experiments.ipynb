{
 "cells": [
  {
   "cell_type": "code",
   "execution_count": 29,
   "id": "576bf161",
   "metadata": {},
   "outputs": [],
   "source": [
    "# for stable version \n",
    "# pip install invana\n",
    "\n",
    "# for installation specific branch\n",
    "#pip install git+https://github.com/invana/invana@refactor/invana-connectors#egg=invana\n",
    "\n",
    "# for latest code \n",
    "import sys\n",
    "sys.path.append(\"../\")"
   ]
  },
  {
   "cell_type": "code",
   "execution_count": 30,
   "id": "e388f8c1",
   "metadata": {},
   "outputs": [
    {
     "name": "stderr",
     "output_type": "stream",
     "text": [
      "[DEBUG:2023-01-24 02:43:53,887:connector.update_connection_state:61] - GraphConnector state updated to : CONNECTING\n",
      "[DEBUG:2023-01-24 02:43:53,888:connector._init_connection:99] - create driver connection  \n",
      "[DEBUG:2023-01-24 02:43:54,894:connector.update_connection_state:61] - GraphConnector state updated to : CONNECTED\n"
     ]
    }
   ],
   "source": [
    "from invana import InvanaGraph\n",
    "\n",
    "gremlin_server_url = \"ws://megamind.local:8182/gremlin\"\n",
    "\n",
    "graph = InvanaGraph(gremlin_server_url)"
   ]
  },
  {
   "cell_type": "code",
   "execution_count": 31,
   "id": "bc438f23",
   "metadata": {},
   "outputs": [
    {
     "data": {
      "text/plain": [
       "[{'has_planet': 1, 'has_neighbor_planet': 2, 'has_satellite': 1}]"
      ]
     },
     "execution_count": 31,
     "metadata": {},
     "output_type": "execute_result"
    }
   ],
   "source": [
    "from gremlin_python.process.graph_traversal import __\n",
    "\n",
    "\n",
    "graph.connector.vertex.search(has__id=8248).get_traversal() \\\n",
    ".bothE() \\\n",
    ".groupCount().by(__.label()).toList()"
   ]
  },
  {
   "cell_type": "code",
   "execution_count": 38,
   "id": "fc579737",
   "metadata": {},
   "outputs": [],
   "source": [
    "# graph.connector.vertex.ine_labels_by_id(8248)"
   ]
  },
  {
   "cell_type": "code",
   "execution_count": null,
   "id": "4ed851f1",
   "metadata": {},
   "outputs": [],
   "source": []
  },
  {
   "cell_type": "code",
   "execution_count": 35,
   "id": "900a283e",
   "metadata": {
    "scrolled": true
   },
   "outputs": [],
   "source": [
    "# graph.connector.vertex.oute_labels_by_id(8248)"
   ]
  },
  {
   "cell_type": "code",
   "execution_count": 36,
   "id": "0ced3f57",
   "metadata": {},
   "outputs": [
    {
     "ename": "AttributeError",
     "evalue": "'GremlinVertexQuerySet' object has no attribute 'bothe_label_stats_by_id'",
     "output_type": "error",
     "traceback": [
      "\u001b[0;31m---------------------------------------------------------------------------\u001b[0m",
      "\u001b[0;31mAttributeError\u001b[0m                            Traceback (most recent call last)",
      "Cell \u001b[0;32mIn[36], line 1\u001b[0m\n\u001b[0;32m----> 1\u001b[0m \u001b[43mgraph\u001b[49m\u001b[38;5;241;43m.\u001b[39;49m\u001b[43mconnector\u001b[49m\u001b[38;5;241;43m.\u001b[39;49m\u001b[43mvertex\u001b[49m\u001b[38;5;241;43m.\u001b[39;49m\u001b[43mbothe_label_stats_by_id\u001b[49m(\u001b[38;5;241m8248\u001b[39m)\n",
      "\u001b[0;31mAttributeError\u001b[0m: 'GremlinVertexQuerySet' object has no attribute 'bothe_label_stats_by_id'"
     ]
    }
   ],
   "source": [
    "graph.connector.vertex.bothe_label_stats_by_id(8248)"
   ]
  }
 ],
 "metadata": {
  "kernelspec": {
   "display_name": "Python 3 (ipykernel)",
   "language": "python",
   "name": "python3"
  },
  "language_info": {
   "codemirror_mode": {
    "name": "ipython",
    "version": 3
   },
   "file_extension": ".py",
   "mimetype": "text/x-python",
   "name": "python",
   "nbconvert_exporter": "python",
   "pygments_lexer": "ipython3",
   "version": "3.8.16"
  }
 },
 "nbformat": 4,
 "nbformat_minor": 5
}
