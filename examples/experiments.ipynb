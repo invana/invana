{
 "cells": [
  {
   "cell_type": "code",
   "execution_count": 19,
   "id": "576bf161",
   "metadata": {},
   "outputs": [],
   "source": [
    "# for stable version \n",
    "# pip install invana\n",
    "\n",
    "# for installation specific branch\n",
    "#pip install git+https://github.com/invana/invana@refactor/invana-connectors#egg=invana\n",
    "\n",
    "# for latest code \n",
    "import sys\n",
    "sys.path.append(\"../\")"
   ]
  },
  {
   "cell_type": "code",
   "execution_count": null,
   "id": "5c081fac",
   "metadata": {},
   "outputs": [],
   "source": []
  },
  {
   "cell_type": "code",
   "execution_count": 20,
   "id": "e388f8c1",
   "metadata": {},
   "outputs": [
    {
     "name": "stderr",
     "output_type": "stream",
     "text": [
      "[DEBUG:2023-03-06 12:44:48,662:connector.update_connection_state:61] - GraphConnector state updated to : CONNECTING\n",
      "[DEBUG:2023-03-06 12:44:48,663:connector._init_connection:99] - create driver connection  \n",
      "[DEBUG:2023-03-06 12:44:49,669:connector.update_connection_state:61] - GraphConnector state updated to : CONNECTED\n"
     ]
    }
   ],
   "source": [
    "from invana import InvanaGraph\n",
    "\n",
    "gremlin_server_url = \"ws://megamind.local:8182/gremlin\"\n",
    "graph = InvanaGraph(gremlin_server_url)"
   ]
  },
  {
   "cell_type": "code",
   "execution_count": 21,
   "id": "0afda314",
   "metadata": {},
   "outputs": [
    {
     "data": {
      "text/plain": [
       "[]"
      ]
     },
     "execution_count": 21,
     "metadata": {},
     "output_type": "execute_result"
    }
   ],
   "source": [
    "graph.connector.vertex.search().to_list()"
   ]
  },
  {
   "cell_type": "code",
   "execution_count": 22,
   "id": "bc438f23",
   "metadata": {},
   "outputs": [
    {
     "data": {
      "text/plain": [
       "[{}]"
      ]
     },
     "execution_count": 22,
     "metadata": {},
     "output_type": "execute_result"
    }
   ],
   "source": [
    "from gremlin_python.process.graph_traversal import __\n",
    "\n",
    "\n",
    "graph.connector.vertex.search(has__id=8248).get_traversal() \\\n",
    ".bothE() \\\n",
    ".groupCount().by(__.label()).toList()"
   ]
  },
  {
   "cell_type": "code",
   "execution_count": 23,
   "id": "fc579737",
   "metadata": {},
   "outputs": [
    {
     "data": {
      "text/plain": [
       "[]"
      ]
     },
     "execution_count": 23,
     "metadata": {},
     "output_type": "execute_result"
    }
   ],
   "source": [
    "graph.connector.vertex.ine_labels_by_id(8248)"
   ]
  },
  {
   "cell_type": "code",
   "execution_count": 24,
   "id": "900a283e",
   "metadata": {
    "scrolled": true
   },
   "outputs": [
    {
     "data": {
      "text/plain": [
       "[]"
      ]
     },
     "execution_count": 24,
     "metadata": {},
     "output_type": "execute_result"
    }
   ],
   "source": [
    "graph.connector.vertex.oute_labels_by_id(8248)"
   ]
  },
  {
   "cell_type": "code",
   "execution_count": 25,
   "id": "0ced3f57",
   "metadata": {},
   "outputs": [
    {
     "data": {
      "text/plain": [
       "[{}]"
      ]
     },
     "execution_count": 25,
     "metadata": {},
     "output_type": "execute_result"
    }
   ],
   "source": [
    "graph.connector.vertex.bothe_label_stats_by_id(8248)"
   ]
  },
  {
   "cell_type": "code",
   "execution_count": 26,
   "id": "e3a5d7f8",
   "metadata": {},
   "outputs": [
    {
     "ename": "NameError",
     "evalue": "name 'node_id' is not defined",
     "output_type": "error",
     "traceback": [
      "\u001b[0;31m---------------------------------------------------------------------------\u001b[0m",
      "\u001b[0;31mNameError\u001b[0m                                 Traceback (most recent call last)",
      "Cell \u001b[0;32mIn[26], line 1\u001b[0m\n\u001b[0;32m----> 1\u001b[0m graph\u001b[38;5;241m.\u001b[39mconnector\u001b[38;5;241m.\u001b[39mvertex\u001b[38;5;241m.\u001b[39msearch(has__id\u001b[38;5;241m=\u001b[39m\u001b[43mnode_id\u001b[49m)\u001b[38;5;241m.\u001b[39mget_traversal()\u001b[38;5;241m.\u001b[39mbothE()\u001b[38;5;241m.\u001b[39mtoList()\n",
      "\u001b[0;31mNameError\u001b[0m: name 'node_id' is not defined"
     ]
    }
   ],
   "source": [
    "graph.connector.vertex.search(has__id=node_id).get_traversal().bothE().toList()\n"
   ]
  },
  {
   "cell_type": "code",
   "execution_count": null,
   "id": "4ed851f1",
   "metadata": {
    "scrolled": true
   },
   "outputs": [],
   "source": [
    "\n",
    "node_id=8248\n",
    "edge_label = \"has_planet\"\n",
    "graph.connector.vertex.search(has__id=node_id).get_traversal().bothE(edge_label).toList()\n"
   ]
  },
  {
   "cell_type": "code",
   "execution_count": null,
   "id": "fdaa072d",
   "metadata": {},
   "outputs": [],
   "source": [
    "p = Person.object.create(username=\"rrmerugu\")\n",
    "django = Skill.objects.create()"
   ]
  }
 ],
 "metadata": {
  "kernelspec": {
   "display_name": "Python 3 (ipykernel)",
   "language": "python",
   "name": "python3"
  },
  "language_info": {
   "codemirror_mode": {
    "name": "ipython",
    "version": 3
   },
   "file_extension": ".py",
   "mimetype": "text/x-python",
   "name": "python",
   "nbconvert_exporter": "python",
   "pygments_lexer": "ipython3",
   "version": "3.8.16"
  }
 },
 "nbformat": 4,
 "nbformat_minor": 5
}
