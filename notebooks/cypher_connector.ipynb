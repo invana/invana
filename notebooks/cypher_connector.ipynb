{
 "cells": [
  {
   "cell_type": "code",
   "execution_count": 24,
   "id": "f6463e71",
   "metadata": {},
   "outputs": [],
   "source": [
    "# for installation specific branch\n",
    "#pip install git+https://github.com/invana/invana@refactor/invana-connectors2#egg=invana_connectors\n",
    "import sys\n",
    "sys.path.append(\"../\")"
   ]
  },
  {
   "cell_type": "code",
   "execution_count": 25,
   "id": "fca14f62",
   "metadata": {},
   "outputs": [],
   "source": [
    "from invana_connectors.backends import Neo4jBackend\n",
    "\n",
    "graph_backend = Neo4jBackend(\"neo4j://localhost:7687\", auth=(\"neo4j\", \"test\"))"
   ]
  },
  {
   "cell_type": "code",
   "execution_count": 26,
   "id": "8698a049",
   "metadata": {},
   "outputs": [
    {
     "name": "stderr",
     "output_type": "stream",
     "text": [
      "/Users/ravi.merugu/Projects/invana/invana-connectors/notebooks/../invana_connectors/cypher/connector.py:47: ExperimentalWarning: Driver.execute_query is experimental. It might be changed or removed any time even without prior notice.\n",
      "  records, summary, keys = self.driver.execute_query(query,\n"
     ]
    },
    {
     "ename": "ValueError",
     "evalue": "too many values to unpack (expected 3)",
     "output_type": "error",
     "traceback": [
      "\u001b[0;31m---------------------------------------------------------------------------\u001b[0m",
      "\u001b[0;31mValueError\u001b[0m                                Traceback (most recent call last)",
      "Cell \u001b[0;32mIn[26], line 1\u001b[0m\n\u001b[0;32m----> 1\u001b[0m records, summary, keys \u001b[38;5;241m=\u001b[39m graph_backend\u001b[38;5;241m.\u001b[39mexecute_query(\u001b[38;5;124m\"\u001b[39m\u001b[38;5;124mMATCH (p:ADEPTJob) RETURN p\u001b[39m\u001b[38;5;124m\"\u001b[39m)\n\u001b[1;32m      2\u001b[0m \u001b[38;5;28mprint\u001b[39m(records)\n\u001b[1;32m      3\u001b[0m \u001b[38;5;28mprint\u001b[39m(summary)\n",
      "\u001b[0;31mValueError\u001b[0m: too many values to unpack (expected 3)"
     ]
    }
   ],
   "source": [
    "records  = graph_backend.execute_query(\"MATCH (p:ADEPTJob) RETURN p\")\n",
    "print(records)\n",
    " \n",
    "# print(result.data)"
   ]
  },
  {
   "cell_type": "code",
   "execution_count": null,
   "id": "a80f0a53",
   "metadata": {},
   "outputs": [],
   "source": [
    "# from neo4j import GraphDatabase\n",
    "# import neo4j\n",
    "\n",
    "\n",
    "# uri = \"neo4j://localhost:7687\"\n",
    "# with GraphDatabase.driver(uri, auth=(\"neo4j\", \"test\")) as driver:\n",
    "#     records, summary, keys = driver.execute_query(\n",
    "#         \"MATCH (p:ADEPTJob) RETURN p.name\",{},\n",
    "#         routing_=neo4j.RoutingControl.READERS,  # or just \"r\"\n",
    "#         database_=\"neo4j\",\n",
    "#     )\n",
    "#     print(\"records\", records)"
   ]
  },
  {
   "cell_type": "code",
   "execution_count": null,
   "id": "d0b93ed2",
   "metadata": {},
   "outputs": [],
   "source": []
  }
 ],
 "metadata": {
  "kernelspec": {
   "display_name": "Python 3 (ipykernel)",
   "language": "python",
   "name": "python3"
  },
  "language_info": {
   "codemirror_mode": {
    "name": "ipython",
    "version": 3
   },
   "file_extension": ".py",
   "mimetype": "text/x-python",
   "name": "python",
   "nbconvert_exporter": "python",
   "pygments_lexer": "ipython3",
   "version": "3.8.16"
  }
 },
 "nbformat": 4,
 "nbformat_minor": 5
}
