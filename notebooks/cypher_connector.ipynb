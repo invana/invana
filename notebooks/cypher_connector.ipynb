{
 "cells": [
  {
   "cell_type": "code",
   "execution_count": 1,
   "id": "3e8b4738",
   "metadata": {},
   "outputs": [],
   "source": [
    "# for installation specific branch\n",
    "#pip install git+https://github.com/invana/invana@refactor/invana-connectors2#egg=invana_connectors\n",
    "import sys\n",
    "sys.path.append(\"../\")"
   ]
  },
  {
   "cell_type": "code",
   "execution_count": 2,
   "id": "5eb1001b",
   "metadata": {},
   "outputs": [],
   "source": [
    "from invana_connectors.backends import Neo4jBackend\n",
    "graph_backend = Neo4jBackend(\"neo4j://localhost:7687\", auth=(\"neo4j\", \"test\"))"
   ]
  },
  {
   "cell_type": "code",
   "execution_count": 3,
   "id": "36a816af",
   "metadata": {
    "scrolled": true
   },
   "outputs": [
    {
     "name": "stdout",
     "output_type": "stream",
     "text": [
      "[<Node:ADEPTJob::1387 project_id=3 job_id=124 name=124 >, <Node:Project::38 project_type=cost_assessment project_id=3 name=oracle to postgres >, <RelationShip:has_job::1396 (Project::38) -> has_job -> (ADEPTJob::1387) >, <Node:ADEPTJob::1186 project_id=3 job_id=123 name=123 >, <Node:Project::38 project_type=cost_assessment project_id=3 name=oracle to postgres >, <RelationShip:has_job::1192 (Project::38) -> has_job -> (ADEPTJob::1186) >, <Node:ADEPTJob::1086 project_id=3 job_id=122 name=122 >, <Node:Project::38 project_type=cost_assessment project_id=3 name=oracle to postgres >, <RelationShip:has_job::1092 (Project::38) -> has_job -> (ADEPTJob::1086) >, <Node:ADEPTJob::986 project_id=3 job_id=121 name=121 >, <Node:Project::38 project_type=cost_assessment project_id=3 name=oracle to postgres >, <RelationShip:has_job::992 (Project::38) -> has_job -> (ADEPTJob::986) >, <Node:ADEPTJob::935 project_id=3 job_id=120 name=120 >, <Node:Project::38 project_type=cost_assessment project_id=3 name=oracle to postgres >, <RelationShip:has_job::940 (Project::38) -> has_job -> (ADEPTJob::935) >]\n"
     ]
    }
   ],
   "source": [
    "records  = graph_backend.execute_query(\"match (n:ADEPTJob)<-[r:has_job]-(p:Project) return n, p,r  limit 5\")\n",
    "print(records.data) "
   ]
  },
  {
   "cell_type": "code",
   "execution_count": 4,
   "id": "c36cc466",
   "metadata": {},
   "outputs": [
    {
     "name": "stdout",
     "output_type": "stream",
     "text": [
      "[83, 378, 429, 480, 531]\n"
     ]
    }
   ],
   "source": [
    "records  = graph_backend.execute_query(\"match (n:ADEPTJob) return ID(n)  limit 5\")\n",
    "print(records.data) "
   ]
  },
  {
   "cell_type": "markdown",
   "id": "8d3c005a",
   "metadata": {},
   "source": [
    "## Create"
   ]
  },
  {
   "cell_type": "code",
   "execution_count": 5,
   "id": "8ccf66d3",
   "metadata": {},
   "outputs": [
    {
     "data": {
      "text/plain": [
       "<Node:Person::1443 name=Ravi >"
      ]
     },
     "execution_count": 5,
     "metadata": {},
     "output_type": "execute_result"
    }
   ],
   "source": [
    "graph_backend.nodes.create(\"Person\", name = \"Ravi\")"
   ]
  },
  {
   "cell_type": "code",
   "execution_count": 7,
   "id": "3947999f",
   "metadata": {},
   "outputs": [
    {
     "ename": "ValueError",
     "evalue": "No such property name on Person",
     "output_type": "error",
     "traceback": [
      "\u001b[0;31m---------------------------------------------------------------------------\u001b[0m",
      "\u001b[0;31mValueError\u001b[0m                                Traceback (most recent call last)",
      "Cell \u001b[0;32mIn[7], line 1\u001b[0m\n\u001b[0;32m----> 1\u001b[0m \u001b[43mgraph_backend\u001b[49m\u001b[38;5;241;43m.\u001b[39;49m\u001b[43mnodes\u001b[49m\u001b[38;5;241;43m.\u001b[39;49m\u001b[43mget_or_create\u001b[49m\u001b[43m(\u001b[49m\u001b[38;5;124;43m\"\u001b[39;49m\u001b[38;5;124;43mPerson\u001b[39;49m\u001b[38;5;124;43m\"\u001b[39;49m\u001b[43m,\u001b[49m\u001b[43m \u001b[49m\u001b[43mname\u001b[49m\u001b[43m \u001b[49m\u001b[38;5;241;43m=\u001b[39;49m\u001b[43m \u001b[49m\u001b[38;5;124;43m\"\u001b[39;49m\u001b[38;5;124;43mRavi2\u001b[39;49m\u001b[38;5;124;43m\"\u001b[39;49m\u001b[43m)\u001b[49m\n",
      "File \u001b[0;32m~/Projects/invana/invana-connectors/notebooks/../invana_connectors/cypher/decorators.py:6\u001b[0m, in \u001b[0;36mserialize_neomodel_to_invana_objects.<locals>.inner1\u001b[0;34m(*args, **kwargs)\u001b[0m\n\u001b[1;32m      4\u001b[0m \u001b[38;5;28;01mdef\u001b[39;00m \u001b[38;5;21minner1\u001b[39m(\u001b[38;5;241m*\u001b[39margs, \u001b[38;5;241m*\u001b[39m\u001b[38;5;241m*\u001b[39mkwargs):\n\u001b[1;32m      5\u001b[0m     \u001b[38;5;66;03m# getting the returned value\u001b[39;00m\n\u001b[0;32m----> 6\u001b[0m     returned_value \u001b[38;5;241m=\u001b[39m \u001b[43mfunc\u001b[49m\u001b[43m(\u001b[49m\u001b[38;5;241;43m*\u001b[39;49m\u001b[43margs\u001b[49m\u001b[43m,\u001b[49m\u001b[43m \u001b[49m\u001b[38;5;241;43m*\u001b[39;49m\u001b[38;5;241;43m*\u001b[39;49m\u001b[43mkwargs\u001b[49m\u001b[43m)\u001b[49m\n\u001b[1;32m      7\u001b[0m     \u001b[38;5;66;03m# returning the value to the original frame\u001b[39;00m\n\u001b[1;32m      8\u001b[0m     \u001b[38;5;28;01mreturn\u001b[39;00m convert_neomodel_response_to_invana_objects(returned_value)\n",
      "File \u001b[0;32m~/Projects/invana/invana-connectors/notebooks/../invana_connectors/cypher/querysets/nodes.py:24\u001b[0m, in \u001b[0;36mNodeCypherQuerySet.get_or_create\u001b[0;34m(self, label, **properties)\u001b[0m\n\u001b[1;32m     21\u001b[0m \u001b[38;5;129m@serialize_neomodel_to_invana_objects\u001b[39m\n\u001b[1;32m     22\u001b[0m \u001b[38;5;28;01mdef\u001b[39;00m \u001b[38;5;21mget_or_create\u001b[39m(\u001b[38;5;28mself\u001b[39m, label, \u001b[38;5;241m*\u001b[39m\u001b[38;5;241m*\u001b[39mproperties):\n\u001b[1;32m     23\u001b[0m     label_cls \u001b[38;5;241m=\u001b[39m get_or_create_class(label)\n\u001b[0;32m---> 24\u001b[0m     node \u001b[38;5;241m=\u001b[39m \u001b[43mlabel_cls\u001b[49m\u001b[38;5;241;43m.\u001b[39;49m\u001b[43mnodes\u001b[49m\u001b[38;5;241;43m.\u001b[39;49m\u001b[43mget_or_none\u001b[49m\u001b[43m(\u001b[49m\u001b[38;5;241;43m*\u001b[39;49m\u001b[38;5;241;43m*\u001b[39;49m\u001b[43mproperties\u001b[49m\u001b[43m)\u001b[49m\n\u001b[1;32m     25\u001b[0m     \u001b[38;5;28;01mif\u001b[39;00m node:\n\u001b[1;32m     26\u001b[0m         \u001b[38;5;28;01mreturn\u001b[39;00m node\n",
      "File \u001b[0;32m~/Projects/invana/invana-connectors/.venv/lib/python3.8/site-packages/neomodel/match.py:619\u001b[0m, in \u001b[0;36mNodeSet.get_or_none\u001b[0;34m(self, **kwargs)\u001b[0m\n\u001b[1;32m    612\u001b[0m \u001b[38;5;250m\u001b[39m\u001b[38;5;124;03m\"\"\"\u001b[39;00m\n\u001b[1;32m    613\u001b[0m \u001b[38;5;124;03mRetrieve a node from the set matching supplied parameters or return none\u001b[39;00m\n\u001b[1;32m    614\u001b[0m \n\u001b[1;32m    615\u001b[0m \u001b[38;5;124;03m:param kwargs: same syntax as `filter()`\u001b[39;00m\n\u001b[1;32m    616\u001b[0m \u001b[38;5;124;03m:return: node or none\u001b[39;00m\n\u001b[1;32m    617\u001b[0m \u001b[38;5;124;03m\"\"\"\u001b[39;00m\n\u001b[1;32m    618\u001b[0m \u001b[38;5;28;01mtry\u001b[39;00m:\n\u001b[0;32m--> 619\u001b[0m     \u001b[38;5;28;01mreturn\u001b[39;00m \u001b[38;5;28;43mself\u001b[39;49m\u001b[38;5;241;43m.\u001b[39;49m\u001b[43mget\u001b[49m\u001b[43m(\u001b[49m\u001b[38;5;241;43m*\u001b[39;49m\u001b[38;5;241;43m*\u001b[39;49m\u001b[43mkwargs\u001b[49m\u001b[43m)\u001b[49m\n\u001b[1;32m    620\u001b[0m \u001b[38;5;28;01mexcept\u001b[39;00m \u001b[38;5;28mself\u001b[39m\u001b[38;5;241m.\u001b[39msource_class\u001b[38;5;241m.\u001b[39mDoesNotExist:\n\u001b[1;32m    621\u001b[0m     \u001b[38;5;28;01mpass\u001b[39;00m\n",
      "File \u001b[0;32m~/Projects/invana/invana-connectors/.venv/lib/python3.8/site-packages/neomodel/match.py:603\u001b[0m, in \u001b[0;36mNodeSet.get\u001b[0;34m(self, lazy, **kwargs)\u001b[0m\n\u001b[1;32m    596\u001b[0m \u001b[38;5;28;01mdef\u001b[39;00m \u001b[38;5;21mget\u001b[39m(\u001b[38;5;28mself\u001b[39m, lazy\u001b[38;5;241m=\u001b[39m\u001b[38;5;28;01mFalse\u001b[39;00m, \u001b[38;5;241m*\u001b[39m\u001b[38;5;241m*\u001b[39mkwargs):\n\u001b[1;32m    597\u001b[0m \u001b[38;5;250m    \u001b[39m\u001b[38;5;124;03m\"\"\"\u001b[39;00m\n\u001b[1;32m    598\u001b[0m \u001b[38;5;124;03m    Retrieve one node from the set matching supplied parameters\u001b[39;00m\n\u001b[1;32m    599\u001b[0m \u001b[38;5;124;03m    :param lazy: False by default, specify True to get nodes with id only without the parameters.\u001b[39;00m\n\u001b[1;32m    600\u001b[0m \u001b[38;5;124;03m    :param kwargs: same syntax as `filter()`\u001b[39;00m\n\u001b[1;32m    601\u001b[0m \u001b[38;5;124;03m    :return: node\u001b[39;00m\n\u001b[1;32m    602\u001b[0m \u001b[38;5;124;03m    \"\"\"\u001b[39;00m\n\u001b[0;32m--> 603\u001b[0m     result \u001b[38;5;241m=\u001b[39m \u001b[38;5;28;43mself\u001b[39;49m\u001b[38;5;241;43m.\u001b[39;49m\u001b[43m_get\u001b[49m\u001b[43m(\u001b[49m\u001b[43mlimit\u001b[49m\u001b[38;5;241;43m=\u001b[39;49m\u001b[38;5;241;43m2\u001b[39;49m\u001b[43m,\u001b[49m\u001b[43m \u001b[49m\u001b[43mlazy\u001b[49m\u001b[38;5;241;43m=\u001b[39;49m\u001b[43mlazy\u001b[49m\u001b[43m,\u001b[49m\u001b[43m \u001b[49m\u001b[38;5;241;43m*\u001b[39;49m\u001b[38;5;241;43m*\u001b[39;49m\u001b[43mkwargs\u001b[49m\u001b[43m)\u001b[49m\n\u001b[1;32m    604\u001b[0m     \u001b[38;5;28;01mif\u001b[39;00m \u001b[38;5;28mlen\u001b[39m(result) \u001b[38;5;241m>\u001b[39m \u001b[38;5;241m1\u001b[39m:\n\u001b[1;32m    605\u001b[0m         \u001b[38;5;28;01mraise\u001b[39;00m MultipleNodesReturned(\u001b[38;5;28mrepr\u001b[39m(kwargs))\n",
      "File \u001b[0;32m~/Projects/invana/invana-connectors/.venv/lib/python3.8/site-packages/neomodel/match.py:594\u001b[0m, in \u001b[0;36mNodeSet._get\u001b[0;34m(self, limit, lazy, **kwargs)\u001b[0m\n\u001b[1;32m    592\u001b[0m \u001b[38;5;28;01mif\u001b[39;00m limit:\n\u001b[1;32m    593\u001b[0m     \u001b[38;5;28mself\u001b[39m\u001b[38;5;241m.\u001b[39mlimit \u001b[38;5;241m=\u001b[39m limit\n\u001b[0;32m--> 594\u001b[0m \u001b[38;5;28;01mreturn\u001b[39;00m \u001b[38;5;28;43mself\u001b[39;49m\u001b[38;5;241;43m.\u001b[39;49m\u001b[43mquery_cls\u001b[49m\u001b[43m(\u001b[49m\u001b[38;5;28;43mself\u001b[39;49m\u001b[43m)\u001b[49m\u001b[38;5;241;43m.\u001b[39;49m\u001b[43mbuild_ast\u001b[49m\u001b[43m(\u001b[49m\u001b[43m)\u001b[49m\u001b[38;5;241m.\u001b[39m_execute(lazy)\n",
      "File \u001b[0;32m~/Projects/invana/invana-connectors/.venv/lib/python3.8/site-packages/neomodel/match.py:271\u001b[0m, in \u001b[0;36mQueryBuilder.build_ast\u001b[0;34m(self)\u001b[0m\n\u001b[1;32m    270\u001b[0m \u001b[38;5;28;01mdef\u001b[39;00m \u001b[38;5;21mbuild_ast\u001b[39m(\u001b[38;5;28mself\u001b[39m):\n\u001b[0;32m--> 271\u001b[0m     \u001b[38;5;28;43mself\u001b[39;49m\u001b[38;5;241;43m.\u001b[39;49m\u001b[43mbuild_source\u001b[49m\u001b[43m(\u001b[49m\u001b[38;5;28;43mself\u001b[39;49m\u001b[38;5;241;43m.\u001b[39;49m\u001b[43mnode_set\u001b[49m\u001b[43m)\u001b[49m\n\u001b[1;32m    273\u001b[0m     \u001b[38;5;28;01mif\u001b[39;00m \u001b[38;5;28mhasattr\u001b[39m(\u001b[38;5;28mself\u001b[39m\u001b[38;5;241m.\u001b[39mnode_set, \u001b[38;5;124m'\u001b[39m\u001b[38;5;124mskip\u001b[39m\u001b[38;5;124m'\u001b[39m):\n\u001b[1;32m    274\u001b[0m         \u001b[38;5;28mself\u001b[39m\u001b[38;5;241m.\u001b[39m_ast[\u001b[38;5;124m'\u001b[39m\u001b[38;5;124mskip\u001b[39m\u001b[38;5;124m'\u001b[39m] \u001b[38;5;241m=\u001b[39m \u001b[38;5;28mself\u001b[39m\u001b[38;5;241m.\u001b[39mnode_set\u001b[38;5;241m.\u001b[39mskip\n",
      "File \u001b[0;32m~/Projects/invana/invana-connectors/.venv/lib/python3.8/site-packages/neomodel/match.py:295\u001b[0m, in \u001b[0;36mQueryBuilder.build_source\u001b[0;34m(self, source)\u001b[0m\n\u001b[1;32m    292\u001b[0m         \u001b[38;5;28mself\u001b[39m\u001b[38;5;241m.\u001b[39mbuild_order_by(ident, source)\n\u001b[1;32m    294\u001b[0m     \u001b[38;5;28;01mif\u001b[39;00m source\u001b[38;5;241m.\u001b[39mfilters \u001b[38;5;129;01mor\u001b[39;00m source\u001b[38;5;241m.\u001b[39mq_filters:\n\u001b[0;32m--> 295\u001b[0m         \u001b[38;5;28;43mself\u001b[39;49m\u001b[38;5;241;43m.\u001b[39;49m\u001b[43mbuild_where_stmt\u001b[49m\u001b[43m(\u001b[49m\u001b[43mident\u001b[49m\u001b[43m,\u001b[49m\u001b[43m \u001b[49m\u001b[43msource\u001b[49m\u001b[38;5;241;43m.\u001b[39;49m\u001b[43mfilters\u001b[49m\u001b[43m,\u001b[49m\u001b[43m \u001b[49m\u001b[43msource\u001b[49m\u001b[38;5;241;43m.\u001b[39;49m\u001b[43mq_filters\u001b[49m\u001b[43m,\u001b[49m\u001b[43m \u001b[49m\u001b[43msource_class\u001b[49m\u001b[38;5;241;43m=\u001b[39;49m\u001b[43msource\u001b[49m\u001b[38;5;241;43m.\u001b[39;49m\u001b[43msource_class\u001b[49m\u001b[43m)\u001b[49m\n\u001b[1;32m    297\u001b[0m     \u001b[38;5;28;01mreturn\u001b[39;00m ident\n\u001b[1;32m    298\u001b[0m \u001b[38;5;28;01melif\u001b[39;00m \u001b[38;5;28misinstance\u001b[39m(source, StructuredNode):\n",
      "File \u001b[0;32m~/Projects/invana/invana-connectors/.venv/lib/python3.8/site-packages/neomodel/match.py:421\u001b[0m, in \u001b[0;36mQueryBuilder.build_where_stmt\u001b[0;34m(self, ident, filters, q_filters, source_class)\u001b[0m\n\u001b[1;32m    417\u001b[0m \u001b[38;5;250m\u001b[39m\u001b[38;5;124;03m\"\"\"\u001b[39;00m\n\u001b[1;32m    418\u001b[0m \u001b[38;5;124;03mconstruct a where statement from some filters\u001b[39;00m\n\u001b[1;32m    419\u001b[0m \u001b[38;5;124;03m\"\"\"\u001b[39;00m\n\u001b[1;32m    420\u001b[0m \u001b[38;5;28;01mif\u001b[39;00m q_filters \u001b[38;5;129;01mis\u001b[39;00m \u001b[38;5;129;01mnot\u001b[39;00m \u001b[38;5;28;01mNone\u001b[39;00m:\n\u001b[0;32m--> 421\u001b[0m     stmts \u001b[38;5;241m=\u001b[39m \u001b[38;5;28;43mself\u001b[39;49m\u001b[38;5;241;43m.\u001b[39;49m\u001b[43m_parse_q_filters\u001b[49m\u001b[43m(\u001b[49m\u001b[43mident\u001b[49m\u001b[43m,\u001b[49m\u001b[43m \u001b[49m\u001b[43mq_filters\u001b[49m\u001b[43m,\u001b[49m\u001b[43m \u001b[49m\u001b[43msource_class\u001b[49m\u001b[43m)\u001b[49m\n\u001b[1;32m    422\u001b[0m     \u001b[38;5;28;01mif\u001b[39;00m stmts:\n\u001b[1;32m    423\u001b[0m         \u001b[38;5;28mself\u001b[39m\u001b[38;5;241m.\u001b[39m_ast[\u001b[38;5;124m'\u001b[39m\u001b[38;5;124mwhere\u001b[39m\u001b[38;5;124m'\u001b[39m]\u001b[38;5;241m.\u001b[39mappend(stmts)\n",
      "File \u001b[0;32m~/Projects/invana/invana-connectors/.venv/lib/python3.8/site-packages/neomodel/match.py:394\u001b[0m, in \u001b[0;36mQueryBuilder._parse_q_filters\u001b[0;34m(self, ident, q, source_class)\u001b[0m\n\u001b[1;32m    392\u001b[0m \u001b[38;5;28;01mfor\u001b[39;00m child \u001b[38;5;129;01min\u001b[39;00m q\u001b[38;5;241m.\u001b[39mchildren:\n\u001b[1;32m    393\u001b[0m     \u001b[38;5;28;01mif\u001b[39;00m \u001b[38;5;28misinstance\u001b[39m(child, QBase):\n\u001b[0;32m--> 394\u001b[0m         q_childs \u001b[38;5;241m=\u001b[39m \u001b[38;5;28;43mself\u001b[39;49m\u001b[38;5;241;43m.\u001b[39;49m\u001b[43m_parse_q_filters\u001b[49m\u001b[43m(\u001b[49m\u001b[43mident\u001b[49m\u001b[43m,\u001b[49m\u001b[43m \u001b[49m\u001b[43mchild\u001b[49m\u001b[43m,\u001b[49m\u001b[43m \u001b[49m\u001b[43msource_class\u001b[49m\u001b[43m)\u001b[49m\n\u001b[1;32m    395\u001b[0m         \u001b[38;5;28;01mif\u001b[39;00m child\u001b[38;5;241m.\u001b[39mconnector \u001b[38;5;241m==\u001b[39m Q\u001b[38;5;241m.\u001b[39mOR:\n\u001b[1;32m    396\u001b[0m             q_childs \u001b[38;5;241m=\u001b[39m \u001b[38;5;124m\"\u001b[39m\u001b[38;5;124m(\u001b[39m\u001b[38;5;124m\"\u001b[39m \u001b[38;5;241m+\u001b[39m q_childs \u001b[38;5;241m+\u001b[39m \u001b[38;5;124m\"\u001b[39m\u001b[38;5;124m)\u001b[39m\u001b[38;5;124m\"\u001b[39m\n",
      "File \u001b[0;32m~/Projects/invana/invana-connectors/.venv/lib/python3.8/site-packages/neomodel/match.py:400\u001b[0m, in \u001b[0;36mQueryBuilder._parse_q_filters\u001b[0;34m(self, ident, q, source_class)\u001b[0m\n\u001b[1;32m    398\u001b[0m \u001b[38;5;28;01melse\u001b[39;00m:\n\u001b[1;32m    399\u001b[0m     kwargs \u001b[38;5;241m=\u001b[39m {child[\u001b[38;5;241m0\u001b[39m]: child[\u001b[38;5;241m1\u001b[39m]}\n\u001b[0;32m--> 400\u001b[0m     filters \u001b[38;5;241m=\u001b[39m \u001b[43mprocess_filter_args\u001b[49m\u001b[43m(\u001b[49m\u001b[43msource_class\u001b[49m\u001b[43m,\u001b[49m\u001b[43m \u001b[49m\u001b[43mkwargs\u001b[49m\u001b[43m)\u001b[49m\n\u001b[1;32m    401\u001b[0m     \u001b[38;5;28;01mfor\u001b[39;00m prop, op_and_val \u001b[38;5;129;01min\u001b[39;00m filters\u001b[38;5;241m.\u001b[39mitems():\n\u001b[1;32m    402\u001b[0m         op, val \u001b[38;5;241m=\u001b[39m op_and_val\n",
      "File \u001b[0;32m~/Projects/invana/invana-connectors/.venv/lib/python3.8/site-packages/neomodel/match.py:198\u001b[0m, in \u001b[0;36mprocess_filter_args\u001b[0;34m(cls, kwargs)\u001b[0m\n\u001b[1;32m    195\u001b[0m     operator \u001b[38;5;241m=\u001b[39m \u001b[38;5;124m'\u001b[39m\u001b[38;5;124m=\u001b[39m\u001b[38;5;124m'\u001b[39m\n\u001b[1;32m    197\u001b[0m \u001b[38;5;28;01mif\u001b[39;00m prop \u001b[38;5;129;01mnot\u001b[39;00m \u001b[38;5;129;01min\u001b[39;00m \u001b[38;5;28mcls\u001b[39m\u001b[38;5;241m.\u001b[39mdefined_properties(rels\u001b[38;5;241m=\u001b[39m\u001b[38;5;28;01mFalse\u001b[39;00m):\n\u001b[0;32m--> 198\u001b[0m     \u001b[38;5;28;01mraise\u001b[39;00m \u001b[38;5;167;01mValueError\u001b[39;00m(\u001b[38;5;124m\"\u001b[39m\u001b[38;5;124mNo such property \u001b[39m\u001b[38;5;132;01m{0}\u001b[39;00m\u001b[38;5;124m on \u001b[39m\u001b[38;5;132;01m{1}\u001b[39;00m\u001b[38;5;124m\"\u001b[39m\u001b[38;5;241m.\u001b[39mformat(prop, \u001b[38;5;28mcls\u001b[39m\u001b[38;5;241m.\u001b[39m\u001b[38;5;18m__name__\u001b[39m))\n\u001b[1;32m    200\u001b[0m property_obj \u001b[38;5;241m=\u001b[39m \u001b[38;5;28mgetattr\u001b[39m(\u001b[38;5;28mcls\u001b[39m, prop)\n\u001b[1;32m    201\u001b[0m \u001b[38;5;28;01mif\u001b[39;00m \u001b[38;5;28misinstance\u001b[39m(property_obj, AliasProperty):\n",
      "\u001b[0;31mValueError\u001b[0m: No such property name on Person"
     ]
    }
   ],
   "source": [
    "graph_backend.nodes.get_or_create(\"Person\", name = \"Ravi2\")"
   ]
  },
  {
   "cell_type": "code",
   "execution_count": null,
   "id": "9d8a4c28",
   "metadata": {
    "scrolled": true
   },
   "outputs": [],
   "source": []
  },
  {
   "cell_type": "code",
   "execution_count": null,
   "id": "e9b5a1ed",
   "metadata": {},
   "outputs": [],
   "source": [
    "graph_backend.nodes.get_or_none(\"Person\", name = \"Ravi\")"
   ]
  }
 ],
 "metadata": {
  "kernelspec": {
   "display_name": "Python 3 (ipykernel)",
   "language": "python",
   "name": "python3"
  },
  "language_info": {
   "codemirror_mode": {
    "name": "ipython",
    "version": 3
   },
   "file_extension": ".py",
   "mimetype": "text/x-python",
   "name": "python",
   "nbconvert_exporter": "python",
   "pygments_lexer": "ipython3",
   "version": "3.8.16"
  }
 },
 "nbformat": 4,
 "nbformat_minor": 5
}
