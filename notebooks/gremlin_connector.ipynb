{
 "cells": [
  {
   "cell_type": "code",
   "execution_count": 1,
   "id": "5976dec9",
   "metadata": {},
   "outputs": [],
   "source": [
    "# for installation specific branch\n",
    "#pip install git+https://github.com/invana/invana@refactor/invana-connectors2#egg=invana_connectors\n",
    "import sys\n",
    "sys.path.append(\"../\")"
   ]
  },
  {
   "cell_type": "code",
   "execution_count": 2,
   "id": "540c94fd",
   "metadata": {},
   "outputs": [
    {
     "ename": "TypeError",
     "evalue": "'NotImplementedType' object is not callable",
     "output_type": "error",
     "traceback": [
      "\u001b[0;31m---------------------------------------------------------------------------\u001b[0m",
      "\u001b[0;31mTypeError\u001b[0m                                 Traceback (most recent call last)",
      "Cell \u001b[0;32mIn[2], line 3\u001b[0m\n\u001b[1;32m      1\u001b[0m \u001b[38;5;28;01mfrom\u001b[39;00m \u001b[38;5;21;01minvana_connectors\u001b[39;00m\u001b[38;5;21;01m.\u001b[39;00m\u001b[38;5;21;01mbackends\u001b[39;00m \u001b[38;5;28;01mimport\u001b[39;00m JanusGraphBackend, GenericGremlinBackend\n\u001b[0;32m----> 3\u001b[0m graph_backend \u001b[38;5;241m=\u001b[39m \u001b[43mGenericGremlinBackend\u001b[49m\u001b[43m(\u001b[49m\u001b[38;5;124;43m\"\u001b[39;49m\u001b[38;5;124;43mws://megamind.local:8182/gremlin\u001b[39;49m\u001b[38;5;124;43m\"\u001b[39;49m\u001b[43m)\u001b[49m\n",
      "File \u001b[0;32m~/Projects/invana/invana-connectors/notebooks/../invana_connectors/core/base/connector.py:33\u001b[0m, in \u001b[0;36mGraphConnectorBase.__new__\u001b[0;34m(cls, *args, **kwargs)\u001b[0m\n\u001b[1;32m     31\u001b[0m instance \u001b[38;5;241m=\u001b[39m \u001b[38;5;28msuper\u001b[39m(GraphConnectorBase, \u001b[38;5;28mcls\u001b[39m)\u001b[38;5;241m.\u001b[39m\u001b[38;5;21m__new__\u001b[39m(\u001b[38;5;28mcls\u001b[39m)\n\u001b[1;32m     32\u001b[0m \u001b[38;5;66;03m# instance = cls(*args, **kwargs)\u001b[39;00m\n\u001b[0;32m---> 33\u001b[0m instance\u001b[38;5;241m.\u001b[39mnodes \u001b[38;5;241m=\u001b[39m \u001b[43minstance\u001b[49m\u001b[38;5;241;43m.\u001b[39;49m\u001b[43mnodes_cls\u001b[49m\u001b[43m(\u001b[49m\u001b[43minstance\u001b[49m\u001b[43m)\u001b[49m\n\u001b[1;32m     34\u001b[0m instance\u001b[38;5;241m.\u001b[39mrelationships  \u001b[38;5;241m=\u001b[39m instance\u001b[38;5;241m.\u001b[39mrelationships_cls(instance)\n\u001b[1;32m     35\u001b[0m \u001b[38;5;28;01mreturn\u001b[39;00m instance\n",
      "\u001b[0;31mTypeError\u001b[0m: 'NotImplementedType' object is not callable"
     ]
    }
   ],
   "source": [
    "from invana_connectors.backends import JanusGraphBackend, GenericGremlinBackend\n",
    "\n",
    "graph_backend = GenericGremlinBackend(\"ws://megamind.local:8182/gremlin\")"
   ]
  },
  {
   "cell_type": "code",
   "execution_count": null,
   "id": "5f8bbbe9",
   "metadata": {},
   "outputs": [],
   "source": [
    "# add some data\n",
    "#graph_backend.execute_query(\"g.addV('Person').property('name', 'Ravi').next()\")"
   ]
  },
  {
   "cell_type": "code",
   "execution_count": null,
   "id": "abd4b68c",
   "metadata": {},
   "outputs": [],
   "source": [
    "result = graph_backend.execute_query(\"g.V().elementMap().limit(10).toList()\")\n",
    "print(result)\n",
    "print(result.data),\n"
   ]
  },
  {
   "cell_type": "code",
   "execution_count": null,
   "id": "5f317139",
   "metadata": {},
   "outputs": [],
   "source": [
    "graph_backend.close()"
   ]
  }
 ],
 "metadata": {
  "kernelspec": {
   "display_name": "Python 3 (ipykernel)",
   "language": "python",
   "name": "python3"
  },
  "language_info": {
   "codemirror_mode": {
    "name": "ipython",
    "version": 3
   },
   "file_extension": ".py",
   "mimetype": "text/x-python",
   "name": "python",
   "nbconvert_exporter": "python",
   "pygments_lexer": "ipython3",
   "version": "3.8.16"
  }
 },
 "nbformat": 4,
 "nbformat_minor": 5
}
