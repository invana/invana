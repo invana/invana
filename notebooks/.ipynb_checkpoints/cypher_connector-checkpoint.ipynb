{
 "cells": [
  {
   "cell_type": "code",
   "execution_count": 1,
   "id": "410d2f23",
   "metadata": {},
   "outputs": [],
   "source": [
    "# for installation specific branch\n",
    "#pip install git+https://github.com/invana/invana@refactor/invana-connectors2#egg=invana_connectors\n",
    "import sys\n",
    "sys.path.append(\"../\")"
   ]
  },
  {
   "cell_type": "code",
   "execution_count": 2,
   "id": "20676bb5",
   "metadata": {},
   "outputs": [],
   "source": [
    "from invana_connectors.backends import Neo4jBackend\n",
    "\n",
    "graph_backend = Neo4jBackend(\"neo4j://localhost:7687\", auth=(\"neo4j\", \"test\"))"
   ]
  },
  {
   "cell_type": "code",
   "execution_count": 3,
   "id": "f627a4e6",
   "metadata": {},
   "outputs": [
    {
     "name": "stdout",
     "output_type": "stream",
     "text": [
      "[<Node:ADEPTJob id=\"1387\" project_id=3 job_id=124 name=124 >, <Node:Project id=\"38\" project_type=cost_assessment project_id=3 name=oracle to postgres >, <RelationShip:has_job id=\"1396\" 38:Project -> has_job -> 1387:ADEPTJob >, <Node:ADEPTJob id=\"1186\" project_id=3 job_id=123 name=123 >, <Node:Project id=\"38\" project_type=cost_assessment project_id=3 name=oracle to postgres >, <RelationShip:has_job id=\"1192\" 38:Project -> has_job -> 1186:ADEPTJob >, <Node:ADEPTJob id=\"1086\" project_id=3 job_id=122 name=122 >, <Node:Project id=\"38\" project_type=cost_assessment project_id=3 name=oracle to postgres >, <RelationShip:has_job id=\"1092\" 38:Project -> has_job -> 1086:ADEPTJob >, <Node:ADEPTJob id=\"986\" project_id=3 job_id=121 name=121 >, <Node:Project id=\"38\" project_type=cost_assessment project_id=3 name=oracle to postgres >, <RelationShip:has_job id=\"992\" 38:Project -> has_job -> 986:ADEPTJob >, <Node:ADEPTJob id=\"935\" project_id=3 job_id=120 name=120 >, <Node:Project id=\"38\" project_type=cost_assessment project_id=3 name=oracle to postgres >, <RelationShip:has_job id=\"940\" 38:Project -> has_job -> 935:ADEPTJob >]\n"
     ]
    },
    {
     "name": "stderr",
     "output_type": "stream",
     "text": [
      "/Users/ravi.merugu/Projects/invana/invana-connectors/notebooks/../invana_connectors/cypher/connector.py:51: ExperimentalWarning: Driver.execute_query is experimental. It might be changed or removed any time even without prior notice.\n",
      "  records, summary, keys = self.driver.execute_query(query,  {},\n"
     ]
    }
   ],
   "source": [
    "records  = graph_backend.execute_query(\"match (n:ADEPTJob)<-[r:has_job]-(p:Project) return n, p,r  limit 5\")\n",
    "print(records.data)\n",
    " \n",
    "# print(result.data)"
   ]
  },
  {
   "cell_type": "code",
   "execution_count": 4,
   "id": "60b94ffe",
   "metadata": {},
   "outputs": [],
   "source": [
    "# from neo4j import GraphDatabase\n",
    "# import neo4j\n",
    "\n",
    "\n",
    "# uri = \"neo4j://localhost:7687\"\n",
    "# with GraphDatabase.driver(uri, auth=(\"neo4j\", \"test\")) as driver:\n",
    "#     records, summary, keys = driver.execute_query(\n",
    "#         \"MATCH (p:ADEPTJob) RETURN p.name\",{},\n",
    "#         routing_=neo4j.RoutingControl.READERS,  # or just \"r\"\n",
    "#         database_=\"neo4j\",\n",
    "#     )\n",
    "#     print(\"records\", records)"
   ]
  },
  {
   "cell_type": "code",
   "execution_count": null,
   "id": "2cceb5c8",
   "metadata": {},
   "outputs": [],
   "source": []
  }
 ],
 "metadata": {
  "kernelspec": {
   "display_name": "Python 3 (ipykernel)",
   "language": "python",
   "name": "python3"
  },
  "language_info": {
   "codemirror_mode": {
    "name": "ipython",
    "version": 3
   },
   "file_extension": ".py",
   "mimetype": "text/x-python",
   "name": "python",
   "nbconvert_exporter": "python",
   "pygments_lexer": "ipython3",
   "version": "3.8.16"
  }
 },
 "nbformat": 4,
 "nbformat_minor": 5
}
