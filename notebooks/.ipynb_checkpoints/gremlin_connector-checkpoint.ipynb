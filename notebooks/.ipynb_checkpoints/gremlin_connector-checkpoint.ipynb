{
 "cells": [
  {
   "cell_type": "code",
   "execution_count": 8,
   "id": "5976dec9",
   "metadata": {},
   "outputs": [],
   "source": [
    "# for installation specific branch\n",
    "#pip install git+https://github.com/invana/invana@refactor/invana-connectors2#egg=invana_connectors\n",
    "import sys\n",
    "sys.path.append(\"../\")"
   ]
  },
  {
   "cell_type": "code",
   "execution_count": 9,
   "id": "540c94fd",
   "metadata": {},
   "outputs": [],
   "source": [
    "from invana_connectors.backends import JanusGraphBackend, GenericGremlinBackend\n",
    "\n",
    "graph_backend = GenericGremlinBackend(\"ws://megamind.local:8182/gremlin\")"
   ]
  },
  {
   "cell_type": "code",
   "execution_count": 10,
   "id": "5f8bbbe9",
   "metadata": {},
   "outputs": [],
   "source": [
    "# add some data\n",
    "#graph_backend.execute_query(\"g.addV('Person').property('name', 'Ravi').next()\")"
   ]
  },
  {
   "cell_type": "code",
   "execution_count": 11,
   "id": "abd4b68c",
   "metadata": {},
   "outputs": [
    {
     "name": "stdout",
     "output_type": "stream",
     "text": [
      "<Response:e48c341a-e0ec-4615-b544-1a3f4a527afe status_code=200>\n",
      "[<Node:Person id=\"4160\" name=Ravi >]\n"
     ]
    }
   ],
   "source": [
    "result = graph_backend.execute_query(\"g.V().elementMap().limit(10).toList()\")\n",
    "print(result)\n",
    "print(result.data)"
   ]
  },
  {
   "cell_type": "code",
   "execution_count": 12,
   "id": "5f317139",
   "metadata": {},
   "outputs": [],
   "source": [
    "graph_backend.close()"
   ]
  }
 ],
 "metadata": {
  "kernelspec": {
   "display_name": "Python 3 (ipykernel)",
   "language": "python",
   "name": "python3"
  },
  "language_info": {
   "codemirror_mode": {
    "name": "ipython",
    "version": 3
   },
   "file_extension": ".py",
   "mimetype": "text/x-python",
   "name": "python",
   "nbconvert_exporter": "python",
   "pygments_lexer": "ipython3",
   "version": "3.8.16"
  }
 },
 "nbformat": 4,
 "nbformat_minor": 5
}
